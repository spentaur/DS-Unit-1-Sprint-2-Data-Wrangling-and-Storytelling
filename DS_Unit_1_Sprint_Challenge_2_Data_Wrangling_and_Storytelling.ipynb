{
  "nbformat": 4,
  "nbformat_minor": 0,
  "metadata": {
    "colab": {
      "name": "DS_Unit_1_Sprint_Challenge_2_Data_Wrangling_and_Storytelling.ipynb",
      "version": "0.3.2",
      "provenance": [],
      "collapsed_sections": [],
      "include_colab_link": true
    },
    "language_info": {
      "codemirror_mode": {
        "name": "ipython",
        "version": 3
      },
      "file_extension": ".py",
      "mimetype": "text/x-python",
      "name": "python",
      "nbconvert_exporter": "python",
      "pygments_lexer": "ipython3",
      "version": "3.7.1"
    },
    "kernelspec": {
      "display_name": "Python 3",
      "language": "python",
      "name": "python3"
    }
  },
  "cells": [
    {
      "cell_type": "markdown",
      "metadata": {
        "id": "view-in-github",
        "colab_type": "text"
      },
      "source": [
        "<a href=\"https://colab.research.google.com/github/spentaur/DS-Unit-1-Sprint-2-Data-Wrangling-and-Storytelling/blob/master/DS_Unit_1_Sprint_Challenge_2_Data_Wrangling_and_Storytelling.ipynb\" target=\"_parent\"><img src=\"https://colab.research.google.com/assets/colab-badge.svg\" alt=\"Open In Colab\"/></a>"
      ]
    },
    {
      "cell_type": "markdown",
      "metadata": {
        "colab_type": "text",
        "id": "4yMHi_PX9hEz"
      },
      "source": [
        "# Data Science Unit 1 Sprint Challenge 2\n",
        "\n",
        "## Data Wrangling and Storytelling\n",
        "\n",
        "Taming data from its raw form into informative insights and stories."
      ]
    },
    {
      "cell_type": "markdown",
      "metadata": {
        "id": "9wIvtOss9H_i",
        "colab_type": "text"
      },
      "source": [
        "## Data Wrangling\n",
        "\n",
        "In this Sprint Challenge you will first \"wrangle\" some data from [Gapminder](https://www.gapminder.org/about-gapminder/), a Swedish non-profit co-founded by Hans Rosling. \"Gapminder produces free teaching resources making the world understandable based on reliable statistics.\"\n",
        "- [Cell phones (total), by country and year](https://raw.githubusercontent.com/open-numbers/ddf--gapminder--systema_globalis/master/ddf--datapoints--cell_phones_total--by--geo--time.csv)\n",
        "- [Population (total), by country and year](https://raw.githubusercontent.com/open-numbers/ddf--gapminder--systema_globalis/master/ddf--datapoints--population_total--by--geo--time.csv)\n",
        "- [Geo country codes](https://github.com/open-numbers/ddf--gapminder--systema_globalis/blob/master/ddf--entities--geo--country.csv)\n",
        "\n",
        "These two links have everything you need to successfully complete the first part of this sprint challenge.\n",
        "- [Pandas documentation: Working with Text Data](https://pandas.pydata.org/pandas-docs/stable/text.html) (one question)\n",
        "- [Pandas Cheat Sheet](https://github.com/pandas-dev/pandas/blob/master/doc/cheatsheet/Pandas_Cheat_Sheet.pdf) (everything else)"
      ]
    },
    {
      "cell_type": "markdown",
      "metadata": {
        "colab_type": "text",
        "id": "wWEU2GemX68A"
      },
      "source": [
        "### Part 0. Load data\n",
        "\n",
        "You don't need to add or change anything here. Just run this cell and it loads the data for you, into three dataframes."
      ]
    },
    {
      "cell_type": "code",
      "metadata": {
        "colab_type": "code",
        "id": "bxKtSi5sRQOl",
        "colab": {}
      },
      "source": [
        "import pandas as pd\n",
        "\n",
        "cell_phones = pd.read_csv('https://raw.githubusercontent.com/open-numbers/ddf--gapminder--systema_globalis/master/ddf--datapoints--cell_phones_total--by--geo--time.csv')\n",
        "\n",
        "population = pd.read_csv('https://raw.githubusercontent.com/open-numbers/ddf--gapminder--systema_globalis/master/ddf--datapoints--population_total--by--geo--time.csv')\n",
        "\n",
        "geo_country_codes = (pd.read_csv('https://raw.githubusercontent.com/open-numbers/ddf--gapminder--systema_globalis/master/ddf--entities--geo--country.csv')\n",
        "                       .rename(columns={'country': 'geo', 'name': 'country'}))"
      ],
      "execution_count": 0,
      "outputs": []
    },
    {
      "cell_type": "code",
      "metadata": {
        "id": "lEZ5ZZUvJJYD",
        "colab_type": "code",
        "colab": {}
      },
      "source": [
        ""
      ],
      "execution_count": 0,
      "outputs": []
    },
    {
      "cell_type": "code",
      "metadata": {
        "id": "8KRmxK3dDYpa",
        "colab_type": "code",
        "colab": {}
      },
      "source": [
        "def start():\n",
        "    options = {\n",
        "        'display': {\n",
        "            'max_columns': None,\n",
        "            'max_colwidth': 25,\n",
        "            'expand_frame_repr': False,  # Don't wrap to multiple pages\n",
        "            'max_rows': 50,\n",
        "            'max_seq_items': 50,         # Max length of printed sequence\n",
        "            'precision': 4,\n",
        "            'show_dimensions': False\n",
        "        },\n",
        "        'mode': {\n",
        "            'chained_assignment': None   # Controls SettingWithCopyWarning\n",
        "        }\n",
        "    }\n",
        "    for category, option in options.items():\n",
        "        for op, value in option.items():\n",
        "            pd.set_option(f'{category}.{op}', value)  # Python 3.6+\n",
        "start()"
      ],
      "execution_count": 0,
      "outputs": []
    },
    {
      "cell_type": "markdown",
      "metadata": {
        "colab_type": "text",
        "id": "AZmVTeCsX9RC"
      },
      "source": [
        "### Part 1. Join data"
      ]
    },
    {
      "cell_type": "markdown",
      "metadata": {
        "colab_type": "text",
        "id": "GLzX58u4SfEy"
      },
      "source": [
        "First, join the `cell_phones` and `population` dataframes (with an inner join on `geo` and `time`).\n",
        "\n",
        "The resulting dataframe's shape should be: (8590, 4)"
      ]
    },
    {
      "cell_type": "code",
      "metadata": {
        "colab_type": "code",
        "id": "GVV7Hnj4SXBa",
        "outputId": "8fc59af4-8283-4403-b9a1-90366605b4f4",
        "colab": {
          "base_uri": "https://localhost:8080/",
          "height": 1000
        }
      },
      "source": [
        "cell_phones.sort_values(by=\"time\")"
      ],
      "execution_count": 3,
      "outputs": [
        {
          "output_type": "execute_result",
          "data": {
            "text/html": [
              "<div>\n",
              "<style scoped>\n",
              "    .dataframe tbody tr th:only-of-type {\n",
              "        vertical-align: middle;\n",
              "    }\n",
              "\n",
              "    .dataframe tbody tr th {\n",
              "        vertical-align: top;\n",
              "    }\n",
              "\n",
              "    .dataframe thead th {\n",
              "        text-align: right;\n",
              "    }\n",
              "</style>\n",
              "<table border=\"1\" class=\"dataframe\">\n",
              "  <thead>\n",
              "    <tr style=\"text-align: right;\">\n",
              "      <th></th>\n",
              "      <th>geo</th>\n",
              "      <th>time</th>\n",
              "      <th>cell_phones_total</th>\n",
              "    </tr>\n",
              "  </thead>\n",
              "  <tbody>\n",
              "    <tr>\n",
              "      <th>0</th>\n",
              "      <td>abw</td>\n",
              "      <td>1960</td>\n",
              "      <td>0.0000e+00</td>\n",
              "    </tr>\n",
              "    <tr>\n",
              "      <th>8989</th>\n",
              "      <td>wsm</td>\n",
              "      <td>1960</td>\n",
              "      <td>0.0000e+00</td>\n",
              "    </tr>\n",
              "    <tr>\n",
              "      <th>7133</th>\n",
              "      <td>rus</td>\n",
              "      <td>1960</td>\n",
              "      <td>0.0000e+00</td>\n",
              "    </tr>\n",
              "    <tr>\n",
              "      <th>2790</th>\n",
              "      <td>fra</td>\n",
              "      <td>1960</td>\n",
              "      <td>0.0000e+00</td>\n",
              "    </tr>\n",
              "    <tr>\n",
              "      <th>7087</th>\n",
              "      <td>rou</td>\n",
              "      <td>1960</td>\n",
              "      <td>0.0000e+00</td>\n",
              "    </tr>\n",
              "    <tr>\n",
              "      <th>2836</th>\n",
              "      <td>fro</td>\n",
              "      <td>1960</td>\n",
              "      <td>0.0000e+00</td>\n",
              "    </tr>\n",
              "    <tr>\n",
              "      <th>2880</th>\n",
              "      <td>fsm</td>\n",
              "      <td>1960</td>\n",
              "      <td>0.0000e+00</td>\n",
              "    </tr>\n",
              "    <tr>\n",
              "      <th>307</th>\n",
              "      <td>arm</td>\n",
              "      <td>1960</td>\n",
              "      <td>0.0000e+00</td>\n",
              "    </tr>\n",
              "    <tr>\n",
              "      <th>2925</th>\n",
              "      <td>gab</td>\n",
              "      <td>1960</td>\n",
              "      <td>0.0000e+00</td>\n",
              "    </tr>\n",
              "    <tr>\n",
              "      <th>2971</th>\n",
              "      <td>gbr</td>\n",
              "      <td>1960</td>\n",
              "      <td>0.0000e+00</td>\n",
              "    </tr>\n",
              "    <tr>\n",
              "      <th>6936</th>\n",
              "      <td>pry</td>\n",
              "      <td>1960</td>\n",
              "      <td>0.0000e+00</td>\n",
              "    </tr>\n",
              "    <tr>\n",
              "      <th>3017</th>\n",
              "      <td>geo</td>\n",
              "      <td>1960</td>\n",
              "      <td>0.0000e+00</td>\n",
              "    </tr>\n",
              "    <tr>\n",
              "      <th>6890</th>\n",
              "      <td>prt</td>\n",
              "      <td>1960</td>\n",
              "      <td>0.0000e+00</td>\n",
              "    </tr>\n",
              "    <tr>\n",
              "      <th>3063</th>\n",
              "      <td>gha</td>\n",
              "      <td>1960</td>\n",
              "      <td>0.0000e+00</td>\n",
              "    </tr>\n",
              "    <tr>\n",
              "      <th>3109</th>\n",
              "      <td>gib</td>\n",
              "      <td>1960</td>\n",
              "      <td>0.0000e+00</td>\n",
              "    </tr>\n",
              "    <tr>\n",
              "      <th>7004</th>\n",
              "      <td>pyf</td>\n",
              "      <td>1960</td>\n",
              "      <td>0.0000e+00</td>\n",
              "    </tr>\n",
              "    <tr>\n",
              "      <th>2744</th>\n",
              "      <td>fji</td>\n",
              "      <td>1960</td>\n",
              "      <td>0.0000e+00</td>\n",
              "    </tr>\n",
              "    <tr>\n",
              "      <th>2698</th>\n",
              "      <td>fin</td>\n",
              "      <td>1960</td>\n",
              "      <td>0.0000e+00</td>\n",
              "    </tr>\n",
              "    <tr>\n",
              "      <th>7179</th>\n",
              "      <td>rwa</td>\n",
              "      <td>1960</td>\n",
              "      <td>0.0000e+00</td>\n",
              "    </tr>\n",
              "    <tr>\n",
              "      <th>7475</th>\n",
              "      <td>slv</td>\n",
              "      <td>1960</td>\n",
              "      <td>0.0000e+00</td>\n",
              "    </tr>\n",
              "    <tr>\n",
              "      <th>2337</th>\n",
              "      <td>dom</td>\n",
              "      <td>1960</td>\n",
              "      <td>0.0000e+00</td>\n",
              "    </tr>\n",
              "    <tr>\n",
              "      <th>353</th>\n",
              "      <td>asm</td>\n",
              "      <td>1960</td>\n",
              "      <td>0.0000e+00</td>\n",
              "    </tr>\n",
              "    <tr>\n",
              "      <th>7433</th>\n",
              "      <td>sle</td>\n",
              "      <td>1960</td>\n",
              "      <td>0.0000e+00</td>\n",
              "    </tr>\n",
              "    <tr>\n",
              "      <th>2380</th>\n",
              "      <td>dza</td>\n",
              "      <td>1960</td>\n",
              "      <td>0.0000e+00</td>\n",
              "    </tr>\n",
              "    <tr>\n",
              "      <th>2426</th>\n",
              "      <td>ecu</td>\n",
              "      <td>1960</td>\n",
              "      <td>0.0000e+00</td>\n",
              "    </tr>\n",
              "    <tr>\n",
              "      <th>...</th>\n",
              "      <td>...</td>\n",
              "      <td>...</td>\n",
              "      <td>...</td>\n",
              "    </tr>\n",
              "    <tr>\n",
              "      <th>7606</th>\n",
              "      <td>srb</td>\n",
              "      <td>2017</td>\n",
              "      <td>8.6269e+06</td>\n",
              "    </tr>\n",
              "    <tr>\n",
              "      <th>2199</th>\n",
              "      <td>deu</td>\n",
              "      <td>2017</td>\n",
              "      <td>1.0600e+08</td>\n",
              "    </tr>\n",
              "    <tr>\n",
              "      <th>8988</th>\n",
              "      <td>vut</td>\n",
              "      <td>2017</td>\n",
              "      <td>2.2802e+05</td>\n",
              "    </tr>\n",
              "    <tr>\n",
              "      <th>7547</th>\n",
              "      <td>smr</td>\n",
              "      <td>2017</td>\n",
              "      <td>3.8000e+04</td>\n",
              "    </tr>\n",
              "    <tr>\n",
              "      <th>2245</th>\n",
              "      <td>dji</td>\n",
              "      <td>2017</td>\n",
              "      <td>3.7305e+05</td>\n",
              "    </tr>\n",
              "    <tr>\n",
              "      <th>7520</th>\n",
              "      <td>slv</td>\n",
              "      <td>2017</td>\n",
              "      <td>9.9822e+06</td>\n",
              "    </tr>\n",
              "    <tr>\n",
              "      <th>2336</th>\n",
              "      <td>dnk</td>\n",
              "      <td>2017</td>\n",
              "      <td>6.9783e+06</td>\n",
              "    </tr>\n",
              "    <tr>\n",
              "      <th>7432</th>\n",
              "      <td>slb</td>\n",
              "      <td>2017</td>\n",
              "      <td>4.6533e+05</td>\n",
              "    </tr>\n",
              "    <tr>\n",
              "      <th>2379</th>\n",
              "      <td>dom</td>\n",
              "      <td>2017</td>\n",
              "      <td>8.7691e+06</td>\n",
              "    </tr>\n",
              "    <tr>\n",
              "      <th>2425</th>\n",
              "      <td>dza</td>\n",
              "      <td>2017</td>\n",
              "      <td>4.9873e+07</td>\n",
              "    </tr>\n",
              "    <tr>\n",
              "      <th>7386</th>\n",
              "      <td>sgp</td>\n",
              "      <td>2017</td>\n",
              "      <td>8.4628e+06</td>\n",
              "    </tr>\n",
              "    <tr>\n",
              "      <th>260</th>\n",
              "      <td>are</td>\n",
              "      <td>2017</td>\n",
              "      <td>1.9826e+07</td>\n",
              "    </tr>\n",
              "    <tr>\n",
              "      <th>2471</th>\n",
              "      <td>ecu</td>\n",
              "      <td>2017</td>\n",
              "      <td>1.3882e+07</td>\n",
              "    </tr>\n",
              "    <tr>\n",
              "      <th>7344</th>\n",
              "      <td>sen</td>\n",
              "      <td>2017</td>\n",
              "      <td>1.5758e+07</td>\n",
              "    </tr>\n",
              "    <tr>\n",
              "      <th>2517</th>\n",
              "      <td>egy</td>\n",
              "      <td>2017</td>\n",
              "      <td>1.0296e+08</td>\n",
              "    </tr>\n",
              "    <tr>\n",
              "      <th>7298</th>\n",
              "      <td>sdn</td>\n",
              "      <td>2017</td>\n",
              "      <td>2.8644e+07</td>\n",
              "    </tr>\n",
              "    <tr>\n",
              "      <th>2605</th>\n",
              "      <td>esp</td>\n",
              "      <td>2017</td>\n",
              "      <td>5.2485e+07</td>\n",
              "    </tr>\n",
              "    <tr>\n",
              "      <th>7252</th>\n",
              "      <td>sau</td>\n",
              "      <td>2017</td>\n",
              "      <td>4.0211e+07</td>\n",
              "    </tr>\n",
              "    <tr>\n",
              "      <th>5244</th>\n",
              "      <td>mar</td>\n",
              "      <td>2017</td>\n",
              "      <td>4.3916e+07</td>\n",
              "    </tr>\n",
              "    <tr>\n",
              "      <th>7224</th>\n",
              "      <td>rwa</td>\n",
              "      <td>2017</td>\n",
              "      <td>8.8192e+06</td>\n",
              "    </tr>\n",
              "    <tr>\n",
              "      <th>2651</th>\n",
              "      <td>est</td>\n",
              "      <td>2017</td>\n",
              "      <td>1.9044e+06</td>\n",
              "    </tr>\n",
              "    <tr>\n",
              "      <th>2697</th>\n",
              "      <td>eth</td>\n",
              "      <td>2017</td>\n",
              "      <td>6.2617e+07</td>\n",
              "    </tr>\n",
              "    <tr>\n",
              "      <th>7178</th>\n",
              "      <td>rus</td>\n",
              "      <td>2017</td>\n",
              "      <td>2.2734e+08</td>\n",
              "    </tr>\n",
              "    <tr>\n",
              "      <th>2743</th>\n",
              "      <td>fin</td>\n",
              "      <td>2017</td>\n",
              "      <td>7.3078e+06</td>\n",
              "    </tr>\n",
              "    <tr>\n",
              "      <th>9214</th>\n",
              "      <td>zwe</td>\n",
              "      <td>2017</td>\n",
              "      <td>1.4092e+07</td>\n",
              "    </tr>\n",
              "  </tbody>\n",
              "</table>\n",
              "</div>"
            ],
            "text/plain": [
              "      geo  time  cell_phones_total\n",
              "0     abw  1960         0.0000e+00\n",
              "8989  wsm  1960         0.0000e+00\n",
              "7133  rus  1960         0.0000e+00\n",
              "2790  fra  1960         0.0000e+00\n",
              "7087  rou  1960         0.0000e+00\n",
              "2836  fro  1960         0.0000e+00\n",
              "2880  fsm  1960         0.0000e+00\n",
              "307   arm  1960         0.0000e+00\n",
              "2925  gab  1960         0.0000e+00\n",
              "2971  gbr  1960         0.0000e+00\n",
              "6936  pry  1960         0.0000e+00\n",
              "3017  geo  1960         0.0000e+00\n",
              "6890  prt  1960         0.0000e+00\n",
              "3063  gha  1960         0.0000e+00\n",
              "3109  gib  1960         0.0000e+00\n",
              "7004  pyf  1960         0.0000e+00\n",
              "2744  fji  1960         0.0000e+00\n",
              "2698  fin  1960         0.0000e+00\n",
              "7179  rwa  1960         0.0000e+00\n",
              "7475  slv  1960         0.0000e+00\n",
              "2337  dom  1960         0.0000e+00\n",
              "353   asm  1960         0.0000e+00\n",
              "7433  sle  1960         0.0000e+00\n",
              "2380  dza  1960         0.0000e+00\n",
              "2426  ecu  1960         0.0000e+00\n",
              "...   ...   ...                ...\n",
              "7606  srb  2017         8.6269e+06\n",
              "2199  deu  2017         1.0600e+08\n",
              "8988  vut  2017         2.2802e+05\n",
              "7547  smr  2017         3.8000e+04\n",
              "2245  dji  2017         3.7305e+05\n",
              "7520  slv  2017         9.9822e+06\n",
              "2336  dnk  2017         6.9783e+06\n",
              "7432  slb  2017         4.6533e+05\n",
              "2379  dom  2017         8.7691e+06\n",
              "2425  dza  2017         4.9873e+07\n",
              "7386  sgp  2017         8.4628e+06\n",
              "260   are  2017         1.9826e+07\n",
              "2471  ecu  2017         1.3882e+07\n",
              "7344  sen  2017         1.5758e+07\n",
              "2517  egy  2017         1.0296e+08\n",
              "7298  sdn  2017         2.8644e+07\n",
              "2605  esp  2017         5.2485e+07\n",
              "7252  sau  2017         4.0211e+07\n",
              "5244  mar  2017         4.3916e+07\n",
              "7224  rwa  2017         8.8192e+06\n",
              "2651  est  2017         1.9044e+06\n",
              "2697  eth  2017         6.2617e+07\n",
              "7178  rus  2017         2.2734e+08\n",
              "2743  fin  2017         7.3078e+06\n",
              "9214  zwe  2017         1.4092e+07"
            ]
          },
          "metadata": {
            "tags": []
          },
          "execution_count": 3
        }
      ]
    },
    {
      "cell_type": "code",
      "metadata": {
        "id": "7igSD3wABQCi",
        "colab_type": "code",
        "outputId": "4989b307-352f-4a54-f9e0-4715dd85d87e",
        "colab": {
          "base_uri": "https://localhost:8080/",
          "height": 1000
        }
      },
      "source": [
        "population.loc[population['time'] < 2018].tail(50)"
      ],
      "execution_count": 4,
      "outputs": [
        {
          "output_type": "execute_result",
          "data": {
            "text/html": [
              "<div>\n",
              "<style scoped>\n",
              "    .dataframe tbody tr th:only-of-type {\n",
              "        vertical-align: middle;\n",
              "    }\n",
              "\n",
              "    .dataframe tbody tr th {\n",
              "        vertical-align: top;\n",
              "    }\n",
              "\n",
              "    .dataframe thead th {\n",
              "        text-align: right;\n",
              "    }\n",
              "</style>\n",
              "<table border=\"1\" class=\"dataframe\">\n",
              "  <thead>\n",
              "    <tr style=\"text-align: right;\">\n",
              "      <th></th>\n",
              "      <th>geo</th>\n",
              "      <th>time</th>\n",
              "      <th>population_total</th>\n",
              "    </tr>\n",
              "  </thead>\n",
              "  <tbody>\n",
              "    <tr>\n",
              "      <th>59164</th>\n",
              "      <td>zwe</td>\n",
              "      <td>1968</td>\n",
              "      <td>4851431</td>\n",
              "    </tr>\n",
              "    <tr>\n",
              "      <th>59165</th>\n",
              "      <td>zwe</td>\n",
              "      <td>1969</td>\n",
              "      <td>5009514</td>\n",
              "    </tr>\n",
              "    <tr>\n",
              "      <th>59166</th>\n",
              "      <td>zwe</td>\n",
              "      <td>1970</td>\n",
              "      <td>5175618</td>\n",
              "    </tr>\n",
              "    <tr>\n",
              "      <th>59167</th>\n",
              "      <td>zwe</td>\n",
              "      <td>1971</td>\n",
              "      <td>5351195</td>\n",
              "    </tr>\n",
              "    <tr>\n",
              "      <th>59168</th>\n",
              "      <td>zwe</td>\n",
              "      <td>1972</td>\n",
              "      <td>5535874</td>\n",
              "    </tr>\n",
              "    <tr>\n",
              "      <th>59169</th>\n",
              "      <td>zwe</td>\n",
              "      <td>1973</td>\n",
              "      <td>5727044</td>\n",
              "    </tr>\n",
              "    <tr>\n",
              "      <th>59170</th>\n",
              "      <td>zwe</td>\n",
              "      <td>1974</td>\n",
              "      <td>5920943</td>\n",
              "    </tr>\n",
              "    <tr>\n",
              "      <th>59171</th>\n",
              "      <td>zwe</td>\n",
              "      <td>1975</td>\n",
              "      <td>6115370</td>\n",
              "    </tr>\n",
              "    <tr>\n",
              "      <th>59172</th>\n",
              "      <td>zwe</td>\n",
              "      <td>1976</td>\n",
              "      <td>6308300</td>\n",
              "    </tr>\n",
              "    <tr>\n",
              "      <th>59173</th>\n",
              "      <td>zwe</td>\n",
              "      <td>1977</td>\n",
              "      <td>6501893</td>\n",
              "    </tr>\n",
              "    <tr>\n",
              "      <th>59174</th>\n",
              "      <td>zwe</td>\n",
              "      <td>1978</td>\n",
              "      <td>6703182</td>\n",
              "    </tr>\n",
              "    <tr>\n",
              "      <th>59175</th>\n",
              "      <td>zwe</td>\n",
              "      <td>1979</td>\n",
              "      <td>6921790</td>\n",
              "    </tr>\n",
              "    <tr>\n",
              "      <th>59176</th>\n",
              "      <td>zwe</td>\n",
              "      <td>1980</td>\n",
              "      <td>7164172</td>\n",
              "    </tr>\n",
              "    <tr>\n",
              "      <th>59177</th>\n",
              "      <td>zwe</td>\n",
              "      <td>1981</td>\n",
              "      <td>7431940</td>\n",
              "    </tr>\n",
              "    <tr>\n",
              "      <th>59178</th>\n",
              "      <td>zwe</td>\n",
              "      <td>1982</td>\n",
              "      <td>7721536</td>\n",
              "    </tr>\n",
              "    <tr>\n",
              "      <th>59179</th>\n",
              "      <td>zwe</td>\n",
              "      <td>1983</td>\n",
              "      <td>8027565</td>\n",
              "    </tr>\n",
              "    <tr>\n",
              "      <th>59180</th>\n",
              "      <td>zwe</td>\n",
              "      <td>1984</td>\n",
              "      <td>8342195</td>\n",
              "    </tr>\n",
              "    <tr>\n",
              "      <th>59181</th>\n",
              "      <td>zwe</td>\n",
              "      <td>1985</td>\n",
              "      <td>8658857</td>\n",
              "    </tr>\n",
              "    <tr>\n",
              "      <th>59182</th>\n",
              "      <td>zwe</td>\n",
              "      <td>1986</td>\n",
              "      <td>8976205</td>\n",
              "    </tr>\n",
              "    <tr>\n",
              "      <th>59183</th>\n",
              "      <td>zwe</td>\n",
              "      <td>1987</td>\n",
              "      <td>9293283</td>\n",
              "    </tr>\n",
              "    <tr>\n",
              "      <th>59184</th>\n",
              "      <td>zwe</td>\n",
              "      <td>1988</td>\n",
              "      <td>9604302</td>\n",
              "    </tr>\n",
              "    <tr>\n",
              "      <th>59185</th>\n",
              "      <td>zwe</td>\n",
              "      <td>1989</td>\n",
              "      <td>9902540</td>\n",
              "    </tr>\n",
              "    <tr>\n",
              "      <th>59186</th>\n",
              "      <td>zwe</td>\n",
              "      <td>1990</td>\n",
              "      <td>10183113</td>\n",
              "    </tr>\n",
              "    <tr>\n",
              "      <th>59187</th>\n",
              "      <td>zwe</td>\n",
              "      <td>1991</td>\n",
              "      <td>10443043</td>\n",
              "    </tr>\n",
              "    <tr>\n",
              "      <th>59188</th>\n",
              "      <td>zwe</td>\n",
              "      <td>1992</td>\n",
              "      <td>10682868</td>\n",
              "    </tr>\n",
              "    <tr>\n",
              "      <th>59189</th>\n",
              "      <td>zwe</td>\n",
              "      <td>1993</td>\n",
              "      <td>10905756</td>\n",
              "    </tr>\n",
              "    <tr>\n",
              "      <th>59190</th>\n",
              "      <td>zwe</td>\n",
              "      <td>1994</td>\n",
              "      <td>11116948</td>\n",
              "    </tr>\n",
              "    <tr>\n",
              "      <th>59191</th>\n",
              "      <td>zwe</td>\n",
              "      <td>1995</td>\n",
              "      <td>11320346</td>\n",
              "    </tr>\n",
              "    <tr>\n",
              "      <th>59192</th>\n",
              "      <td>zwe</td>\n",
              "      <td>1996</td>\n",
              "      <td>11518262</td>\n",
              "    </tr>\n",
              "    <tr>\n",
              "      <th>59193</th>\n",
              "      <td>zwe</td>\n",
              "      <td>1997</td>\n",
              "      <td>11709997</td>\n",
              "    </tr>\n",
              "    <tr>\n",
              "      <th>59194</th>\n",
              "      <td>zwe</td>\n",
              "      <td>1998</td>\n",
              "      <td>11893272</td>\n",
              "    </tr>\n",
              "    <tr>\n",
              "      <th>59195</th>\n",
              "      <td>zwe</td>\n",
              "      <td>1999</td>\n",
              "      <td>12064537</td>\n",
              "    </tr>\n",
              "    <tr>\n",
              "      <th>59196</th>\n",
              "      <td>zwe</td>\n",
              "      <td>2000</td>\n",
              "      <td>12222251</td>\n",
              "    </tr>\n",
              "    <tr>\n",
              "      <th>59197</th>\n",
              "      <td>zwe</td>\n",
              "      <td>2001</td>\n",
              "      <td>12366165</td>\n",
              "    </tr>\n",
              "    <tr>\n",
              "      <th>59198</th>\n",
              "      <td>zwe</td>\n",
              "      <td>2002</td>\n",
              "      <td>12500525</td>\n",
              "    </tr>\n",
              "    <tr>\n",
              "      <th>59199</th>\n",
              "      <td>zwe</td>\n",
              "      <td>2003</td>\n",
              "      <td>12633897</td>\n",
              "    </tr>\n",
              "    <tr>\n",
              "      <th>59200</th>\n",
              "      <td>zwe</td>\n",
              "      <td>2004</td>\n",
              "      <td>12777511</td>\n",
              "    </tr>\n",
              "    <tr>\n",
              "      <th>59201</th>\n",
              "      <td>zwe</td>\n",
              "      <td>2005</td>\n",
              "      <td>12940032</td>\n",
              "    </tr>\n",
              "    <tr>\n",
              "      <th>59202</th>\n",
              "      <td>zwe</td>\n",
              "      <td>2006</td>\n",
              "      <td>13124267</td>\n",
              "    </tr>\n",
              "    <tr>\n",
              "      <th>59203</th>\n",
              "      <td>zwe</td>\n",
              "      <td>2007</td>\n",
              "      <td>13329909</td>\n",
              "    </tr>\n",
              "    <tr>\n",
              "      <th>59204</th>\n",
              "      <td>zwe</td>\n",
              "      <td>2008</td>\n",
              "      <td>13558469</td>\n",
              "    </tr>\n",
              "    <tr>\n",
              "      <th>59205</th>\n",
              "      <td>zwe</td>\n",
              "      <td>2009</td>\n",
              "      <td>13810599</td>\n",
              "    </tr>\n",
              "    <tr>\n",
              "      <th>59206</th>\n",
              "      <td>zwe</td>\n",
              "      <td>2010</td>\n",
              "      <td>14086317</td>\n",
              "    </tr>\n",
              "    <tr>\n",
              "      <th>59207</th>\n",
              "      <td>zwe</td>\n",
              "      <td>2011</td>\n",
              "      <td>14386649</td>\n",
              "    </tr>\n",
              "    <tr>\n",
              "      <th>59208</th>\n",
              "      <td>zwe</td>\n",
              "      <td>2012</td>\n",
              "      <td>14710826</td>\n",
              "    </tr>\n",
              "    <tr>\n",
              "      <th>59209</th>\n",
              "      <td>zwe</td>\n",
              "      <td>2013</td>\n",
              "      <td>15054506</td>\n",
              "    </tr>\n",
              "    <tr>\n",
              "      <th>59210</th>\n",
              "      <td>zwe</td>\n",
              "      <td>2014</td>\n",
              "      <td>15411675</td>\n",
              "    </tr>\n",
              "    <tr>\n",
              "      <th>59211</th>\n",
              "      <td>zwe</td>\n",
              "      <td>2015</td>\n",
              "      <td>15777451</td>\n",
              "    </tr>\n",
              "    <tr>\n",
              "      <th>59212</th>\n",
              "      <td>zwe</td>\n",
              "      <td>2016</td>\n",
              "      <td>16150362</td>\n",
              "    </tr>\n",
              "    <tr>\n",
              "      <th>59213</th>\n",
              "      <td>zwe</td>\n",
              "      <td>2017</td>\n",
              "      <td>16529904</td>\n",
              "    </tr>\n",
              "  </tbody>\n",
              "</table>\n",
              "</div>"
            ],
            "text/plain": [
              "       geo  time  population_total\n",
              "59164  zwe  1968           4851431\n",
              "59165  zwe  1969           5009514\n",
              "59166  zwe  1970           5175618\n",
              "59167  zwe  1971           5351195\n",
              "59168  zwe  1972           5535874\n",
              "59169  zwe  1973           5727044\n",
              "59170  zwe  1974           5920943\n",
              "59171  zwe  1975           6115370\n",
              "59172  zwe  1976           6308300\n",
              "59173  zwe  1977           6501893\n",
              "59174  zwe  1978           6703182\n",
              "59175  zwe  1979           6921790\n",
              "59176  zwe  1980           7164172\n",
              "59177  zwe  1981           7431940\n",
              "59178  zwe  1982           7721536\n",
              "59179  zwe  1983           8027565\n",
              "59180  zwe  1984           8342195\n",
              "59181  zwe  1985           8658857\n",
              "59182  zwe  1986           8976205\n",
              "59183  zwe  1987           9293283\n",
              "59184  zwe  1988           9604302\n",
              "59185  zwe  1989           9902540\n",
              "59186  zwe  1990          10183113\n",
              "59187  zwe  1991          10443043\n",
              "59188  zwe  1992          10682868\n",
              "59189  zwe  1993          10905756\n",
              "59190  zwe  1994          11116948\n",
              "59191  zwe  1995          11320346\n",
              "59192  zwe  1996          11518262\n",
              "59193  zwe  1997          11709997\n",
              "59194  zwe  1998          11893272\n",
              "59195  zwe  1999          12064537\n",
              "59196  zwe  2000          12222251\n",
              "59197  zwe  2001          12366165\n",
              "59198  zwe  2002          12500525\n",
              "59199  zwe  2003          12633897\n",
              "59200  zwe  2004          12777511\n",
              "59201  zwe  2005          12940032\n",
              "59202  zwe  2006          13124267\n",
              "59203  zwe  2007          13329909\n",
              "59204  zwe  2008          13558469\n",
              "59205  zwe  2009          13810599\n",
              "59206  zwe  2010          14086317\n",
              "59207  zwe  2011          14386649\n",
              "59208  zwe  2012          14710826\n",
              "59209  zwe  2013          15054506\n",
              "59210  zwe  2014          15411675\n",
              "59211  zwe  2015          15777451\n",
              "59212  zwe  2016          16150362\n",
              "59213  zwe  2017          16529904"
            ]
          },
          "metadata": {
            "tags": []
          },
          "execution_count": 4
        }
      ]
    },
    {
      "cell_type": "code",
      "metadata": {
        "id": "zNepV164D461",
        "colab_type": "code",
        "outputId": "4427fad4-b8fa-4819-b925-107a3d4557fc",
        "colab": {
          "base_uri": "https://localhost:8080/",
          "height": 81
        }
      },
      "source": [
        "population.loc[(population['time'] == 2017) & (population['geo'] == 'zwe')]"
      ],
      "execution_count": 5,
      "outputs": [
        {
          "output_type": "execute_result",
          "data": {
            "text/html": [
              "<div>\n",
              "<style scoped>\n",
              "    .dataframe tbody tr th:only-of-type {\n",
              "        vertical-align: middle;\n",
              "    }\n",
              "\n",
              "    .dataframe tbody tr th {\n",
              "        vertical-align: top;\n",
              "    }\n",
              "\n",
              "    .dataframe thead th {\n",
              "        text-align: right;\n",
              "    }\n",
              "</style>\n",
              "<table border=\"1\" class=\"dataframe\">\n",
              "  <thead>\n",
              "    <tr style=\"text-align: right;\">\n",
              "      <th></th>\n",
              "      <th>geo</th>\n",
              "      <th>time</th>\n",
              "      <th>population_total</th>\n",
              "    </tr>\n",
              "  </thead>\n",
              "  <tbody>\n",
              "    <tr>\n",
              "      <th>59213</th>\n",
              "      <td>zwe</td>\n",
              "      <td>2017</td>\n",
              "      <td>16529904</td>\n",
              "    </tr>\n",
              "  </tbody>\n",
              "</table>\n",
              "</div>"
            ],
            "text/plain": [
              "       geo  time  population_total\n",
              "59213  zwe  2017          16529904"
            ]
          },
          "metadata": {
            "tags": []
          },
          "execution_count": 5
        }
      ]
    },
    {
      "cell_type": "code",
      "metadata": {
        "id": "fhA5CnLHFI4E",
        "colab_type": "code",
        "outputId": "7c2a79ed-0338-4203-84b6-73f77a97fb50",
        "colab": {
          "base_uri": "https://localhost:8080/",
          "height": 81
        }
      },
      "source": [
        "cell_phones.loc[(cell_phones['time'] == 2017) & (cell_phones['geo'] == 'zwe')]"
      ],
      "execution_count": 6,
      "outputs": [
        {
          "output_type": "execute_result",
          "data": {
            "text/html": [
              "<div>\n",
              "<style scoped>\n",
              "    .dataframe tbody tr th:only-of-type {\n",
              "        vertical-align: middle;\n",
              "    }\n",
              "\n",
              "    .dataframe tbody tr th {\n",
              "        vertical-align: top;\n",
              "    }\n",
              "\n",
              "    .dataframe thead th {\n",
              "        text-align: right;\n",
              "    }\n",
              "</style>\n",
              "<table border=\"1\" class=\"dataframe\">\n",
              "  <thead>\n",
              "    <tr style=\"text-align: right;\">\n",
              "      <th></th>\n",
              "      <th>geo</th>\n",
              "      <th>time</th>\n",
              "      <th>cell_phones_total</th>\n",
              "    </tr>\n",
              "  </thead>\n",
              "  <tbody>\n",
              "    <tr>\n",
              "      <th>9214</th>\n",
              "      <td>zwe</td>\n",
              "      <td>2017</td>\n",
              "      <td>1.4092e+07</td>\n",
              "    </tr>\n",
              "  </tbody>\n",
              "</table>\n",
              "</div>"
            ],
            "text/plain": [
              "      geo  time  cell_phones_total\n",
              "9214  zwe  2017         1.4092e+07"
            ]
          },
          "metadata": {
            "tags": []
          },
          "execution_count": 6
        }
      ]
    },
    {
      "cell_type": "code",
      "metadata": {
        "id": "pHfG3z2-_vYA",
        "colab_type": "code",
        "outputId": "de27558b-1809-4e7c-daf4-286041913397",
        "colab": {
          "base_uri": "https://localhost:8080/",
          "height": 81
        }
      },
      "source": [
        "# First, join the cell_phones and population dataframes (with an inner join on geo and time).\n",
        "\n",
        "# The resulting dataframe's shape should be: (8590, 4)\n",
        "\n",
        "merged = cell_phones.merge(population)\n",
        "\n",
        "merged.loc[(merged['time'] == 2017) & (merged['geo'] == 'zwe')]\n",
        "\n"
      ],
      "execution_count": 7,
      "outputs": [
        {
          "output_type": "execute_result",
          "data": {
            "text/html": [
              "<div>\n",
              "<style scoped>\n",
              "    .dataframe tbody tr th:only-of-type {\n",
              "        vertical-align: middle;\n",
              "    }\n",
              "\n",
              "    .dataframe tbody tr th {\n",
              "        vertical-align: top;\n",
              "    }\n",
              "\n",
              "    .dataframe thead th {\n",
              "        text-align: right;\n",
              "    }\n",
              "</style>\n",
              "<table border=\"1\" class=\"dataframe\">\n",
              "  <thead>\n",
              "    <tr style=\"text-align: right;\">\n",
              "      <th></th>\n",
              "      <th>geo</th>\n",
              "      <th>time</th>\n",
              "      <th>cell_phones_total</th>\n",
              "      <th>population_total</th>\n",
              "    </tr>\n",
              "  </thead>\n",
              "  <tbody>\n",
              "    <tr>\n",
              "      <th>8589</th>\n",
              "      <td>zwe</td>\n",
              "      <td>2017</td>\n",
              "      <td>1.4092e+07</td>\n",
              "      <td>16529904</td>\n",
              "    </tr>\n",
              "  </tbody>\n",
              "</table>\n",
              "</div>"
            ],
            "text/plain": [
              "      geo  time  cell_phones_total  population_total\n",
              "8589  zwe  2017         1.4092e+07          16529904"
            ]
          },
          "metadata": {
            "tags": []
          },
          "execution_count": 7
        }
      ]
    },
    {
      "cell_type": "markdown",
      "metadata": {
        "colab_type": "text",
        "id": "xsXpDbwwW241"
      },
      "source": [
        "Then, select the `geo` and `country` columns from the `geo_country_codes` dataframe, and join with your population and cell phone data.\n",
        "\n",
        "The resulting dataframe's shape should be: (8590, 5)"
      ]
    },
    {
      "cell_type": "code",
      "metadata": {
        "colab_type": "code",
        "id": "Q2LaZta_W2CE",
        "outputId": "0097a21c-54f7-49fb-ee4b-697c77e63ede",
        "colab": {
          "base_uri": "https://localhost:8080/",
          "height": 81
        }
      },
      "source": [
        "df = merged.merge(geo_country_codes[['geo', 'country']])\n",
        "\n",
        "df.loc[(df['time'] == 2017) & (df['geo'] == 'usa')]"
      ],
      "execution_count": 8,
      "outputs": [
        {
          "output_type": "execute_result",
          "data": {
            "text/html": [
              "<div>\n",
              "<style scoped>\n",
              "    .dataframe tbody tr th:only-of-type {\n",
              "        vertical-align: middle;\n",
              "    }\n",
              "\n",
              "    .dataframe tbody tr th {\n",
              "        vertical-align: top;\n",
              "    }\n",
              "\n",
              "    .dataframe thead th {\n",
              "        text-align: right;\n",
              "    }\n",
              "</style>\n",
              "<table border=\"1\" class=\"dataframe\">\n",
              "  <thead>\n",
              "    <tr style=\"text-align: right;\">\n",
              "      <th></th>\n",
              "      <th>geo</th>\n",
              "      <th>time</th>\n",
              "      <th>cell_phones_total</th>\n",
              "      <th>population_total</th>\n",
              "      <th>country</th>\n",
              "    </tr>\n",
              "  </thead>\n",
              "  <tbody>\n",
              "    <tr>\n",
              "      <th>8134</th>\n",
              "      <td>usa</td>\n",
              "      <td>2017</td>\n",
              "      <td>3.9588e+08</td>\n",
              "      <td>324459463</td>\n",
              "      <td>United States</td>\n",
              "    </tr>\n",
              "  </tbody>\n",
              "</table>\n",
              "</div>"
            ],
            "text/plain": [
              "      geo  time  cell_phones_total  population_total        country\n",
              "8134  usa  2017         3.9588e+08         324459463  United States"
            ]
          },
          "metadata": {
            "tags": []
          },
          "execution_count": 8
        }
      ]
    },
    {
      "cell_type": "markdown",
      "metadata": {
        "colab_type": "text",
        "id": "oK96Uj7vYjFX"
      },
      "source": [
        "### Part 2. Make features"
      ]
    },
    {
      "cell_type": "markdown",
      "metadata": {
        "colab_type": "text",
        "id": "AD2fBNrOYzCG"
      },
      "source": [
        "Calculate the number of cell phones per person, and add this column onto your dataframe.\n",
        "\n",
        "(You've calculated correctly if you get 1.220 cell phones per person in the United States in 2017.)"
      ]
    },
    {
      "cell_type": "code",
      "metadata": {
        "colab_type": "code",
        "id": "wXI9nQthYnFK",
        "outputId": "f172004d-5d20-4aa8-84e4-d70bfacf78f9",
        "colab": {
          "base_uri": "https://localhost:8080/",
          "height": 81
        }
      },
      "source": [
        "df['cell_phones_per_person'] = round(df['cell_phones_total'] / df['population_total'], 3)\n",
        "\n",
        "df.loc[(df['time'] == 2017) & (df['geo'] == 'usa')]"
      ],
      "execution_count": 9,
      "outputs": [
        {
          "output_type": "execute_result",
          "data": {
            "text/html": [
              "<div>\n",
              "<style scoped>\n",
              "    .dataframe tbody tr th:only-of-type {\n",
              "        vertical-align: middle;\n",
              "    }\n",
              "\n",
              "    .dataframe tbody tr th {\n",
              "        vertical-align: top;\n",
              "    }\n",
              "\n",
              "    .dataframe thead th {\n",
              "        text-align: right;\n",
              "    }\n",
              "</style>\n",
              "<table border=\"1\" class=\"dataframe\">\n",
              "  <thead>\n",
              "    <tr style=\"text-align: right;\">\n",
              "      <th></th>\n",
              "      <th>geo</th>\n",
              "      <th>time</th>\n",
              "      <th>cell_phones_total</th>\n",
              "      <th>population_total</th>\n",
              "      <th>country</th>\n",
              "      <th>cell_phones_per_person</th>\n",
              "    </tr>\n",
              "  </thead>\n",
              "  <tbody>\n",
              "    <tr>\n",
              "      <th>8134</th>\n",
              "      <td>usa</td>\n",
              "      <td>2017</td>\n",
              "      <td>3.9588e+08</td>\n",
              "      <td>324459463</td>\n",
              "      <td>United States</td>\n",
              "      <td>1.22</td>\n",
              "    </tr>\n",
              "  </tbody>\n",
              "</table>\n",
              "</div>"
            ],
            "text/plain": [
              "      geo  time  cell_phones_total  population_total        country  cell_phones_per_person\n",
              "8134  usa  2017         3.9588e+08         324459463  United States                    1.22"
            ]
          },
          "metadata": {
            "tags": []
          },
          "execution_count": 9
        }
      ]
    },
    {
      "cell_type": "markdown",
      "metadata": {
        "colab_type": "text",
        "id": "S3QFdsnRZMH6"
      },
      "source": [
        "Modify the `geo` column to make the geo codes uppercase instead of lowercase."
      ]
    },
    {
      "cell_type": "code",
      "metadata": {
        "colab_type": "code",
        "id": "93ADij8_YkOq",
        "outputId": "731f0bb1-cff4-4bbd-b4cf-fb37b960f961",
        "colab": {
          "base_uri": "https://localhost:8080/",
          "height": 206
        }
      },
      "source": [
        "df['geo'] = df['geo'].str.upper()\n",
        "\n",
        "df.head()"
      ],
      "execution_count": 10,
      "outputs": [
        {
          "output_type": "execute_result",
          "data": {
            "text/html": [
              "<div>\n",
              "<style scoped>\n",
              "    .dataframe tbody tr th:only-of-type {\n",
              "        vertical-align: middle;\n",
              "    }\n",
              "\n",
              "    .dataframe tbody tr th {\n",
              "        vertical-align: top;\n",
              "    }\n",
              "\n",
              "    .dataframe thead th {\n",
              "        text-align: right;\n",
              "    }\n",
              "</style>\n",
              "<table border=\"1\" class=\"dataframe\">\n",
              "  <thead>\n",
              "    <tr style=\"text-align: right;\">\n",
              "      <th></th>\n",
              "      <th>geo</th>\n",
              "      <th>time</th>\n",
              "      <th>cell_phones_total</th>\n",
              "      <th>population_total</th>\n",
              "      <th>country</th>\n",
              "      <th>cell_phones_per_person</th>\n",
              "    </tr>\n",
              "  </thead>\n",
              "  <tbody>\n",
              "    <tr>\n",
              "      <th>0</th>\n",
              "      <td>AFG</td>\n",
              "      <td>1960</td>\n",
              "      <td>0.0</td>\n",
              "      <td>8996351</td>\n",
              "      <td>Afghanistan</td>\n",
              "      <td>0.0</td>\n",
              "    </tr>\n",
              "    <tr>\n",
              "      <th>1</th>\n",
              "      <td>AFG</td>\n",
              "      <td>1965</td>\n",
              "      <td>0.0</td>\n",
              "      <td>9938414</td>\n",
              "      <td>Afghanistan</td>\n",
              "      <td>0.0</td>\n",
              "    </tr>\n",
              "    <tr>\n",
              "      <th>2</th>\n",
              "      <td>AFG</td>\n",
              "      <td>1970</td>\n",
              "      <td>0.0</td>\n",
              "      <td>11126123</td>\n",
              "      <td>Afghanistan</td>\n",
              "      <td>0.0</td>\n",
              "    </tr>\n",
              "    <tr>\n",
              "      <th>3</th>\n",
              "      <td>AFG</td>\n",
              "      <td>1975</td>\n",
              "      <td>0.0</td>\n",
              "      <td>12590286</td>\n",
              "      <td>Afghanistan</td>\n",
              "      <td>0.0</td>\n",
              "    </tr>\n",
              "    <tr>\n",
              "      <th>4</th>\n",
              "      <td>AFG</td>\n",
              "      <td>1976</td>\n",
              "      <td>0.0</td>\n",
              "      <td>12840299</td>\n",
              "      <td>Afghanistan</td>\n",
              "      <td>0.0</td>\n",
              "    </tr>\n",
              "  </tbody>\n",
              "</table>\n",
              "</div>"
            ],
            "text/plain": [
              "   geo  time  cell_phones_total  population_total      country  cell_phones_per_person\n",
              "0  AFG  1960                0.0           8996351  Afghanistan                     0.0\n",
              "1  AFG  1965                0.0           9938414  Afghanistan                     0.0\n",
              "2  AFG  1970                0.0          11126123  Afghanistan                     0.0\n",
              "3  AFG  1975                0.0          12590286  Afghanistan                     0.0\n",
              "4  AFG  1976                0.0          12840299  Afghanistan                     0.0"
            ]
          },
          "metadata": {
            "tags": []
          },
          "execution_count": 10
        }
      ]
    },
    {
      "cell_type": "markdown",
      "metadata": {
        "colab_type": "text",
        "id": "hlPDAFCfaF6C"
      },
      "source": [
        "### Part 3. Process data"
      ]
    },
    {
      "cell_type": "markdown",
      "metadata": {
        "colab_type": "text",
        "id": "k-pudNWve2SQ"
      },
      "source": [
        "Use the describe function, to describe your dataframe's numeric columns, and then its non-numeric columns.\n",
        "\n",
        "(You'll see the time period ranges from 1960 to 2017, and there are 195 unique countries represented.)"
      ]
    },
    {
      "cell_type": "code",
      "metadata": {
        "colab_type": "code",
        "id": "g26yemKre2Cu",
        "outputId": "8d331df1-662c-49cd-8230-f2ec1f9b8e42",
        "colab": {
          "base_uri": "https://localhost:8080/",
          "height": 300
        }
      },
      "source": [
        "df.describe()"
      ],
      "execution_count": 11,
      "outputs": [
        {
          "output_type": "execute_result",
          "data": {
            "text/html": [
              "<div>\n",
              "<style scoped>\n",
              "    .dataframe tbody tr th:only-of-type {\n",
              "        vertical-align: middle;\n",
              "    }\n",
              "\n",
              "    .dataframe tbody tr th {\n",
              "        vertical-align: top;\n",
              "    }\n",
              "\n",
              "    .dataframe thead th {\n",
              "        text-align: right;\n",
              "    }\n",
              "</style>\n",
              "<table border=\"1\" class=\"dataframe\">\n",
              "  <thead>\n",
              "    <tr style=\"text-align: right;\">\n",
              "      <th></th>\n",
              "      <th>time</th>\n",
              "      <th>cell_phones_total</th>\n",
              "      <th>population_total</th>\n",
              "      <th>cell_phones_per_person</th>\n",
              "    </tr>\n",
              "  </thead>\n",
              "  <tbody>\n",
              "    <tr>\n",
              "      <th>count</th>\n",
              "      <td>8590.0000</td>\n",
              "      <td>8.5900e+03</td>\n",
              "      <td>8.5900e+03</td>\n",
              "      <td>8590.0000</td>\n",
              "    </tr>\n",
              "    <tr>\n",
              "      <th>mean</th>\n",
              "      <td>1994.1935</td>\n",
              "      <td>9.0049e+06</td>\n",
              "      <td>2.9838e+07</td>\n",
              "      <td>0.2796</td>\n",
              "    </tr>\n",
              "    <tr>\n",
              "      <th>std</th>\n",
              "      <td>14.2580</td>\n",
              "      <td>5.5734e+07</td>\n",
              "      <td>1.1613e+08</td>\n",
              "      <td>0.4542</td>\n",
              "    </tr>\n",
              "    <tr>\n",
              "      <th>min</th>\n",
              "      <td>1960.0000</td>\n",
              "      <td>0.0000e+00</td>\n",
              "      <td>4.4330e+03</td>\n",
              "      <td>0.0000</td>\n",
              "    </tr>\n",
              "    <tr>\n",
              "      <th>25%</th>\n",
              "      <td>1983.0000</td>\n",
              "      <td>0.0000e+00</td>\n",
              "      <td>1.4561e+06</td>\n",
              "      <td>0.0000</td>\n",
              "    </tr>\n",
              "    <tr>\n",
              "      <th>50%</th>\n",
              "      <td>1995.0000</td>\n",
              "      <td>6.2000e+03</td>\n",
              "      <td>5.7251e+06</td>\n",
              "      <td>0.0020</td>\n",
              "    </tr>\n",
              "    <tr>\n",
              "      <th>75%</th>\n",
              "      <td>2006.0000</td>\n",
              "      <td>1.6977e+06</td>\n",
              "      <td>1.8106e+07</td>\n",
              "      <td>0.4610</td>\n",
              "    </tr>\n",
              "    <tr>\n",
              "      <th>max</th>\n",
              "      <td>2017.0000</td>\n",
              "      <td>1.4741e+09</td>\n",
              "      <td>1.4095e+09</td>\n",
              "      <td>2.4900</td>\n",
              "    </tr>\n",
              "  </tbody>\n",
              "</table>\n",
              "</div>"
            ],
            "text/plain": [
              "            time  cell_phones_total  population_total  cell_phones_per_person\n",
              "count  8590.0000         8.5900e+03        8.5900e+03               8590.0000\n",
              "mean   1994.1935         9.0049e+06        2.9838e+07                  0.2796\n",
              "std      14.2580         5.5734e+07        1.1613e+08                  0.4542\n",
              "min    1960.0000         0.0000e+00        4.4330e+03                  0.0000\n",
              "25%    1983.0000         0.0000e+00        1.4561e+06                  0.0000\n",
              "50%    1995.0000         6.2000e+03        5.7251e+06                  0.0020\n",
              "75%    2006.0000         1.6977e+06        1.8106e+07                  0.4610\n",
              "max    2017.0000         1.4741e+09        1.4095e+09                  2.4900"
            ]
          },
          "metadata": {
            "tags": []
          },
          "execution_count": 11
        }
      ]
    },
    {
      "cell_type": "code",
      "metadata": {
        "id": "isXbp8TlHI1i",
        "colab_type": "code",
        "outputId": "4979bcdf-a088-434b-9900-f0a9e07a72fc",
        "colab": {
          "base_uri": "https://localhost:8080/",
          "height": 231
        }
      },
      "source": [
        "df.info()"
      ],
      "execution_count": 12,
      "outputs": [
        {
          "output_type": "stream",
          "text": [
            "<class 'pandas.core.frame.DataFrame'>\n",
            "Int64Index: 8590 entries, 0 to 8589\n",
            "Data columns (total 6 columns):\n",
            "geo                       8590 non-null object\n",
            "time                      8590 non-null int64\n",
            "cell_phones_total         8590 non-null float64\n",
            "population_total          8590 non-null int64\n",
            "country                   8590 non-null object\n",
            "cell_phones_per_person    8590 non-null float64\n",
            "dtypes: float64(2), int64(2), object(2)\n",
            "memory usage: 469.8+ KB\n"
          ],
          "name": "stdout"
        }
      ]
    },
    {
      "cell_type": "code",
      "metadata": {
        "id": "SwJs2Y1JGhSo",
        "colab_type": "code",
        "outputId": "17680184-5a46-4ec0-83ed-71f311d6d191",
        "colab": {
          "base_uri": "https://localhost:8080/",
          "height": 175
        }
      },
      "source": [
        "df.describe(include='object')"
      ],
      "execution_count": 13,
      "outputs": [
        {
          "output_type": "execute_result",
          "data": {
            "text/html": [
              "<div>\n",
              "<style scoped>\n",
              "    .dataframe tbody tr th:only-of-type {\n",
              "        vertical-align: middle;\n",
              "    }\n",
              "\n",
              "    .dataframe tbody tr th {\n",
              "        vertical-align: top;\n",
              "    }\n",
              "\n",
              "    .dataframe thead th {\n",
              "        text-align: right;\n",
              "    }\n",
              "</style>\n",
              "<table border=\"1\" class=\"dataframe\">\n",
              "  <thead>\n",
              "    <tr style=\"text-align: right;\">\n",
              "      <th></th>\n",
              "      <th>geo</th>\n",
              "      <th>country</th>\n",
              "    </tr>\n",
              "  </thead>\n",
              "  <tbody>\n",
              "    <tr>\n",
              "      <th>count</th>\n",
              "      <td>8590</td>\n",
              "      <td>8590</td>\n",
              "    </tr>\n",
              "    <tr>\n",
              "      <th>unique</th>\n",
              "      <td>195</td>\n",
              "      <td>195</td>\n",
              "    </tr>\n",
              "    <tr>\n",
              "      <th>top</th>\n",
              "      <td>PAK</td>\n",
              "      <td>Sao Tome and Principe</td>\n",
              "    </tr>\n",
              "    <tr>\n",
              "      <th>freq</th>\n",
              "      <td>46</td>\n",
              "      <td>46</td>\n",
              "    </tr>\n",
              "  </tbody>\n",
              "</table>\n",
              "</div>"
            ],
            "text/plain": [
              "         geo                country\n",
              "count   8590                   8590\n",
              "unique   195                    195\n",
              "top      PAK  Sao Tome and Principe\n",
              "freq      46                     46"
            ]
          },
          "metadata": {
            "tags": []
          },
          "execution_count": 13
        }
      ]
    },
    {
      "cell_type": "markdown",
      "metadata": {
        "colab_type": "text",
        "id": "zALg-RrYaLcI"
      },
      "source": [
        "In 2017, what were the top 5 countries with the most cell phones total?\n",
        "\n",
        "Your list of countries should have these totals:\n",
        "\n",
        "| country | cell phones total |\n",
        "|:-------:|:-----------------:|\n",
        "|    ?    |     1,474,097,000 |\n",
        "|    ?    |     1,168,902,277 |\n",
        "|    ?    |       458,923,202 |\n",
        "|    ?    |       395,881,000 |\n",
        "|    ?    |       236,488,548 |\n",
        "\n"
      ]
    },
    {
      "cell_type": "code",
      "metadata": {
        "colab_type": "code",
        "id": "JdlWvezHaZxD",
        "colab": {}
      },
      "source": [
        "# This optional code formats float numbers with comma separators\n",
        "pd.options.display.float_format = '{:,}'.format"
      ],
      "execution_count": 0,
      "outputs": []
    },
    {
      "cell_type": "code",
      "metadata": {
        "colab_type": "code",
        "id": "smX8vzu4cyju",
        "outputId": "7b577c6b-5691-4be2-bf97-2e51573a2764",
        "colab": {
          "base_uri": "https://localhost:8080/",
          "height": 206
        }
      },
      "source": [
        "df[['country', 'cell_phones_total']].loc[df['time'] == 2017].nlargest(5, 'cell_phones_total')"
      ],
      "execution_count": 15,
      "outputs": [
        {
          "output_type": "execute_result",
          "data": {
            "text/html": [
              "<div>\n",
              "<style scoped>\n",
              "    .dataframe tbody tr th:only-of-type {\n",
              "        vertical-align: middle;\n",
              "    }\n",
              "\n",
              "    .dataframe tbody tr th {\n",
              "        vertical-align: top;\n",
              "    }\n",
              "\n",
              "    .dataframe thead th {\n",
              "        text-align: right;\n",
              "    }\n",
              "</style>\n",
              "<table border=\"1\" class=\"dataframe\">\n",
              "  <thead>\n",
              "    <tr style=\"text-align: right;\">\n",
              "      <th></th>\n",
              "      <th>country</th>\n",
              "      <th>cell_phones_total</th>\n",
              "    </tr>\n",
              "  </thead>\n",
              "  <tbody>\n",
              "    <tr>\n",
              "      <th>1496</th>\n",
              "      <td>China</td>\n",
              "      <td>1,474,097,000.0</td>\n",
              "    </tr>\n",
              "    <tr>\n",
              "      <th>3595</th>\n",
              "      <td>India</td>\n",
              "      <td>1,168,902,277.0</td>\n",
              "    </tr>\n",
              "    <tr>\n",
              "      <th>3549</th>\n",
              "      <td>Indonesia</td>\n",
              "      <td>458,923,202.0</td>\n",
              "    </tr>\n",
              "    <tr>\n",
              "      <th>8134</th>\n",
              "      <td>United States</td>\n",
              "      <td>395,881,000.0</td>\n",
              "    </tr>\n",
              "    <tr>\n",
              "      <th>1084</th>\n",
              "      <td>Brazil</td>\n",
              "      <td>236,488,548.0</td>\n",
              "    </tr>\n",
              "  </tbody>\n",
              "</table>\n",
              "</div>"
            ],
            "text/plain": [
              "            country  cell_phones_total\n",
              "1496          China    1,474,097,000.0\n",
              "3595          India    1,168,902,277.0\n",
              "3549      Indonesia      458,923,202.0\n",
              "8134  United States      395,881,000.0\n",
              "1084         Brazil      236,488,548.0"
            ]
          },
          "metadata": {
            "tags": []
          },
          "execution_count": 15
        }
      ]
    },
    {
      "cell_type": "markdown",
      "metadata": {
        "colab_type": "text",
        "id": "03V3Wln_h0dj"
      },
      "source": [
        "2017 was the first year that China had more cell phones than people.\n",
        "\n",
        "What was the first year that the USA had more cell phones than people?"
      ]
    },
    {
      "cell_type": "code",
      "metadata": {
        "colab_type": "code",
        "id": "KONQkQZ3haNC",
        "outputId": "f25bbdd1-03a0-458e-ed16-5dccb054305c",
        "colab": {
          "base_uri": "https://localhost:8080/",
          "height": 36
        }
      },
      "source": [
        "df['time'].loc[(df['cell_phones_per_person'] > 1) & (df['geo'] == 'USA')].iloc[0]"
      ],
      "execution_count": 16,
      "outputs": [
        {
          "output_type": "execute_result",
          "data": {
            "text/plain": [
              "2014"
            ]
          },
          "metadata": {
            "tags": []
          },
          "execution_count": 16
        }
      ]
    },
    {
      "cell_type": "markdown",
      "metadata": {
        "colab_type": "text",
        "id": "6J7iwMnTg8KZ"
      },
      "source": [
        "### Part 4. Reshape data"
      ]
    },
    {
      "cell_type": "markdown",
      "metadata": {
        "colab_type": "text",
        "id": "LP9InazRkUxG"
      },
      "source": [
        "*This part is not needed to pass the sprint challenge, only to get a 3! Only work on this after completing the other sections.*\n",
        "\n",
        "Create a pivot table:\n",
        "- Columns: Years 2007—2017\n",
        "- Rows: China, India, United States, Indonesia, Brazil (order doesn't matter)\n",
        "- Values: Cell Phones Total\n",
        "\n",
        "The table's shape should be: (5, 11)"
      ]
    },
    {
      "cell_type": "code",
      "metadata": {
        "colab_type": "code",
        "id": "JD7mXXjLj4Ue",
        "colab": {}
      },
      "source": [
        "rows = ['China', 'India', 'United States', 'Indonesia', 'Brazil']\n",
        "\n",
        "pivoted = df[['country', 'cell_phones_total', 'time']].loc[\n",
        "            (df['country'].isin(rows)) & (df['time'].\n",
        "            between(2007, 2017, inclusive=True))]\n",
        "pivoted = pd.pivot_table(pivoted, values='cell_phones_total', index=['country'],\n",
        "                         columns=['time'])\n",
        "\n",
        "# this feels like the wrong way of doing this\n",
        "# pivoted['diff'] = pivoted[2017] - pivoted[2007]\n",
        "# diffs = pivoted.sort_values((pivoted[2017] - pivoted[2007]), ascending=False)\n",
        "\n",
        "# this maybe feels a little better, since i'm not adding another columns\n",
        "diffs = (pivoted[2017] - pivoted[2007]).sort_values(ascending=False)\n",
        "\n"
      ],
      "execution_count": 0,
      "outputs": []
    },
    {
      "cell_type": "code",
      "metadata": {
        "colab_type": "code",
        "outputId": "ddf8fb91-3c15-4c7b-c70c-77581d8e4419",
        "id": "WNp5rkStO36D",
        "colab": {
          "base_uri": "https://localhost:8080/",
          "height": 363
        }
      },
      "source": [
        "df.loc[df['time'][2007:2017]]"
      ],
      "execution_count": 18,
      "outputs": [
        {
          "output_type": "execute_result",
          "data": {
            "text/html": [
              "<div>\n",
              "<style scoped>\n",
              "    .dataframe tbody tr th:only-of-type {\n",
              "        vertical-align: middle;\n",
              "    }\n",
              "\n",
              "    .dataframe tbody tr th {\n",
              "        vertical-align: top;\n",
              "    }\n",
              "\n",
              "    .dataframe thead th {\n",
              "        text-align: right;\n",
              "    }\n",
              "</style>\n",
              "<table border=\"1\" class=\"dataframe\">\n",
              "  <thead>\n",
              "    <tr style=\"text-align: right;\">\n",
              "      <th></th>\n",
              "      <th>geo</th>\n",
              "      <th>time</th>\n",
              "      <th>cell_phones_total</th>\n",
              "      <th>population_total</th>\n",
              "      <th>country</th>\n",
              "      <th>cell_phones_per_person</th>\n",
              "    </tr>\n",
              "  </thead>\n",
              "  <tbody>\n",
              "    <tr>\n",
              "      <th>1980</th>\n",
              "      <td>CZE</td>\n",
              "      <td>1999</td>\n",
              "      <td>1,944,553.0</td>\n",
              "      <td>10306645</td>\n",
              "      <td>Czech Republic</td>\n",
              "      <td>0.189</td>\n",
              "    </tr>\n",
              "    <tr>\n",
              "      <th>1981</th>\n",
              "      <td>CZE</td>\n",
              "      <td>2000</td>\n",
              "      <td>4,346,009.0</td>\n",
              "      <td>10289594</td>\n",
              "      <td>Czech Republic</td>\n",
              "      <td>0.422</td>\n",
              "    </tr>\n",
              "    <tr>\n",
              "      <th>1982</th>\n",
              "      <td>CZE</td>\n",
              "      <td>2001</td>\n",
              "      <td>6,947,151.0</td>\n",
              "      <td>10271204</td>\n",
              "      <td>Czech Republic</td>\n",
              "      <td>0.676</td>\n",
              "    </tr>\n",
              "    <tr>\n",
              "      <th>1983</th>\n",
              "      <td>CZE</td>\n",
              "      <td>2002</td>\n",
              "      <td>8,610,177.0</td>\n",
              "      <td>10252439</td>\n",
              "      <td>Czech Republic</td>\n",
              "      <td>0.84</td>\n",
              "    </tr>\n",
              "    <tr>\n",
              "      <th>1984</th>\n",
              "      <td>CZE</td>\n",
              "      <td>2003</td>\n",
              "      <td>9,708,683.0</td>\n",
              "      <td>10239277</td>\n",
              "      <td>Czech Republic</td>\n",
              "      <td>0.948</td>\n",
              "    </tr>\n",
              "    <tr>\n",
              "      <th>1985</th>\n",
              "      <td>CZE</td>\n",
              "      <td>2004</td>\n",
              "      <td>10,782,567.0</td>\n",
              "      <td>10239536</td>\n",
              "      <td>Czech Republic</td>\n",
              "      <td>1.053</td>\n",
              "    </tr>\n",
              "    <tr>\n",
              "      <th>1986</th>\n",
              "      <td>CZE</td>\n",
              "      <td>2005</td>\n",
              "      <td>11,775,878.0</td>\n",
              "      <td>10258176</td>\n",
              "      <td>Czech Republic</td>\n",
              "      <td>1.148</td>\n",
              "    </tr>\n",
              "    <tr>\n",
              "      <th>1987</th>\n",
              "      <td>CZE</td>\n",
              "      <td>2006</td>\n",
              "      <td>12,406,199.0</td>\n",
              "      <td>10298288</td>\n",
              "      <td>Czech Republic</td>\n",
              "      <td>1.205</td>\n",
              "    </tr>\n",
              "    <tr>\n",
              "      <th>1988</th>\n",
              "      <td>CZE</td>\n",
              "      <td>2007</td>\n",
              "      <td>13,228,631.0</td>\n",
              "      <td>10356586</td>\n",
              "      <td>Czech Republic</td>\n",
              "      <td>1.277</td>\n",
              "    </tr>\n",
              "    <tr>\n",
              "      <th>1989</th>\n",
              "      <td>CZE</td>\n",
              "      <td>2008</td>\n",
              "      <td>13,780,165.0</td>\n",
              "      <td>10423794</td>\n",
              "      <td>Czech Republic</td>\n",
              "      <td>1.322</td>\n",
              "    </tr>\n",
              "  </tbody>\n",
              "</table>\n",
              "</div>"
            ],
            "text/plain": [
              "      geo  time  cell_phones_total  population_total         country  cell_phones_per_person\n",
              "1980  CZE  1999        1,944,553.0          10306645  Czech Republic                   0.189\n",
              "1981  CZE  2000        4,346,009.0          10289594  Czech Republic                   0.422\n",
              "1982  CZE  2001        6,947,151.0          10271204  Czech Republic                   0.676\n",
              "1983  CZE  2002        8,610,177.0          10252439  Czech Republic                    0.84\n",
              "1984  CZE  2003        9,708,683.0          10239277  Czech Republic                   0.948\n",
              "1985  CZE  2004       10,782,567.0          10239536  Czech Republic                   1.053\n",
              "1986  CZE  2005       11,775,878.0          10258176  Czech Republic                   1.148\n",
              "1987  CZE  2006       12,406,199.0          10298288  Czech Republic                   1.205\n",
              "1988  CZE  2007       13,228,631.0          10356586  Czech Republic                   1.277\n",
              "1989  CZE  2008       13,780,165.0          10423794  Czech Republic                   1.322"
            ]
          },
          "metadata": {
            "tags": []
          },
          "execution_count": 18
        }
      ]
    },
    {
      "cell_type": "markdown",
      "metadata": {
        "colab_type": "text",
        "id": "CNKTu2DCnAo6"
      },
      "source": [
        "Sort these 5 countries, by biggest increase in cell phones from 2007 to 2017.\n",
        "\n",
        "Which country had 935,282,277 more cell phones in 2017 versus 2007?"
      ]
    },
    {
      "cell_type": "code",
      "metadata": {
        "colab_type": "code",
        "id": "O4Aecv1fmQlj",
        "outputId": "8eb9943c-9dae-4311-fad9-de3965553ca0",
        "colab": {
          "base_uri": "https://localhost:8080/",
          "height": 36
        }
      },
      "source": [
        "diffs.index[0]"
      ],
      "execution_count": 19,
      "outputs": [
        {
          "output_type": "execute_result",
          "data": {
            "text/plain": [
              "'India'"
            ]
          },
          "metadata": {
            "tags": []
          },
          "execution_count": 19
        }
      ]
    },
    {
      "cell_type": "markdown",
      "metadata": {
        "colab_type": "text",
        "id": "7iHkMsa3Rorh"
      },
      "source": [
        "If you have the time and curiosity, what other questions can you ask and answer with this data?"
      ]
    },
    {
      "cell_type": "markdown",
      "metadata": {
        "id": "vtcAJOAV9k3X",
        "colab_type": "text"
      },
      "source": [
        "## Data Storytelling\n",
        "\n",
        "In this part of the sprint challenge you'll work with a dataset from **FiveThirtyEight's article, [Every Guest Jon Stewart Ever Had On ‘The Daily Show’](https://fivethirtyeight.com/features/every-guest-jon-stewart-ever-had-on-the-daily-show/)**!"
      ]
    },
    {
      "cell_type": "markdown",
      "metadata": {
        "id": "UtjoIqvm9yFg",
        "colab_type": "text"
      },
      "source": [
        "### Part 0 — Run this starter code\n",
        "\n",
        "You don't need to add or change anything here. Just run this cell and it loads the data for you, into a dataframe named `df`.\n",
        "\n",
        "(You can explore the data if you want, but it's not required to pass the Sprint Challenge.)"
      ]
    },
    {
      "cell_type": "code",
      "metadata": {
        "id": "tYujbhIz9zKU",
        "colab_type": "code",
        "colab": {}
      },
      "source": [
        "%matplotlib inline\n",
        "import matplotlib.pyplot as plt\n",
        "import numpy as np\n",
        "import pandas as pd\n",
        "\n",
        "url = 'https://raw.githubusercontent.com/fivethirtyeight/data/master/daily-show-guests/daily_show_guests.csv'\n",
        "df = pd.read_csv(url).rename(columns={'YEAR': 'Year', 'Raw_Guest_List': 'Guest'})\n",
        "\n",
        "def get_occupation(group):\n",
        "    if group in ['Acting', 'Comedy', 'Musician']:\n",
        "        return 'Acting, Comedy & Music'\n",
        "    elif group in ['Media', 'media']:\n",
        "        return 'Media'\n",
        "    elif group in ['Government', 'Politician', 'Political Aide']:\n",
        "        return 'Government and Politics'\n",
        "    else:\n",
        "        return 'Other'\n",
        "      \n",
        "df['Occupation'] = df['Group'].apply(get_occupation)"
      ],
      "execution_count": 0,
      "outputs": []
    },
    {
      "cell_type": "markdown",
      "metadata": {
        "id": "5hjnMK3j90Rp",
        "colab_type": "text"
      },
      "source": [
        "### Part 1 — What's the breakdown of guests’ occupations per year?\n",
        "\n",
        "For example, in 1999, what percentage of guests were actors, comedians, or musicians? What percentage were in the media? What percentage were in politics? What percentage were from another occupation?\n",
        "\n",
        "Then, what about in 2000? In 2001? And so on, up through 2015.\n",
        "\n",
        "So, **for each year of _The Daily Show_, calculate the percentage of guests from each occupation:**\n",
        "- Acting, Comedy & Music\n",
        "- Government and Politics\n",
        "- Media\n",
        "- Other\n",
        "\n",
        "#### Hints:\n",
        "You can make a crosstab. (See pandas documentation for examples, explanation, and parameters.)\n",
        "\n",
        "You'll know you've calculated correctly when the percentage of \"Acting, Comedy & Music\" guests is 90.36% in 1999, and 45% in 2015."
      ]
    },
    {
      "cell_type": "code",
      "metadata": {
        "id": "EbobyiHv916F",
        "colab_type": "code",
        "outputId": "c334c0bc-da50-4fca-f7ed-b2a2e8440d43",
        "colab": {
          "base_uri": "https://localhost:8080/",
          "height": 614
        }
      },
      "source": [
        "ct = pd.crosstab(df['Year'], df['Occupation'], normalize='index')*100\n",
        "ct.round(2)"
      ],
      "execution_count": 21,
      "outputs": [
        {
          "output_type": "execute_result",
          "data": {
            "text/html": [
              "<div>\n",
              "<style scoped>\n",
              "    .dataframe tbody tr th:only-of-type {\n",
              "        vertical-align: middle;\n",
              "    }\n",
              "\n",
              "    .dataframe tbody tr th {\n",
              "        vertical-align: top;\n",
              "    }\n",
              "\n",
              "    .dataframe thead th {\n",
              "        text-align: right;\n",
              "    }\n",
              "</style>\n",
              "<table border=\"1\" class=\"dataframe\">\n",
              "  <thead>\n",
              "    <tr style=\"text-align: right;\">\n",
              "      <th>Occupation</th>\n",
              "      <th>Acting, Comedy &amp; Music</th>\n",
              "      <th>Government and Politics</th>\n",
              "      <th>Media</th>\n",
              "      <th>Other</th>\n",
              "    </tr>\n",
              "    <tr>\n",
              "      <th>Year</th>\n",
              "      <th></th>\n",
              "      <th></th>\n",
              "      <th></th>\n",
              "      <th></th>\n",
              "    </tr>\n",
              "  </thead>\n",
              "  <tbody>\n",
              "    <tr>\n",
              "      <th>1999</th>\n",
              "      <td>90.36</td>\n",
              "      <td>1.2</td>\n",
              "      <td>6.63</td>\n",
              "      <td>1.81</td>\n",
              "    </tr>\n",
              "    <tr>\n",
              "      <th>2000</th>\n",
              "      <td>73.96</td>\n",
              "      <td>8.28</td>\n",
              "      <td>12.43</td>\n",
              "      <td>5.33</td>\n",
              "    </tr>\n",
              "    <tr>\n",
              "      <th>2001</th>\n",
              "      <td>72.61</td>\n",
              "      <td>3.82</td>\n",
              "      <td>19.75</td>\n",
              "      <td>3.82</td>\n",
              "    </tr>\n",
              "    <tr>\n",
              "      <th>2002</th>\n",
              "      <td>62.26</td>\n",
              "      <td>6.92</td>\n",
              "      <td>26.42</td>\n",
              "      <td>4.4</td>\n",
              "    </tr>\n",
              "    <tr>\n",
              "      <th>2003</th>\n",
              "      <td>56.02</td>\n",
              "      <td>10.24</td>\n",
              "      <td>24.7</td>\n",
              "      <td>9.04</td>\n",
              "    </tr>\n",
              "    <tr>\n",
              "      <th>2004</th>\n",
              "      <td>38.41</td>\n",
              "      <td>22.56</td>\n",
              "      <td>27.44</td>\n",
              "      <td>11.59</td>\n",
              "    </tr>\n",
              "    <tr>\n",
              "      <th>2005</th>\n",
              "      <td>37.04</td>\n",
              "      <td>16.05</td>\n",
              "      <td>33.33</td>\n",
              "      <td>13.58</td>\n",
              "    </tr>\n",
              "    <tr>\n",
              "      <th>2006</th>\n",
              "      <td>36.02</td>\n",
              "      <td>19.25</td>\n",
              "      <td>29.19</td>\n",
              "      <td>15.53</td>\n",
              "    </tr>\n",
              "    <tr>\n",
              "      <th>2007</th>\n",
              "      <td>25.53</td>\n",
              "      <td>17.02</td>\n",
              "      <td>33.33</td>\n",
              "      <td>24.11</td>\n",
              "    </tr>\n",
              "    <tr>\n",
              "      <th>2008</th>\n",
              "      <td>20.73</td>\n",
              "      <td>20.12</td>\n",
              "      <td>46.95</td>\n",
              "      <td>12.2</td>\n",
              "    </tr>\n",
              "    <tr>\n",
              "      <th>2009</th>\n",
              "      <td>20.86</td>\n",
              "      <td>20.86</td>\n",
              "      <td>36.2</td>\n",
              "      <td>22.09</td>\n",
              "    </tr>\n",
              "    <tr>\n",
              "      <th>2010</th>\n",
              "      <td>35.15</td>\n",
              "      <td>18.18</td>\n",
              "      <td>30.3</td>\n",
              "      <td>16.36</td>\n",
              "    </tr>\n",
              "    <tr>\n",
              "      <th>2011</th>\n",
              "      <td>33.74</td>\n",
              "      <td>16.56</td>\n",
              "      <td>31.29</td>\n",
              "      <td>18.4</td>\n",
              "    </tr>\n",
              "    <tr>\n",
              "      <th>2012</th>\n",
              "      <td>26.83</td>\n",
              "      <td>20.12</td>\n",
              "      <td>31.71</td>\n",
              "      <td>21.34</td>\n",
              "    </tr>\n",
              "    <tr>\n",
              "      <th>2013</th>\n",
              "      <td>42.77</td>\n",
              "      <td>12.65</td>\n",
              "      <td>30.72</td>\n",
              "      <td>13.86</td>\n",
              "    </tr>\n",
              "    <tr>\n",
              "      <th>2014</th>\n",
              "      <td>39.26</td>\n",
              "      <td>12.88</td>\n",
              "      <td>32.52</td>\n",
              "      <td>15.34</td>\n",
              "    </tr>\n",
              "    <tr>\n",
              "      <th>2015</th>\n",
              "      <td>45.0</td>\n",
              "      <td>17.0</td>\n",
              "      <td>24.0</td>\n",
              "      <td>14.0</td>\n",
              "    </tr>\n",
              "  </tbody>\n",
              "</table>\n",
              "</div>"
            ],
            "text/plain": [
              "Occupation  Acting, Comedy & Music  Government and Politics  Media  Other\n",
              "Year                                                                     \n",
              "1999                         90.36                      1.2   6.63   1.81\n",
              "2000                         73.96                     8.28  12.43   5.33\n",
              "2001                         72.61                     3.82  19.75   3.82\n",
              "2002                         62.26                     6.92  26.42    4.4\n",
              "2003                         56.02                    10.24   24.7   9.04\n",
              "2004                         38.41                    22.56  27.44  11.59\n",
              "2005                         37.04                    16.05  33.33  13.58\n",
              "2006                         36.02                    19.25  29.19  15.53\n",
              "2007                         25.53                    17.02  33.33  24.11\n",
              "2008                         20.73                    20.12  46.95   12.2\n",
              "2009                         20.86                    20.86   36.2  22.09\n",
              "2010                         35.15                    18.18   30.3  16.36\n",
              "2011                         33.74                    16.56  31.29   18.4\n",
              "2012                         26.83                    20.12  31.71  21.34\n",
              "2013                         42.77                    12.65  30.72  13.86\n",
              "2014                         39.26                    12.88  32.52  15.34\n",
              "2015                          45.0                     17.0   24.0   14.0"
            ]
          },
          "metadata": {
            "tags": []
          },
          "execution_count": 21
        }
      ]
    },
    {
      "cell_type": "code",
      "metadata": {
        "id": "JOQOu9atV8i1",
        "colab_type": "code",
        "outputId": "171c5571-09c5-4c6c-93d1-ee4bf49751f9",
        "colab": {
          "base_uri": "https://localhost:8080/",
          "height": 36
        }
      },
      "source": [
        "ct.index.min()"
      ],
      "execution_count": 22,
      "outputs": [
        {
          "output_type": "execute_result",
          "data": {
            "text/plain": [
              "1999"
            ]
          },
          "metadata": {
            "tags": []
          },
          "execution_count": 22
        }
      ]
    },
    {
      "cell_type": "markdown",
      "metadata": {
        "id": "Kiq56dZb92LY",
        "colab_type": "text"
      },
      "source": [
        "### Part 2 — Recreate this explanatory visualization:"
      ]
    },
    {
      "cell_type": "code",
      "metadata": {
        "id": "HKLDMWwP98vz",
        "colab_type": "code",
        "outputId": "25563ff9-135e-49d9-bf58-307f555d2ff4",
        "colab": {
          "base_uri": "https://localhost:8080/",
          "height": 406
        }
      },
      "source": [
        "from IPython.display import display, Image\n",
        "png = 'https://fivethirtyeight.com/wp-content/uploads/2015/08/hickey-datalab-dailyshow.png'\n",
        "example = Image(png, width=500)\n",
        "display(example)"
      ],
      "execution_count": 23,
      "outputs": [
        {
          "output_type": "display_data",
          "data": {
            "image/png": "[encoded data removed]",
            "text/plain": [
              "<IPython.core.display.Image object>"
            ]
          },
          "metadata": {
            "tags": [],
            "image/png": {
              "width": 500
            }
          }
        }
      ]
    },
    {
      "cell_type": "markdown",
      "metadata": {
        "id": "TK5fDIag9-F6",
        "colab_type": "text"
      },
      "source": [
        "**Hints:**\n",
        "- You can choose any Python visualization library you want. I've verified the plot can be reproduced with matplotlib, pandas plot, or seaborn. I assume other libraries like altair or plotly would work too.\n",
        "- If you choose to use seaborn, you may want to upgrade the version to 0.9.0.\n",
        "\n",
        "**Expectations:** Your plot should include:\n",
        "- 3 lines visualizing \"occupation of guests, by year.\" The shapes of the lines should look roughly identical to 538's example. Each line should be a different color. (But you don't need to use the _same_ colors as 538.)\n",
        "- Legend or labels for the lines. (But you don't need each label positioned next to its line or colored like 538.)\n",
        "- Title in the upper left: _\"Who Got To Be On 'The Daily Show'?\"_ with more visual emphasis than the subtitle. (Bolder and/or larger font.)\n",
        "- Subtitle underneath the title: _\"Occupation of guests, by year\"_\n",
        "\n",
        "**Optional Bonus Challenge:**\n",
        "- Give your plot polished aesthetics, with improved resemblance to the 538 example.\n",
        "- Any visual element not specifically mentioned in the expectations is an optional bonus."
      ]
    },
    {
      "cell_type": "code",
      "metadata": {
        "id": "o-ncnKrafl1x",
        "colab_type": "code",
        "colab": {}
      },
      "source": [
        "# %%sh\n",
        "# wget https://github.com/google/fonts/raw/master/apache/roboto/Roboto-Regular.ttf\n",
        "# wget https://github.com/google/fonts/raw/master/apache/roboto/Roboto-Bold.ttf\n",
        "# mv /content/*.ttf /usr/share/fonts/truetype/\n",
        "# sudo fc-cache -fv\n",
        "# sudo rm -fr /root/.cache/matplotlib\n",
        "# fc-list"
      ],
      "execution_count": 0,
      "outputs": []
    },
    {
      "cell_type": "code",
      "metadata": {
        "id": "T9b6OgAafzXI",
        "colab_type": "code",
        "colab": {}
      },
      "source": [
        "plt.rcParams['font.family'] = 'sans-serif'\n",
        "plt.rcParams['font.sans-serif'] = 'Roboto'"
      ],
      "execution_count": 0,
      "outputs": []
    },
    {
      "cell_type": "code",
      "metadata": {
        "id": "CaB8MMV099Kh",
        "colab_type": "code",
        "outputId": "d09928bf-782e-4fd5-e5ba-f2d6c95d13a4",
        "colab": {
          "base_uri": "https://localhost:8080/",
          "height": 948
        }
      },
      "source": [
        "fig, ax = plt.subplots(facecolor='#f0f0f0')\n",
        "\n",
        "# create the plot \n",
        "graphy = ct[['Acting, Comedy & Music', 'Government and Politics', 'Media']].plot(\n",
        "    legend=None, ax=ax, linewidth=5.5, color=['#008fd5', '#fc4f30', '#810f7c'],\n",
        "    figsize=(19,12.5))\n",
        "\n",
        "graphy.set(xlim=(1998, 2016), ylim=(-7,107))\n",
        "graphy.set_facecolor('#f0f0f0')\n",
        "graphy.tick_params(axis='both', pad=15, length=0)\n",
        "\n",
        "# i hate how hacky this feels, there's gotta be a better way...\n",
        "topmargin = graphy.text(x = 1997, y = 126, s = \"\"\"\n",
        "\"\"\")\n",
        "\n",
        "# setting all the text\n",
        "title = graphy.text(x = 1996.7, y = 119.5, s = \"Who Got To Be On 'The Daily Show'?\",\n",
        "               fontsize = 48, weight = 'bold', alpha = .75)\n",
        "subtitle = graphy.text(x = 1996.7, y = 111.3, \n",
        "               s = 'Occupation of guests, by year',\n",
        "              fontsize = 40, alpha = .85)\n",
        "\n",
        "acting = graphy.text(x = 2000.5, y = 80, \n",
        "               s = 'Acting, Comedy & Music',\n",
        "              fontsize = 32, color='#008fd5', fontweight=\"bold\")\n",
        "gov = graphy.text(x = 2009, y = 7, \n",
        "               s = 'Government and Politics',\n",
        "              fontsize = 32, color='#fc4f30', fontweight=\"bold\")\n",
        "media =  graphy.text(x = 2007.3, y = 52, \n",
        "               s = 'Media',\n",
        "              fontsize = 32, color='#810f7c', fontweight=\"bold\")\n",
        "\n",
        "# this just feels wrong\n",
        "graphy.text(x = 1996.3, y = -24, \n",
        "         s = \"\"\"\n",
        "_____________________________________________________________________________________________________________________________________________________                                                                                                                                 \n",
        "         \"\"\",\n",
        "         fontsize = 12, color = '#5b5e5f', backgroundcolor = '#5b5e5f')\n",
        "graphy.text(x = 1996.3, y = -22.4, \n",
        "         s = '     FIVETHIRTYEIGHT                                                                                                       SOURCE: WIKIPEDIA, GOOGLE KNOWLEDGE GRAPH    ',\n",
        "         fontsize = 20, color = '#f0f0f0')\n",
        "\n",
        "\n",
        "plt.xticks([2000, 2004,2008,2012], [\"2000\", \"'04\", \"'08\", \"'12\"], fontsize=26, fontfamily=\"monospace\")\n",
        "plt.yticks([0,25,50,75,100], [\"0\", \"25\", \"50\",\"75\",\"100%\"], fontsize=26, fontfamily=\"monospace\")\n",
        "plt.xlabel(None)\n",
        "plt.axhline(linewidth=2, color=\"#555555\")\n",
        "plt.grid(linewidth=2, alpha=.3)\n",
        "plt.box(on=None)\n",
        "plt.show()"
      ],
      "execution_count": 128,
      "outputs": [
        {
          "output_type": "display_data",
          "data": {
            "image/png": "[encoded data removed]",
            "text/plain": [
              "<Figure size 1368x900 with 1 Axes>"
            ]
          },
          "metadata": {
            "tags": []
          }
        }
      ]
    },
    {
      "cell_type": "code",
      "metadata": {
        "id": "BWzREMb2nDTD",
        "colab_type": "code",
        "colab": {
          "base_uri": "https://localhost:8080/",
          "height": 406
        },
        "outputId": "2399df6f-77ca-4662-f8ce-03227498098e"
      },
      "source": [
        "display(example)"
      ],
      "execution_count": 126,
      "outputs": [
        {
          "output_type": "display_data",
          "data": {
            "image/png": "[encoded data removed]",
            "text/plain": [
              "<IPython.core.display.Image object>"
            ]
          },
          "metadata": {
            "tags": [],
            "image/png": {
              "width": 500
            }
          }
        }
      ]
    }
  ]
}