{
  "nbformat": 4,
  "nbformat_minor": 0,
  "metadata": {
    "colab": {
      "name": "LS_DS_121_Join_and_Reshape_Data.ipynb",
      "version": "0.3.2",
      "provenance": [],
      "collapsed_sections": [],
      "include_colab_link": true
    },
    "kernelspec": {
      "display_name": "Python 3",
      "language": "python",
      "name": "python3"
    }
  },
  "cells": [
    {
      "cell_type": "markdown",
      "metadata": {
        "id": "view-in-github",
        "colab_type": "text"
      },
      "source": [
        "<a href=\"https://colab.research.google.com/github/spentaur/DS-Unit-1-Sprint-2-Data-Wrangling-and-Storytelling/blob/master/module1-join-and-reshape-data/LS_DS_121_Join_and_Reshape_Data.ipynb\" target=\"_parent\"><img src=\"https://colab.research.google.com/assets/colab-badge.svg\" alt=\"Open In Colab\"/></a>"
      ]
    },
    {
      "cell_type": "markdown",
      "metadata": {
        "colab_type": "text",
        "id": "pmU5YUal1eTZ"
      },
      "source": [
        "_Lambda School Data Science_\n",
        "\n",
        "# Join and Reshape datasets\n",
        "\n",
        "Objectives\n",
        "- concatenate data with pandas\n",
        "- merge data with pandas\n",
        "-  understand tidy data formatting\n",
        "-  melt and pivot data with pandas\n",
        "\n",
        "Links\n",
        "- [Pandas Cheat Sheet](https://github.com/pandas-dev/pandas/blob/master/doc/cheatsheet/Pandas_Cheat_Sheet.pdf)\n",
        "- [Tidy Data](https://en.wikipedia.org/wiki/Tidy_data)\n",
        "  - Combine Data Sets: Standard Joins\n",
        "  - Tidy Data\n",
        "  - Reshaping Data\n",
        "- Python Data Science Handbook\n",
        "  - [Chapter 3.6](https://jakevdp.github.io/PythonDataScienceHandbook/03.06-concat-and-append.html), Combining Datasets: Concat and Append\n",
        "  - [Chapter 3.7](https://jakevdp.github.io/PythonDataScienceHandbook/03.07-merge-and-join.html), Combining Datasets: Merge and Join\n",
        "  - [Chapter 3.8](https://jakevdp.github.io/PythonDataScienceHandbook/03.08-aggregation-and-grouping.html), Aggregation and Grouping\n",
        "  - [Chapter 3.9](https://jakevdp.github.io/PythonDataScienceHandbook/03.09-pivot-tables.html), Pivot Tables\n",
        "  \n",
        "Reference\n",
        "- Pandas Documentation: [Reshaping and Pivot Tables](https://pandas.pydata.org/pandas-docs/stable/reshaping.html)\n",
        "- Modern Pandas, Part 5: [Tidy Data](https://tomaugspurger.github.io/modern-5-tidy.html)"
      ]
    },
    {
      "cell_type": "markdown",
      "metadata": {
        "colab_type": "text",
        "id": "Mmi3J5fXrwZ3"
      },
      "source": [
        "## Download data\n",
        "\n",
        "We’ll work with a dataset of [3 Million Instacart Orders, Open Sourced](https://tech.instacart.com/3-million-instacart-orders-open-sourced-d40d29ead6f2)!"
      ]
    },
    {
      "cell_type": "code",
      "metadata": {
        "colab_type": "code",
        "id": "K2kcrJVybjrW",
        "outputId": "52a4751a-ab86-4f13-dda2-4467a7848f20",
        "colab": {
          "base_uri": "https://localhost:8080/",
          "height": 227
        }
      },
      "source": [
        "!wget https://s3.amazonaws.com/instacart-datasets/instacart_online_grocery_shopping_2017_05_01.tar.gz"
      ],
      "execution_count": 1,
      "outputs": [
        {
          "output_type": "stream",
          "text": [
            "--2019-07-25 04:49:59--  https://s3.amazonaws.com/instacart-datasets/instacart_online_grocery_shopping_2017_05_01.tar.gz\n",
            "Resolving s3.amazonaws.com (s3.amazonaws.com)... 52.216.92.245\n",
            "Connecting to s3.amazonaws.com (s3.amazonaws.com)|52.216.92.245|:443... connected.\n",
            "HTTP request sent, awaiting response... 200 OK\n",
            "Length: 205548478 (196M) [application/x-gzip]\n",
            "Saving to: ‘instacart_online_grocery_shopping_2017_05_01.tar.gz.5’\n",
            "\n",
            "instacart_online_gr 100%[===================>] 196.03M  45.9MB/s    in 4.7s    \n",
            "\n",
            "2019-07-25 04:50:04 (42.0 MB/s) - ‘instacart_online_grocery_shopping_2017_05_01.tar.gz.5’ saved [205548478/205548478]\n",
            "\n"
          ],
          "name": "stdout"
        }
      ]
    },
    {
      "cell_type": "code",
      "metadata": {
        "colab_type": "code",
        "id": "kqX40b2kdgAb",
        "outputId": "58b4786d-25ed-4b3a-859d-90cb2582a2bf",
        "colab": {
          "base_uri": "https://localhost:8080/",
          "height": 266
        }
      },
      "source": [
        "!tar --gunzip --extract --verbose --file=instacart_online_grocery_shopping_2017_05_01.tar.gz"
      ],
      "execution_count": 2,
      "outputs": [
        {
          "output_type": "stream",
          "text": [
            "instacart_2017_05_01/\n",
            "instacart_2017_05_01/._aisles.csv\n",
            "instacart_2017_05_01/aisles.csv\n",
            "instacart_2017_05_01/._departments.csv\n",
            "instacart_2017_05_01/departments.csv\n",
            "instacart_2017_05_01/._order_products__prior.csv\n",
            "instacart_2017_05_01/order_products__prior.csv\n",
            "instacart_2017_05_01/._order_products__train.csv\n",
            "instacart_2017_05_01/order_products__train.csv\n",
            "instacart_2017_05_01/._orders.csv\n",
            "instacart_2017_05_01/orders.csv\n",
            "instacart_2017_05_01/._products.csv\n",
            "instacart_2017_05_01/products.csv\n"
          ],
          "name": "stdout"
        }
      ]
    },
    {
      "cell_type": "code",
      "metadata": {
        "colab_type": "code",
        "id": "YbCvZZCBfHCI",
        "outputId": "737aa59c-8b65-4df8-9165-4d1c56ee8ecc",
        "colab": {
          "base_uri": "https://localhost:8080/",
          "height": 36
        }
      },
      "source": [
        "%cd instacart_2017_05_01"
      ],
      "execution_count": 3,
      "outputs": [
        {
          "output_type": "stream",
          "text": [
            "/content/instacart_2017_05_01\n"
          ],
          "name": "stdout"
        }
      ]
    },
    {
      "cell_type": "code",
      "metadata": {
        "id": "etshR5kpvWOj",
        "colab_type": "code",
        "outputId": "f3dba34a-7686-4da0-9170-164ef53f43bc",
        "colab": {
          "base_uri": "https://localhost:8080/",
          "height": 132
        }
      },
      "source": [
        "!ls -lh *.csv"
      ],
      "execution_count": 4,
      "outputs": [
        {
          "output_type": "stream",
          "text": [
            "-rw-r--r-- 1 502 staff 2.6K May  2  2017 aisles.csv\n",
            "-rw-r--r-- 1 502 staff  270 May  2  2017 departments.csv\n",
            "-rw-r--r-- 1 502 staff 551M May  2  2017 order_products__prior.csv\n",
            "-rw-r--r-- 1 502 staff  24M May  2  2017 order_products__train.csv\n",
            "-rw-r--r-- 1 502 staff 104M May  2  2017 orders.csv\n",
            "-rw-r--r-- 1 502 staff 2.1M May  2  2017 products.csv\n"
          ],
          "name": "stdout"
        }
      ]
    },
    {
      "cell_type": "markdown",
      "metadata": {
        "id": "RcCu3Tlgv6J2",
        "colab_type": "text"
      },
      "source": [
        "# Join Datasets"
      ]
    },
    {
      "cell_type": "markdown",
      "metadata": {
        "colab_type": "text",
        "id": "RsA14wiKr03j"
      },
      "source": [
        "## Goal: Reproduce this example\n",
        "\n",
        "The first two orders for user id 1:"
      ]
    },
    {
      "cell_type": "code",
      "metadata": {
        "colab_type": "code",
        "id": "vLqOTMcfjprg",
        "outputId": "4006c5f4-cac6-4015-f5f8-aad7ebf6e7dc",
        "colab": {
          "base_uri": "https://localhost:8080/",
          "height": 312
        }
      },
      "source": [
        "from IPython.display import display, Image\n",
        "url = 'https://cdn-images-1.medium.com/max/1600/1*vYGFQCafJtGBBX5mbl0xyw.png'\n",
        "example = Image(url=url, width=600)\n",
        "\n",
        "display(example)"
      ],
      "execution_count": 5,
      "outputs": [
        {
          "output_type": "display_data",
          "data": {
            "text/html": [
              "<img src=\"https://cdn-images-1.medium.com/max/1600/1*vYGFQCafJtGBBX5mbl0xyw.png\" width=\"600\"/>"
            ],
            "text/plain": [
              "<IPython.core.display.Image object>"
            ]
          },
          "metadata": {
            "tags": []
          }
        }
      ]
    },
    {
      "cell_type": "code",
      "metadata": {
        "id": "XDYE4uGGz8sX",
        "colab_type": "code",
        "colab": {}
      },
      "source": [
        "import pandas as pd"
      ],
      "execution_count": 0,
      "outputs": []
    },
    {
      "cell_type": "markdown",
      "metadata": {
        "colab_type": "text",
        "id": "nPwG8aM_txl4"
      },
      "source": [
        "## Load data\n",
        "\n",
        "Here's a list of all six CSV filenames"
      ]
    },
    {
      "cell_type": "code",
      "metadata": {
        "colab_type": "code",
        "id": "Ksah0cOrfdJQ",
        "outputId": "5309da3d-3df7-4c5c-ae16-4295caccf337",
        "colab": {
          "base_uri": "https://localhost:8080/",
          "height": 132
        }
      },
      "source": [
        "!ls -lh *.csv"
      ],
      "execution_count": 7,
      "outputs": [
        {
          "output_type": "stream",
          "text": [
            "-rw-r--r-- 1 502 staff 2.6K May  2  2017 aisles.csv\n",
            "-rw-r--r-- 1 502 staff  270 May  2  2017 departments.csv\n",
            "-rw-r--r-- 1 502 staff 551M May  2  2017 order_products__prior.csv\n",
            "-rw-r--r-- 1 502 staff  24M May  2  2017 order_products__train.csv\n",
            "-rw-r--r-- 1 502 staff 104M May  2  2017 orders.csv\n",
            "-rw-r--r-- 1 502 staff 2.1M May  2  2017 products.csv\n"
          ],
          "name": "stdout"
        }
      ]
    },
    {
      "cell_type": "markdown",
      "metadata": {
        "colab_type": "text",
        "id": "AHT7fKuxvPgV"
      },
      "source": [
        "For each CSV\n",
        "- Load it with pandas\n",
        "- Look at the dataframe's shape\n",
        "- Look at its head (first rows)\n",
        "- `display(example)`\n",
        "- Which columns does it have in common with the example we want to reproduce?"
      ]
    },
    {
      "cell_type": "markdown",
      "metadata": {
        "colab_type": "text",
        "id": "cB_5T6TprcUH"
      },
      "source": [
        "### aisles"
      ]
    },
    {
      "cell_type": "code",
      "metadata": {
        "colab_type": "code",
        "id": "JB3bvwSDK6v3",
        "outputId": "1a06991c-7061-4498-aa9d-31d8ed2cb507",
        "colab": {
          "base_uri": "https://localhost:8080/",
          "height": 225
        }
      },
      "source": [
        "aisles = pd.read_csv('aisles.csv')\n",
        "print(aisles.shape)\n",
        "aisles.head()"
      ],
      "execution_count": 8,
      "outputs": [
        {
          "output_type": "stream",
          "text": [
            "(134, 2)\n"
          ],
          "name": "stdout"
        },
        {
          "output_type": "execute_result",
          "data": {
            "text/html": [
              "<div>\n",
              "<style scoped>\n",
              "    .dataframe tbody tr th:only-of-type {\n",
              "        vertical-align: middle;\n",
              "    }\n",
              "\n",
              "    .dataframe tbody tr th {\n",
              "        vertical-align: top;\n",
              "    }\n",
              "\n",
              "    .dataframe thead th {\n",
              "        text-align: right;\n",
              "    }\n",
              "</style>\n",
              "<table border=\"1\" class=\"dataframe\">\n",
              "  <thead>\n",
              "    <tr style=\"text-align: right;\">\n",
              "      <th></th>\n",
              "      <th>aisle_id</th>\n",
              "      <th>aisle</th>\n",
              "    </tr>\n",
              "  </thead>\n",
              "  <tbody>\n",
              "    <tr>\n",
              "      <th>0</th>\n",
              "      <td>1</td>\n",
              "      <td>prepared soups salads</td>\n",
              "    </tr>\n",
              "    <tr>\n",
              "      <th>1</th>\n",
              "      <td>2</td>\n",
              "      <td>specialty cheeses</td>\n",
              "    </tr>\n",
              "    <tr>\n",
              "      <th>2</th>\n",
              "      <td>3</td>\n",
              "      <td>energy granola bars</td>\n",
              "    </tr>\n",
              "    <tr>\n",
              "      <th>3</th>\n",
              "      <td>4</td>\n",
              "      <td>instant foods</td>\n",
              "    </tr>\n",
              "    <tr>\n",
              "      <th>4</th>\n",
              "      <td>5</td>\n",
              "      <td>marinades meat preparation</td>\n",
              "    </tr>\n",
              "  </tbody>\n",
              "</table>\n",
              "</div>"
            ],
            "text/plain": [
              "   aisle_id                       aisle\n",
              "0         1       prepared soups salads\n",
              "1         2           specialty cheeses\n",
              "2         3         energy granola bars\n",
              "3         4               instant foods\n",
              "4         5  marinades meat preparation"
            ]
          },
          "metadata": {
            "tags": []
          },
          "execution_count": 8
        }
      ]
    },
    {
      "cell_type": "code",
      "metadata": {
        "id": "IEHSWLG_0BY9",
        "colab_type": "code",
        "outputId": "01f57b00-eef5-42cb-f895-916f87c5f423",
        "colab": {
          "base_uri": "https://localhost:8080/",
          "height": 312
        }
      },
      "source": [
        "display(example)"
      ],
      "execution_count": 9,
      "outputs": [
        {
          "output_type": "display_data",
          "data": {
            "text/html": [
              "<img src=\"https://cdn-images-1.medium.com/max/1600/1*vYGFQCafJtGBBX5mbl0xyw.png\" width=\"600\"/>"
            ],
            "text/plain": [
              "<IPython.core.display.Image object>"
            ]
          },
          "metadata": {
            "tags": []
          }
        }
      ]
    },
    {
      "cell_type": "code",
      "metadata": {
        "id": "1W-Admj00C-n",
        "colab_type": "code",
        "colab": {}
      },
      "source": [
        "# none"
      ],
      "execution_count": 0,
      "outputs": []
    },
    {
      "cell_type": "markdown",
      "metadata": {
        "colab_type": "text",
        "id": "9-GrkqM6rfXr"
      },
      "source": [
        "### departments"
      ]
    },
    {
      "cell_type": "code",
      "metadata": {
        "id": "yxFd5n20yOVn",
        "colab_type": "code",
        "outputId": "5461db41-493a-4058-949b-e147eafe01af",
        "colab": {
          "base_uri": "https://localhost:8080/",
          "height": 225
        }
      },
      "source": [
        "departments = pd.read_csv('departments.csv')\n",
        "print(departments.shape)\n",
        "departments.head()"
      ],
      "execution_count": 11,
      "outputs": [
        {
          "output_type": "stream",
          "text": [
            "(21, 2)\n"
          ],
          "name": "stdout"
        },
        {
          "output_type": "execute_result",
          "data": {
            "text/html": [
              "<div>\n",
              "<style scoped>\n",
              "    .dataframe tbody tr th:only-of-type {\n",
              "        vertical-align: middle;\n",
              "    }\n",
              "\n",
              "    .dataframe tbody tr th {\n",
              "        vertical-align: top;\n",
              "    }\n",
              "\n",
              "    .dataframe thead th {\n",
              "        text-align: right;\n",
              "    }\n",
              "</style>\n",
              "<table border=\"1\" class=\"dataframe\">\n",
              "  <thead>\n",
              "    <tr style=\"text-align: right;\">\n",
              "      <th></th>\n",
              "      <th>department_id</th>\n",
              "      <th>department</th>\n",
              "    </tr>\n",
              "  </thead>\n",
              "  <tbody>\n",
              "    <tr>\n",
              "      <th>0</th>\n",
              "      <td>1</td>\n",
              "      <td>frozen</td>\n",
              "    </tr>\n",
              "    <tr>\n",
              "      <th>1</th>\n",
              "      <td>2</td>\n",
              "      <td>other</td>\n",
              "    </tr>\n",
              "    <tr>\n",
              "      <th>2</th>\n",
              "      <td>3</td>\n",
              "      <td>bakery</td>\n",
              "    </tr>\n",
              "    <tr>\n",
              "      <th>3</th>\n",
              "      <td>4</td>\n",
              "      <td>produce</td>\n",
              "    </tr>\n",
              "    <tr>\n",
              "      <th>4</th>\n",
              "      <td>5</td>\n",
              "      <td>alcohol</td>\n",
              "    </tr>\n",
              "  </tbody>\n",
              "</table>\n",
              "</div>"
            ],
            "text/plain": [
              "   department_id department\n",
              "0              1     frozen\n",
              "1              2      other\n",
              "2              3     bakery\n",
              "3              4    produce\n",
              "4              5    alcohol"
            ]
          },
          "metadata": {
            "tags": []
          },
          "execution_count": 11
        }
      ]
    },
    {
      "cell_type": "code",
      "metadata": {
        "id": "mRva8n0P0Pff",
        "colab_type": "code",
        "colab": {}
      },
      "source": [
        "# none"
      ],
      "execution_count": 0,
      "outputs": []
    },
    {
      "cell_type": "markdown",
      "metadata": {
        "colab_type": "text",
        "id": "VhhVcn9kK-nG"
      },
      "source": [
        "### order_products__prior"
      ]
    },
    {
      "cell_type": "code",
      "metadata": {
        "id": "86rIMNFSzKaG",
        "colab_type": "code",
        "outputId": "65354a59-e4af-4672-ef81-1a157d1f8e28",
        "colab": {
          "base_uri": "https://localhost:8080/",
          "height": 225
        }
      },
      "source": [
        "order_products__prior = pd.read_csv('order_products__prior.csv')\n",
        "print(order_products__prior.shape)\n",
        "order_products__prior.head()"
      ],
      "execution_count": 13,
      "outputs": [
        {
          "output_type": "stream",
          "text": [
            "(32434489, 4)\n"
          ],
          "name": "stdout"
        },
        {
          "output_type": "execute_result",
          "data": {
            "text/html": [
              "<div>\n",
              "<style scoped>\n",
              "    .dataframe tbody tr th:only-of-type {\n",
              "        vertical-align: middle;\n",
              "    }\n",
              "\n",
              "    .dataframe tbody tr th {\n",
              "        vertical-align: top;\n",
              "    }\n",
              "\n",
              "    .dataframe thead th {\n",
              "        text-align: right;\n",
              "    }\n",
              "</style>\n",
              "<table border=\"1\" class=\"dataframe\">\n",
              "  <thead>\n",
              "    <tr style=\"text-align: right;\">\n",
              "      <th></th>\n",
              "      <th>order_id</th>\n",
              "      <th>product_id</th>\n",
              "      <th>add_to_cart_order</th>\n",
              "      <th>reordered</th>\n",
              "    </tr>\n",
              "  </thead>\n",
              "  <tbody>\n",
              "    <tr>\n",
              "      <th>0</th>\n",
              "      <td>2</td>\n",
              "      <td>33120</td>\n",
              "      <td>1</td>\n",
              "      <td>1</td>\n",
              "    </tr>\n",
              "    <tr>\n",
              "      <th>1</th>\n",
              "      <td>2</td>\n",
              "      <td>28985</td>\n",
              "      <td>2</td>\n",
              "      <td>1</td>\n",
              "    </tr>\n",
              "    <tr>\n",
              "      <th>2</th>\n",
              "      <td>2</td>\n",
              "      <td>9327</td>\n",
              "      <td>3</td>\n",
              "      <td>0</td>\n",
              "    </tr>\n",
              "    <tr>\n",
              "      <th>3</th>\n",
              "      <td>2</td>\n",
              "      <td>45918</td>\n",
              "      <td>4</td>\n",
              "      <td>1</td>\n",
              "    </tr>\n",
              "    <tr>\n",
              "      <th>4</th>\n",
              "      <td>2</td>\n",
              "      <td>30035</td>\n",
              "      <td>5</td>\n",
              "      <td>0</td>\n",
              "    </tr>\n",
              "  </tbody>\n",
              "</table>\n",
              "</div>"
            ],
            "text/plain": [
              "   order_id  product_id  add_to_cart_order  reordered\n",
              "0         2       33120                  1          1\n",
              "1         2       28985                  2          1\n",
              "2         2        9327                  3          0\n",
              "3         2       45918                  4          1\n",
              "4         2       30035                  5          0"
            ]
          },
          "metadata": {
            "tags": []
          },
          "execution_count": 13
        }
      ]
    },
    {
      "cell_type": "code",
      "metadata": {
        "id": "rgkWN2lM0eyA",
        "colab_type": "code",
        "outputId": "5a13e456-0910-4883-9eb8-121b69c07bf6",
        "colab": {
          "base_uri": "https://localhost:8080/",
          "height": 312
        }
      },
      "source": [
        "display(example)"
      ],
      "execution_count": 14,
      "outputs": [
        {
          "output_type": "display_data",
          "data": {
            "text/html": [
              "<img src=\"https://cdn-images-1.medium.com/max/1600/1*vYGFQCafJtGBBX5mbl0xyw.png\" width=\"600\"/>"
            ],
            "text/plain": [
              "<IPython.core.display.Image object>"
            ]
          },
          "metadata": {
            "tags": []
          }
        }
      ]
    },
    {
      "cell_type": "code",
      "metadata": {
        "id": "ZVC4lvLb0iFU",
        "colab_type": "code",
        "colab": {}
      },
      "source": [
        "# order_id, product_id"
      ],
      "execution_count": 0,
      "outputs": []
    },
    {
      "cell_type": "markdown",
      "metadata": {
        "colab_type": "text",
        "id": "HVYJEKJcLBut"
      },
      "source": [
        "### order_products__train"
      ]
    },
    {
      "cell_type": "code",
      "metadata": {
        "id": "xgwSUCBk6Ciy",
        "colab_type": "code",
        "outputId": "06be6ba2-83b3-4d04-c936-761f30a1608d",
        "colab": {
          "base_uri": "https://localhost:8080/",
          "height": 225
        }
      },
      "source": [
        "order_products__train = pd.read_csv('order_products__train.csv')\n",
        "print(order_products__train.shape)\n",
        "order_products__train.head()"
      ],
      "execution_count": 16,
      "outputs": [
        {
          "output_type": "stream",
          "text": [
            "(1384617, 4)\n"
          ],
          "name": "stdout"
        },
        {
          "output_type": "execute_result",
          "data": {
            "text/html": [
              "<div>\n",
              "<style scoped>\n",
              "    .dataframe tbody tr th:only-of-type {\n",
              "        vertical-align: middle;\n",
              "    }\n",
              "\n",
              "    .dataframe tbody tr th {\n",
              "        vertical-align: top;\n",
              "    }\n",
              "\n",
              "    .dataframe thead th {\n",
              "        text-align: right;\n",
              "    }\n",
              "</style>\n",
              "<table border=\"1\" class=\"dataframe\">\n",
              "  <thead>\n",
              "    <tr style=\"text-align: right;\">\n",
              "      <th></th>\n",
              "      <th>order_id</th>\n",
              "      <th>product_id</th>\n",
              "      <th>add_to_cart_order</th>\n",
              "      <th>reordered</th>\n",
              "    </tr>\n",
              "  </thead>\n",
              "  <tbody>\n",
              "    <tr>\n",
              "      <th>0</th>\n",
              "      <td>1</td>\n",
              "      <td>49302</td>\n",
              "      <td>1</td>\n",
              "      <td>1</td>\n",
              "    </tr>\n",
              "    <tr>\n",
              "      <th>1</th>\n",
              "      <td>1</td>\n",
              "      <td>11109</td>\n",
              "      <td>2</td>\n",
              "      <td>1</td>\n",
              "    </tr>\n",
              "    <tr>\n",
              "      <th>2</th>\n",
              "      <td>1</td>\n",
              "      <td>10246</td>\n",
              "      <td>3</td>\n",
              "      <td>0</td>\n",
              "    </tr>\n",
              "    <tr>\n",
              "      <th>3</th>\n",
              "      <td>1</td>\n",
              "      <td>49683</td>\n",
              "      <td>4</td>\n",
              "      <td>0</td>\n",
              "    </tr>\n",
              "    <tr>\n",
              "      <th>4</th>\n",
              "      <td>1</td>\n",
              "      <td>43633</td>\n",
              "      <td>5</td>\n",
              "      <td>1</td>\n",
              "    </tr>\n",
              "  </tbody>\n",
              "</table>\n",
              "</div>"
            ],
            "text/plain": [
              "   order_id  product_id  add_to_cart_order  reordered\n",
              "0         1       49302                  1          1\n",
              "1         1       11109                  2          1\n",
              "2         1       10246                  3          0\n",
              "3         1       49683                  4          0\n",
              "4         1       43633                  5          1"
            ]
          },
          "metadata": {
            "tags": []
          },
          "execution_count": 16
        }
      ]
    },
    {
      "cell_type": "code",
      "metadata": {
        "id": "hS_mhtAJ01DZ",
        "colab_type": "code",
        "colab": {}
      },
      "source": [
        "# order_id, product_id"
      ],
      "execution_count": 0,
      "outputs": []
    },
    {
      "cell_type": "markdown",
      "metadata": {
        "colab_type": "text",
        "id": "LYPrWUJnrp7G"
      },
      "source": [
        "### orders"
      ]
    },
    {
      "cell_type": "code",
      "metadata": {
        "id": "UfPRTW5w128P",
        "colab_type": "code",
        "outputId": "ff3a9b9f-ae50-4f64-dde9-c4a6ecc2b41c",
        "colab": {
          "base_uri": "https://localhost:8080/",
          "height": 225
        }
      },
      "source": [
        "orders = pd.read_csv('orders.csv')\n",
        "print(orders.shape)\n",
        "orders.head()"
      ],
      "execution_count": 18,
      "outputs": [
        {
          "output_type": "stream",
          "text": [
            "(3421083, 7)\n"
          ],
          "name": "stdout"
        },
        {
          "output_type": "execute_result",
          "data": {
            "text/html": [
              "<div>\n",
              "<style scoped>\n",
              "    .dataframe tbody tr th:only-of-type {\n",
              "        vertical-align: middle;\n",
              "    }\n",
              "\n",
              "    .dataframe tbody tr th {\n",
              "        vertical-align: top;\n",
              "    }\n",
              "\n",
              "    .dataframe thead th {\n",
              "        text-align: right;\n",
              "    }\n",
              "</style>\n",
              "<table border=\"1\" class=\"dataframe\">\n",
              "  <thead>\n",
              "    <tr style=\"text-align: right;\">\n",
              "      <th></th>\n",
              "      <th>order_id</th>\n",
              "      <th>user_id</th>\n",
              "      <th>eval_set</th>\n",
              "      <th>order_number</th>\n",
              "      <th>order_dow</th>\n",
              "      <th>order_hour_of_day</th>\n",
              "      <th>days_since_prior_order</th>\n",
              "    </tr>\n",
              "  </thead>\n",
              "  <tbody>\n",
              "    <tr>\n",
              "      <th>0</th>\n",
              "      <td>2539329</td>\n",
              "      <td>1</td>\n",
              "      <td>prior</td>\n",
              "      <td>1</td>\n",
              "      <td>2</td>\n",
              "      <td>8</td>\n",
              "      <td>NaN</td>\n",
              "    </tr>\n",
              "    <tr>\n",
              "      <th>1</th>\n",
              "      <td>2398795</td>\n",
              "      <td>1</td>\n",
              "      <td>prior</td>\n",
              "      <td>2</td>\n",
              "      <td>3</td>\n",
              "      <td>7</td>\n",
              "      <td>15.0</td>\n",
              "    </tr>\n",
              "    <tr>\n",
              "      <th>2</th>\n",
              "      <td>473747</td>\n",
              "      <td>1</td>\n",
              "      <td>prior</td>\n",
              "      <td>3</td>\n",
              "      <td>3</td>\n",
              "      <td>12</td>\n",
              "      <td>21.0</td>\n",
              "    </tr>\n",
              "    <tr>\n",
              "      <th>3</th>\n",
              "      <td>2254736</td>\n",
              "      <td>1</td>\n",
              "      <td>prior</td>\n",
              "      <td>4</td>\n",
              "      <td>4</td>\n",
              "      <td>7</td>\n",
              "      <td>29.0</td>\n",
              "    </tr>\n",
              "    <tr>\n",
              "      <th>4</th>\n",
              "      <td>431534</td>\n",
              "      <td>1</td>\n",
              "      <td>prior</td>\n",
              "      <td>5</td>\n",
              "      <td>4</td>\n",
              "      <td>15</td>\n",
              "      <td>28.0</td>\n",
              "    </tr>\n",
              "  </tbody>\n",
              "</table>\n",
              "</div>"
            ],
            "text/plain": [
              "   order_id  user_id  ... order_hour_of_day  days_since_prior_order\n",
              "0   2539329        1  ...                 8                     NaN\n",
              "1   2398795        1  ...                 7                    15.0\n",
              "2    473747        1  ...                12                    21.0\n",
              "3   2254736        1  ...                 7                    29.0\n",
              "4    431534        1  ...                15                    28.0\n",
              "\n",
              "[5 rows x 7 columns]"
            ]
          },
          "metadata": {
            "tags": []
          },
          "execution_count": 18
        }
      ]
    },
    {
      "cell_type": "code",
      "metadata": {
        "id": "kZE2zXRS08Ct",
        "colab_type": "code",
        "outputId": "2074f1f4-7a98-4813-9e4f-4557d02e3d98",
        "colab": {
          "base_uri": "https://localhost:8080/",
          "height": 312
        }
      },
      "source": [
        "display(example)"
      ],
      "execution_count": 19,
      "outputs": [
        {
          "output_type": "display_data",
          "data": {
            "text/html": [
              "<img src=\"https://cdn-images-1.medium.com/max/1600/1*vYGFQCafJtGBBX5mbl0xyw.png\" width=\"600\"/>"
            ],
            "text/plain": [
              "<IPython.core.display.Image object>"
            ]
          },
          "metadata": {
            "tags": []
          }
        }
      ]
    },
    {
      "cell_type": "code",
      "metadata": {
        "id": "OQQFF0jl0-De",
        "colab_type": "code",
        "colab": {}
      },
      "source": [
        "# order_id, user_id, order_num, order_dow, order_hour_of_day"
      ],
      "execution_count": 0,
      "outputs": []
    },
    {
      "cell_type": "markdown",
      "metadata": {
        "colab_type": "text",
        "id": "nIX3SYXersao"
      },
      "source": [
        "### products"
      ]
    },
    {
      "cell_type": "code",
      "metadata": {
        "id": "3BKG5dxy2IOA",
        "colab_type": "code",
        "outputId": "d9c94263-79b8-4854-efd8-48b4aa714a84",
        "colab": {
          "base_uri": "https://localhost:8080/",
          "height": 225
        }
      },
      "source": [
        "products = pd.read_csv('products.csv')\n",
        "print(products.shape)\n",
        "products.head()"
      ],
      "execution_count": 21,
      "outputs": [
        {
          "output_type": "stream",
          "text": [
            "(49688, 4)\n"
          ],
          "name": "stdout"
        },
        {
          "output_type": "execute_result",
          "data": {
            "text/html": [
              "<div>\n",
              "<style scoped>\n",
              "    .dataframe tbody tr th:only-of-type {\n",
              "        vertical-align: middle;\n",
              "    }\n",
              "\n",
              "    .dataframe tbody tr th {\n",
              "        vertical-align: top;\n",
              "    }\n",
              "\n",
              "    .dataframe thead th {\n",
              "        text-align: right;\n",
              "    }\n",
              "</style>\n",
              "<table border=\"1\" class=\"dataframe\">\n",
              "  <thead>\n",
              "    <tr style=\"text-align: right;\">\n",
              "      <th></th>\n",
              "      <th>product_id</th>\n",
              "      <th>product_name</th>\n",
              "      <th>aisle_id</th>\n",
              "      <th>department_id</th>\n",
              "    </tr>\n",
              "  </thead>\n",
              "  <tbody>\n",
              "    <tr>\n",
              "      <th>0</th>\n",
              "      <td>1</td>\n",
              "      <td>Chocolate Sandwich Cookies</td>\n",
              "      <td>61</td>\n",
              "      <td>19</td>\n",
              "    </tr>\n",
              "    <tr>\n",
              "      <th>1</th>\n",
              "      <td>2</td>\n",
              "      <td>All-Seasons Salt</td>\n",
              "      <td>104</td>\n",
              "      <td>13</td>\n",
              "    </tr>\n",
              "    <tr>\n",
              "      <th>2</th>\n",
              "      <td>3</td>\n",
              "      <td>Robust Golden Unsweetened Oolong Tea</td>\n",
              "      <td>94</td>\n",
              "      <td>7</td>\n",
              "    </tr>\n",
              "    <tr>\n",
              "      <th>3</th>\n",
              "      <td>4</td>\n",
              "      <td>Smart Ones Classic Favorites Mini Rigatoni Wit...</td>\n",
              "      <td>38</td>\n",
              "      <td>1</td>\n",
              "    </tr>\n",
              "    <tr>\n",
              "      <th>4</th>\n",
              "      <td>5</td>\n",
              "      <td>Green Chile Anytime Sauce</td>\n",
              "      <td>5</td>\n",
              "      <td>13</td>\n",
              "    </tr>\n",
              "  </tbody>\n",
              "</table>\n",
              "</div>"
            ],
            "text/plain": [
              "   product_id  ... department_id\n",
              "0           1  ...            19\n",
              "1           2  ...            13\n",
              "2           3  ...             7\n",
              "3           4  ...             1\n",
              "4           5  ...            13\n",
              "\n",
              "[5 rows x 4 columns]"
            ]
          },
          "metadata": {
            "tags": []
          },
          "execution_count": 21
        }
      ]
    },
    {
      "cell_type": "code",
      "metadata": {
        "id": "STWKOzcf1RiK",
        "colab_type": "code",
        "colab": {}
      },
      "source": [
        "# product_id, product_name"
      ],
      "execution_count": 0,
      "outputs": []
    },
    {
      "cell_type": "markdown",
      "metadata": {
        "colab_type": "text",
        "id": "cbHumXOiJfy2"
      },
      "source": [
        "## Concatenate order_products__prior and order_products__train"
      ]
    },
    {
      "cell_type": "code",
      "metadata": {
        "colab_type": "code",
        "id": "TJ23kqpAY8Vv",
        "outputId": "f582dee4-c5a1-411e-af40-b6d271693989",
        "colab": {
          "base_uri": "https://localhost:8080/",
          "height": 225
        }
      },
      "source": [
        "order_products = pd.concat([order_products__prior, order_products__train])\n",
        "print(order_products.shape)\n",
        "order_products.head()"
      ],
      "execution_count": 23,
      "outputs": [
        {
          "output_type": "stream",
          "text": [
            "(33819106, 4)\n"
          ],
          "name": "stdout"
        },
        {
          "output_type": "execute_result",
          "data": {
            "text/html": [
              "<div>\n",
              "<style scoped>\n",
              "    .dataframe tbody tr th:only-of-type {\n",
              "        vertical-align: middle;\n",
              "    }\n",
              "\n",
              "    .dataframe tbody tr th {\n",
              "        vertical-align: top;\n",
              "    }\n",
              "\n",
              "    .dataframe thead th {\n",
              "        text-align: right;\n",
              "    }\n",
              "</style>\n",
              "<table border=\"1\" class=\"dataframe\">\n",
              "  <thead>\n",
              "    <tr style=\"text-align: right;\">\n",
              "      <th></th>\n",
              "      <th>order_id</th>\n",
              "      <th>product_id</th>\n",
              "      <th>add_to_cart_order</th>\n",
              "      <th>reordered</th>\n",
              "    </tr>\n",
              "  </thead>\n",
              "  <tbody>\n",
              "    <tr>\n",
              "      <th>0</th>\n",
              "      <td>2</td>\n",
              "      <td>33120</td>\n",
              "      <td>1</td>\n",
              "      <td>1</td>\n",
              "    </tr>\n",
              "    <tr>\n",
              "      <th>1</th>\n",
              "      <td>2</td>\n",
              "      <td>28985</td>\n",
              "      <td>2</td>\n",
              "      <td>1</td>\n",
              "    </tr>\n",
              "    <tr>\n",
              "      <th>2</th>\n",
              "      <td>2</td>\n",
              "      <td>9327</td>\n",
              "      <td>3</td>\n",
              "      <td>0</td>\n",
              "    </tr>\n",
              "    <tr>\n",
              "      <th>3</th>\n",
              "      <td>2</td>\n",
              "      <td>45918</td>\n",
              "      <td>4</td>\n",
              "      <td>1</td>\n",
              "    </tr>\n",
              "    <tr>\n",
              "      <th>4</th>\n",
              "      <td>2</td>\n",
              "      <td>30035</td>\n",
              "      <td>5</td>\n",
              "      <td>0</td>\n",
              "    </tr>\n",
              "  </tbody>\n",
              "</table>\n",
              "</div>"
            ],
            "text/plain": [
              "   order_id  product_id  add_to_cart_order  reordered\n",
              "0         2       33120                  1          1\n",
              "1         2       28985                  2          1\n",
              "2         2        9327                  3          0\n",
              "3         2       45918                  4          1\n",
              "4         2       30035                  5          0"
            ]
          },
          "metadata": {
            "tags": []
          },
          "execution_count": 23
        }
      ]
    },
    {
      "cell_type": "code",
      "metadata": {
        "id": "Yegcxbkk2DH1",
        "colab_type": "code",
        "colab": {}
      },
      "source": [
        "assert len(order_products) == len(order_products__prior) + len(order_products__train), 'Concatenate order_products__prior and order_products__train went wrong'"
      ],
      "execution_count": 0,
      "outputs": []
    },
    {
      "cell_type": "markdown",
      "metadata": {
        "colab_type": "text",
        "id": "Z1YRw5ypJuv2"
      },
      "source": [
        "## Get a subset of orders — the first two orders for user id 1"
      ]
    },
    {
      "cell_type": "markdown",
      "metadata": {
        "id": "eJ9EixWs6K64",
        "colab_type": "text"
      },
      "source": [
        "From `orders` dataframe:\n",
        "- user_id\n",
        "- order_id\n",
        "- order_number\n",
        "- order_dow\n",
        "- order_hour_of_day"
      ]
    },
    {
      "cell_type": "code",
      "metadata": {
        "id": "WX5r3D4g2bcM",
        "colab_type": "code",
        "outputId": "13333a5e-ed15-4eb5-dbc5-3a2adccb2b30",
        "colab": {
          "base_uri": "https://localhost:8080/",
          "height": 131
        }
      },
      "source": [
        "user_1_first_2 = orders[['user_id', 'order_id', 'order_number', 'order_dow', 'order_hour_of_day']].loc[(orders['user_id'] == 1) & (orders['order_number'] <= 2)]\n",
        "print(user_1_first_2.shape)\n",
        "user_1_first_2.head()"
      ],
      "execution_count": 25,
      "outputs": [
        {
          "output_type": "stream",
          "text": [
            "(2, 5)\n"
          ],
          "name": "stdout"
        },
        {
          "output_type": "execute_result",
          "data": {
            "text/html": [
              "<div>\n",
              "<style scoped>\n",
              "    .dataframe tbody tr th:only-of-type {\n",
              "        vertical-align: middle;\n",
              "    }\n",
              "\n",
              "    .dataframe tbody tr th {\n",
              "        vertical-align: top;\n",
              "    }\n",
              "\n",
              "    .dataframe thead th {\n",
              "        text-align: right;\n",
              "    }\n",
              "</style>\n",
              "<table border=\"1\" class=\"dataframe\">\n",
              "  <thead>\n",
              "    <tr style=\"text-align: right;\">\n",
              "      <th></th>\n",
              "      <th>user_id</th>\n",
              "      <th>order_id</th>\n",
              "      <th>order_number</th>\n",
              "      <th>order_dow</th>\n",
              "      <th>order_hour_of_day</th>\n",
              "    </tr>\n",
              "  </thead>\n",
              "  <tbody>\n",
              "    <tr>\n",
              "      <th>0</th>\n",
              "      <td>1</td>\n",
              "      <td>2539329</td>\n",
              "      <td>1</td>\n",
              "      <td>2</td>\n",
              "      <td>8</td>\n",
              "    </tr>\n",
              "    <tr>\n",
              "      <th>1</th>\n",
              "      <td>1</td>\n",
              "      <td>2398795</td>\n",
              "      <td>2</td>\n",
              "      <td>3</td>\n",
              "      <td>7</td>\n",
              "    </tr>\n",
              "  </tbody>\n",
              "</table>\n",
              "</div>"
            ],
            "text/plain": [
              "   user_id  order_id  order_number  order_dow  order_hour_of_day\n",
              "0        1   2539329             1          2                  8\n",
              "1        1   2398795             2          3                  7"
            ]
          },
          "metadata": {
            "tags": []
          },
          "execution_count": 25
        }
      ]
    },
    {
      "cell_type": "code",
      "metadata": {
        "id": "lbspdkhM6ey5",
        "colab_type": "code",
        "outputId": "d49c534f-f30d-4d5d-e63f-a90d2afc71bc",
        "colab": {
          "base_uri": "https://localhost:8080/",
          "height": 36
        }
      },
      "source": [
        "[col for col in orders.columns if col not in ['eval_set', 'days_since_prior_order']]"
      ],
      "execution_count": 26,
      "outputs": [
        {
          "output_type": "execute_result",
          "data": {
            "text/plain": [
              "['order_id', 'user_id', 'order_number', 'order_dow', 'order_hour_of_day']"
            ]
          },
          "metadata": {
            "tags": []
          },
          "execution_count": 26
        }
      ]
    },
    {
      "cell_type": "markdown",
      "metadata": {
        "colab_type": "text",
        "id": "3K1p0QHuKPnt"
      },
      "source": [
        "## Merge dataframes"
      ]
    },
    {
      "cell_type": "markdown",
      "metadata": {
        "id": "4MVZ9vb1BuO0",
        "colab_type": "text"
      },
      "source": [
        "Merge the subset from `orders` with columns from `order_products`"
      ]
    },
    {
      "cell_type": "code",
      "metadata": {
        "id": "3lajwEE86iKc",
        "colab_type": "code",
        "outputId": "b86bc65a-8165-4f99-c7d6-8d518422990d",
        "colab": {
          "base_uri": "https://localhost:8080/",
          "height": 225
        }
      },
      "source": [
        "merged = pd.merge(user_1_first_2, order_products[['order_id', 'add_to_cart_order', 'product_id']], how='left', on='order_id')\n",
        "print(merged.shape)\n",
        "merged.head()"
      ],
      "execution_count": 27,
      "outputs": [
        {
          "output_type": "stream",
          "text": [
            "(11, 7)\n"
          ],
          "name": "stdout"
        },
        {
          "output_type": "execute_result",
          "data": {
            "text/html": [
              "<div>\n",
              "<style scoped>\n",
              "    .dataframe tbody tr th:only-of-type {\n",
              "        vertical-align: middle;\n",
              "    }\n",
              "\n",
              "    .dataframe tbody tr th {\n",
              "        vertical-align: top;\n",
              "    }\n",
              "\n",
              "    .dataframe thead th {\n",
              "        text-align: right;\n",
              "    }\n",
              "</style>\n",
              "<table border=\"1\" class=\"dataframe\">\n",
              "  <thead>\n",
              "    <tr style=\"text-align: right;\">\n",
              "      <th></th>\n",
              "      <th>user_id</th>\n",
              "      <th>order_id</th>\n",
              "      <th>order_number</th>\n",
              "      <th>order_dow</th>\n",
              "      <th>order_hour_of_day</th>\n",
              "      <th>add_to_cart_order</th>\n",
              "      <th>product_id</th>\n",
              "    </tr>\n",
              "  </thead>\n",
              "  <tbody>\n",
              "    <tr>\n",
              "      <th>0</th>\n",
              "      <td>1</td>\n",
              "      <td>2539329</td>\n",
              "      <td>1</td>\n",
              "      <td>2</td>\n",
              "      <td>8</td>\n",
              "      <td>1</td>\n",
              "      <td>196</td>\n",
              "    </tr>\n",
              "    <tr>\n",
              "      <th>1</th>\n",
              "      <td>1</td>\n",
              "      <td>2539329</td>\n",
              "      <td>1</td>\n",
              "      <td>2</td>\n",
              "      <td>8</td>\n",
              "      <td>2</td>\n",
              "      <td>14084</td>\n",
              "    </tr>\n",
              "    <tr>\n",
              "      <th>2</th>\n",
              "      <td>1</td>\n",
              "      <td>2539329</td>\n",
              "      <td>1</td>\n",
              "      <td>2</td>\n",
              "      <td>8</td>\n",
              "      <td>3</td>\n",
              "      <td>12427</td>\n",
              "    </tr>\n",
              "    <tr>\n",
              "      <th>3</th>\n",
              "      <td>1</td>\n",
              "      <td>2539329</td>\n",
              "      <td>1</td>\n",
              "      <td>2</td>\n",
              "      <td>8</td>\n",
              "      <td>4</td>\n",
              "      <td>26088</td>\n",
              "    </tr>\n",
              "    <tr>\n",
              "      <th>4</th>\n",
              "      <td>1</td>\n",
              "      <td>2539329</td>\n",
              "      <td>1</td>\n",
              "      <td>2</td>\n",
              "      <td>8</td>\n",
              "      <td>5</td>\n",
              "      <td>26405</td>\n",
              "    </tr>\n",
              "  </tbody>\n",
              "</table>\n",
              "</div>"
            ],
            "text/plain": [
              "   user_id  order_id  ...  add_to_cart_order  product_id\n",
              "0        1   2539329  ...                  1         196\n",
              "1        1   2539329  ...                  2       14084\n",
              "2        1   2539329  ...                  3       12427\n",
              "3        1   2539329  ...                  4       26088\n",
              "4        1   2539329  ...                  5       26405\n",
              "\n",
              "[5 rows x 7 columns]"
            ]
          },
          "metadata": {
            "tags": []
          },
          "execution_count": 27
        }
      ]
    },
    {
      "cell_type": "code",
      "metadata": {
        "id": "D74N3ajI8yZ3",
        "colab_type": "code",
        "outputId": "7197b62a-20cc-4b2c-9130-9d04ef4b80cb",
        "colab": {
          "base_uri": "https://localhost:8080/",
          "height": 36
        }
      },
      "source": [
        "user_1_first_2.shape, order_products.shape, merged.shape"
      ],
      "execution_count": 28,
      "outputs": [
        {
          "output_type": "execute_result",
          "data": {
            "text/plain": [
              "((2, 5), (33819106, 4), (11, 7))"
            ]
          },
          "metadata": {
            "tags": []
          },
          "execution_count": 28
        }
      ]
    },
    {
      "cell_type": "markdown",
      "metadata": {
        "id": "i1uLO1bxByfz",
        "colab_type": "text"
      },
      "source": [
        "Merge with columns from `products`"
      ]
    },
    {
      "cell_type": "code",
      "metadata": {
        "id": "D3Hfo2dkJlmh",
        "colab_type": "code",
        "outputId": "87187b1b-9f0c-42ee-9f42-65b8f897242c",
        "colab": {
          "base_uri": "https://localhost:8080/",
          "height": 225
        }
      },
      "source": [
        "final = pd.merge(merged, products[['product_id', 'product_name']], how='left', on='product_id')\n",
        "print(final.shape)\n",
        "final.head()"
      ],
      "execution_count": 29,
      "outputs": [
        {
          "output_type": "stream",
          "text": [
            "(11, 8)\n"
          ],
          "name": "stdout"
        },
        {
          "output_type": "execute_result",
          "data": {
            "text/html": [
              "<div>\n",
              "<style scoped>\n",
              "    .dataframe tbody tr th:only-of-type {\n",
              "        vertical-align: middle;\n",
              "    }\n",
              "\n",
              "    .dataframe tbody tr th {\n",
              "        vertical-align: top;\n",
              "    }\n",
              "\n",
              "    .dataframe thead th {\n",
              "        text-align: right;\n",
              "    }\n",
              "</style>\n",
              "<table border=\"1\" class=\"dataframe\">\n",
              "  <thead>\n",
              "    <tr style=\"text-align: right;\">\n",
              "      <th></th>\n",
              "      <th>user_id</th>\n",
              "      <th>order_id</th>\n",
              "      <th>order_number</th>\n",
              "      <th>order_dow</th>\n",
              "      <th>order_hour_of_day</th>\n",
              "      <th>add_to_cart_order</th>\n",
              "      <th>product_id</th>\n",
              "      <th>product_name</th>\n",
              "    </tr>\n",
              "  </thead>\n",
              "  <tbody>\n",
              "    <tr>\n",
              "      <th>0</th>\n",
              "      <td>1</td>\n",
              "      <td>2539329</td>\n",
              "      <td>1</td>\n",
              "      <td>2</td>\n",
              "      <td>8</td>\n",
              "      <td>1</td>\n",
              "      <td>196</td>\n",
              "      <td>Soda</td>\n",
              "    </tr>\n",
              "    <tr>\n",
              "      <th>1</th>\n",
              "      <td>1</td>\n",
              "      <td>2539329</td>\n",
              "      <td>1</td>\n",
              "      <td>2</td>\n",
              "      <td>8</td>\n",
              "      <td>2</td>\n",
              "      <td>14084</td>\n",
              "      <td>Organic Unsweetened Vanilla Almond Milk</td>\n",
              "    </tr>\n",
              "    <tr>\n",
              "      <th>2</th>\n",
              "      <td>1</td>\n",
              "      <td>2539329</td>\n",
              "      <td>1</td>\n",
              "      <td>2</td>\n",
              "      <td>8</td>\n",
              "      <td>3</td>\n",
              "      <td>12427</td>\n",
              "      <td>Original Beef Jerky</td>\n",
              "    </tr>\n",
              "    <tr>\n",
              "      <th>3</th>\n",
              "      <td>1</td>\n",
              "      <td>2539329</td>\n",
              "      <td>1</td>\n",
              "      <td>2</td>\n",
              "      <td>8</td>\n",
              "      <td>4</td>\n",
              "      <td>26088</td>\n",
              "      <td>Aged White Cheddar Popcorn</td>\n",
              "    </tr>\n",
              "    <tr>\n",
              "      <th>4</th>\n",
              "      <td>1</td>\n",
              "      <td>2539329</td>\n",
              "      <td>1</td>\n",
              "      <td>2</td>\n",
              "      <td>8</td>\n",
              "      <td>5</td>\n",
              "      <td>26405</td>\n",
              "      <td>XL Pick-A-Size Paper Towel Rolls</td>\n",
              "    </tr>\n",
              "  </tbody>\n",
              "</table>\n",
              "</div>"
            ],
            "text/plain": [
              "   user_id  order_id  ...  product_id                             product_name\n",
              "0        1   2539329  ...         196                                     Soda\n",
              "1        1   2539329  ...       14084  Organic Unsweetened Vanilla Almond Milk\n",
              "2        1   2539329  ...       12427                      Original Beef Jerky\n",
              "3        1   2539329  ...       26088               Aged White Cheddar Popcorn\n",
              "4        1   2539329  ...       26405         XL Pick-A-Size Paper Towel Rolls\n",
              "\n",
              "[5 rows x 8 columns]"
            ]
          },
          "metadata": {
            "tags": []
          },
          "execution_count": 29
        }
      ]
    },
    {
      "cell_type": "code",
      "metadata": {
        "id": "m7k0_uJW9alx",
        "colab_type": "code",
        "outputId": "48dc5eec-137c-4f57-faa9-ba718889f4e2",
        "colab": {
          "base_uri": "https://localhost:8080/",
          "height": 312
        }
      },
      "source": [
        "display(example)"
      ],
      "execution_count": 30,
      "outputs": [
        {
          "output_type": "display_data",
          "data": {
            "text/html": [
              "<img src=\"https://cdn-images-1.medium.com/max/1600/1*vYGFQCafJtGBBX5mbl0xyw.png\" width=\"600\"/>"
            ],
            "text/plain": [
              "<IPython.core.display.Image object>"
            ]
          },
          "metadata": {
            "tags": []
          }
        }
      ]
    },
    {
      "cell_type": "markdown",
      "metadata": {
        "id": "dDfzKXJdwApV",
        "colab_type": "text"
      },
      "source": [
        "# Reshape Datasets"
      ]
    },
    {
      "cell_type": "markdown",
      "metadata": {
        "id": "4stCppWhwIx0",
        "colab_type": "text"
      },
      "source": [
        "## Why reshape data?\n",
        "\n",
        "#### Some libraries prefer data in different formats\n",
        "\n",
        "For example, the Seaborn data visualization library prefers data in \"Tidy\" format often (but not always).\n",
        "\n",
        "> \"[Seaborn will be most powerful when your datasets have a particular organization.](https://seaborn.pydata.org/introduction.html#organizing-datasets) This format ia alternately called “long-form” or “tidy” data and is described in detail by Hadley Wickham. The rules can be simply stated:\n",
        "\n",
        "> - Each variable is a column\n",
        "- Each observation is a row\n",
        "\n",
        "> A helpful mindset for determining whether your data are tidy is to think backwards from the plot you want to draw. From this perspective, a “variable” is something that will be assigned a role in the plot.\"\n",
        "\n",
        "#### Data science is often about putting square pegs in round holes\n",
        "\n",
        "Here's an inspiring [video clip from _Apollo 13_](https://www.youtube.com/watch?v=ry55--J4_VQ): “Invent a way to put a square peg in a round hole.” It's a good metaphor for data wrangling!"
      ]
    },
    {
      "cell_type": "markdown",
      "metadata": {
        "id": "79KITszBwXp7",
        "colab_type": "text"
      },
      "source": [
        "## Hadley Wickham's Examples\n",
        "\n",
        "From his paper, [Tidy Data](http://vita.had.co.nz/papers/tidy-data.html)"
      ]
    },
    {
      "cell_type": "code",
      "metadata": {
        "id": "Jna5sk5FwYHr",
        "colab_type": "code",
        "colab": {}
      },
      "source": [
        "%matplotlib inline\n",
        "import pandas as pd\n",
        "import numpy as np\n",
        "import seaborn as sns\n",
        "\n",
        "table1 = pd.DataFrame(\n",
        "    [[np.nan, 2],\n",
        "     [16,    11], \n",
        "     [3,      1]],\n",
        "    index=['John Smith', 'Jane Doe', 'Mary Johnson'], \n",
        "    columns=['treatmenta', 'treatmentb'])\n",
        "\n",
        "table2 = table1.T"
      ],
      "execution_count": 0,
      "outputs": []
    },
    {
      "cell_type": "markdown",
      "metadata": {
        "id": "eWe5rpI9wdvT",
        "colab_type": "text"
      },
      "source": [
        "\"Table 1 provides some data about an imaginary experiment in a format commonly seen in the wild. \n",
        "\n",
        "The table has two columns and three rows, and both rows and columns are labelled.\""
      ]
    },
    {
      "cell_type": "code",
      "metadata": {
        "id": "SdUp5LbcwgNK",
        "colab_type": "code",
        "outputId": "feec5892-e9a3-482a-dfbd-20d8981677aa",
        "colab": {
          "base_uri": "https://localhost:8080/",
          "height": 143
        }
      },
      "source": [
        "table1"
      ],
      "execution_count": 32,
      "outputs": [
        {
          "output_type": "execute_result",
          "data": {
            "text/html": [
              "<div>\n",
              "<style scoped>\n",
              "    .dataframe tbody tr th:only-of-type {\n",
              "        vertical-align: middle;\n",
              "    }\n",
              "\n",
              "    .dataframe tbody tr th {\n",
              "        vertical-align: top;\n",
              "    }\n",
              "\n",
              "    .dataframe thead th {\n",
              "        text-align: right;\n",
              "    }\n",
              "</style>\n",
              "<table border=\"1\" class=\"dataframe\">\n",
              "  <thead>\n",
              "    <tr style=\"text-align: right;\">\n",
              "      <th></th>\n",
              "      <th>treatmenta</th>\n",
              "      <th>treatmentb</th>\n",
              "    </tr>\n",
              "  </thead>\n",
              "  <tbody>\n",
              "    <tr>\n",
              "      <th>John Smith</th>\n",
              "      <td>NaN</td>\n",
              "      <td>2</td>\n",
              "    </tr>\n",
              "    <tr>\n",
              "      <th>Jane Doe</th>\n",
              "      <td>16.0</td>\n",
              "      <td>11</td>\n",
              "    </tr>\n",
              "    <tr>\n",
              "      <th>Mary Johnson</th>\n",
              "      <td>3.0</td>\n",
              "      <td>1</td>\n",
              "    </tr>\n",
              "  </tbody>\n",
              "</table>\n",
              "</div>"
            ],
            "text/plain": [
              "              treatmenta  treatmentb\n",
              "John Smith           NaN           2\n",
              "Jane Doe            16.0          11\n",
              "Mary Johnson         3.0           1"
            ]
          },
          "metadata": {
            "tags": []
          },
          "execution_count": 32
        }
      ]
    },
    {
      "cell_type": "markdown",
      "metadata": {
        "id": "SaEcDmZhwmon",
        "colab_type": "text"
      },
      "source": [
        "\"There are many ways to structure the same underlying data. \n",
        "\n",
        "Table 2 shows the same data as Table 1, but the rows and columns have been transposed. The data is the same, but the layout is different.\""
      ]
    },
    {
      "cell_type": "code",
      "metadata": {
        "id": "SwDVoCj5woAn",
        "colab_type": "code",
        "outputId": "01853397-e24c-432e-c545-18ae34928ace",
        "colab": {
          "base_uri": "https://localhost:8080/",
          "height": 112
        }
      },
      "source": [
        "table2"
      ],
      "execution_count": 33,
      "outputs": [
        {
          "output_type": "execute_result",
          "data": {
            "text/html": [
              "<div>\n",
              "<style scoped>\n",
              "    .dataframe tbody tr th:only-of-type {\n",
              "        vertical-align: middle;\n",
              "    }\n",
              "\n",
              "    .dataframe tbody tr th {\n",
              "        vertical-align: top;\n",
              "    }\n",
              "\n",
              "    .dataframe thead th {\n",
              "        text-align: right;\n",
              "    }\n",
              "</style>\n",
              "<table border=\"1\" class=\"dataframe\">\n",
              "  <thead>\n",
              "    <tr style=\"text-align: right;\">\n",
              "      <th></th>\n",
              "      <th>John Smith</th>\n",
              "      <th>Jane Doe</th>\n",
              "      <th>Mary Johnson</th>\n",
              "    </tr>\n",
              "  </thead>\n",
              "  <tbody>\n",
              "    <tr>\n",
              "      <th>treatmenta</th>\n",
              "      <td>NaN</td>\n",
              "      <td>16.0</td>\n",
              "      <td>3.0</td>\n",
              "    </tr>\n",
              "    <tr>\n",
              "      <th>treatmentb</th>\n",
              "      <td>2.0</td>\n",
              "      <td>11.0</td>\n",
              "      <td>1.0</td>\n",
              "    </tr>\n",
              "  </tbody>\n",
              "</table>\n",
              "</div>"
            ],
            "text/plain": [
              "            John Smith  Jane Doe  Mary Johnson\n",
              "treatmenta         NaN      16.0           3.0\n",
              "treatmentb         2.0      11.0           1.0"
            ]
          },
          "metadata": {
            "tags": []
          },
          "execution_count": 33
        }
      ]
    },
    {
      "cell_type": "markdown",
      "metadata": {
        "id": "k3ratDNbwsyN",
        "colab_type": "text"
      },
      "source": [
        "\"Table 3 reorganises Table 1 to make the values, variables and obserations more clear.\n",
        "\n",
        "Table 3 is the tidy version of Table 1. Each row represents an observation, the result of one treatment on one person, and each column is a variable.\"\n",
        "\n",
        "| name         | trt | result |\n",
        "|--------------|-----|--------|\n",
        "| John Smith   | a   | -      |\n",
        "| Jane Doe     | a   | 16     |\n",
        "| Mary Johnson | a   | 3      |\n",
        "| John Smith   | b   | 2      |\n",
        "| Jane Doe     | b   | 11     |\n",
        "| Mary Johnson | b   | 1      |"
      ]
    },
    {
      "cell_type": "markdown",
      "metadata": {
        "id": "WsvD1I3TwwnI",
        "colab_type": "text"
      },
      "source": [
        "## Table 1 --> Tidy\n",
        "\n",
        "We can use the pandas `melt` function to reshape Table 1 into Tidy format."
      ]
    },
    {
      "cell_type": "code",
      "metadata": {
        "id": "S48tKmC46veF",
        "colab_type": "code",
        "outputId": "d013e0b2-0d8a-4517-e8d4-2dffa993d784",
        "colab": {
          "base_uri": "https://localhost:8080/",
          "height": 238
        }
      },
      "source": [
        "table1.reset_index(inplace=True)\n",
        "tidy = table1.melt(id_vars='index')\n",
        "tidy"
      ],
      "execution_count": 34,
      "outputs": [
        {
          "output_type": "execute_result",
          "data": {
            "text/html": [
              "<div>\n",
              "<style scoped>\n",
              "    .dataframe tbody tr th:only-of-type {\n",
              "        vertical-align: middle;\n",
              "    }\n",
              "\n",
              "    .dataframe tbody tr th {\n",
              "        vertical-align: top;\n",
              "    }\n",
              "\n",
              "    .dataframe thead th {\n",
              "        text-align: right;\n",
              "    }\n",
              "</style>\n",
              "<table border=\"1\" class=\"dataframe\">\n",
              "  <thead>\n",
              "    <tr style=\"text-align: right;\">\n",
              "      <th></th>\n",
              "      <th>index</th>\n",
              "      <th>variable</th>\n",
              "      <th>value</th>\n",
              "    </tr>\n",
              "  </thead>\n",
              "  <tbody>\n",
              "    <tr>\n",
              "      <th>0</th>\n",
              "      <td>John Smith</td>\n",
              "      <td>treatmenta</td>\n",
              "      <td>NaN</td>\n",
              "    </tr>\n",
              "    <tr>\n",
              "      <th>1</th>\n",
              "      <td>Jane Doe</td>\n",
              "      <td>treatmenta</td>\n",
              "      <td>16.0</td>\n",
              "    </tr>\n",
              "    <tr>\n",
              "      <th>2</th>\n",
              "      <td>Mary Johnson</td>\n",
              "      <td>treatmenta</td>\n",
              "      <td>3.0</td>\n",
              "    </tr>\n",
              "    <tr>\n",
              "      <th>3</th>\n",
              "      <td>John Smith</td>\n",
              "      <td>treatmentb</td>\n",
              "      <td>2.0</td>\n",
              "    </tr>\n",
              "    <tr>\n",
              "      <th>4</th>\n",
              "      <td>Jane Doe</td>\n",
              "      <td>treatmentb</td>\n",
              "      <td>11.0</td>\n",
              "    </tr>\n",
              "    <tr>\n",
              "      <th>5</th>\n",
              "      <td>Mary Johnson</td>\n",
              "      <td>treatmentb</td>\n",
              "      <td>1.0</td>\n",
              "    </tr>\n",
              "  </tbody>\n",
              "</table>\n",
              "</div>"
            ],
            "text/plain": [
              "          index    variable  value\n",
              "0    John Smith  treatmenta    NaN\n",
              "1      Jane Doe  treatmenta   16.0\n",
              "2  Mary Johnson  treatmenta    3.0\n",
              "3    John Smith  treatmentb    2.0\n",
              "4      Jane Doe  treatmentb   11.0\n",
              "5  Mary Johnson  treatmentb    1.0"
            ]
          },
          "metadata": {
            "tags": []
          },
          "execution_count": 34
        }
      ]
    },
    {
      "cell_type": "code",
      "metadata": {
        "id": "hEdR5pIyDfpo",
        "colab_type": "code",
        "outputId": "ef77da0c-75bf-44ce-d685-9471122ac417",
        "colab": {
          "base_uri": "https://localhost:8080/",
          "height": 238
        }
      },
      "source": [
        "tidy = tidy.rename(columns={'index': 'name', 'variable': 'trt', 'value': 'result'})\n",
        "tidy"
      ],
      "execution_count": 35,
      "outputs": [
        {
          "output_type": "execute_result",
          "data": {
            "text/html": [
              "<div>\n",
              "<style scoped>\n",
              "    .dataframe tbody tr th:only-of-type {\n",
              "        vertical-align: middle;\n",
              "    }\n",
              "\n",
              "    .dataframe tbody tr th {\n",
              "        vertical-align: top;\n",
              "    }\n",
              "\n",
              "    .dataframe thead th {\n",
              "        text-align: right;\n",
              "    }\n",
              "</style>\n",
              "<table border=\"1\" class=\"dataframe\">\n",
              "  <thead>\n",
              "    <tr style=\"text-align: right;\">\n",
              "      <th></th>\n",
              "      <th>name</th>\n",
              "      <th>trt</th>\n",
              "      <th>result</th>\n",
              "    </tr>\n",
              "  </thead>\n",
              "  <tbody>\n",
              "    <tr>\n",
              "      <th>0</th>\n",
              "      <td>John Smith</td>\n",
              "      <td>treatmenta</td>\n",
              "      <td>NaN</td>\n",
              "    </tr>\n",
              "    <tr>\n",
              "      <th>1</th>\n",
              "      <td>Jane Doe</td>\n",
              "      <td>treatmenta</td>\n",
              "      <td>16.0</td>\n",
              "    </tr>\n",
              "    <tr>\n",
              "      <th>2</th>\n",
              "      <td>Mary Johnson</td>\n",
              "      <td>treatmenta</td>\n",
              "      <td>3.0</td>\n",
              "    </tr>\n",
              "    <tr>\n",
              "      <th>3</th>\n",
              "      <td>John Smith</td>\n",
              "      <td>treatmentb</td>\n",
              "      <td>2.0</td>\n",
              "    </tr>\n",
              "    <tr>\n",
              "      <th>4</th>\n",
              "      <td>Jane Doe</td>\n",
              "      <td>treatmentb</td>\n",
              "      <td>11.0</td>\n",
              "    </tr>\n",
              "    <tr>\n",
              "      <th>5</th>\n",
              "      <td>Mary Johnson</td>\n",
              "      <td>treatmentb</td>\n",
              "      <td>1.0</td>\n",
              "    </tr>\n",
              "  </tbody>\n",
              "</table>\n",
              "</div>"
            ],
            "text/plain": [
              "           name         trt  result\n",
              "0    John Smith  treatmenta     NaN\n",
              "1      Jane Doe  treatmenta    16.0\n",
              "2  Mary Johnson  treatmenta     3.0\n",
              "3    John Smith  treatmentb     2.0\n",
              "4      Jane Doe  treatmentb    11.0\n",
              "5  Mary Johnson  treatmentb     1.0"
            ]
          },
          "metadata": {
            "tags": []
          },
          "execution_count": 35
        }
      ]
    },
    {
      "cell_type": "code",
      "metadata": {
        "id": "PrXaevKaDwKf",
        "colab_type": "code",
        "outputId": "96dcc852-dc7e-46ed-97aa-b664f8dba7b0",
        "colab": {
          "base_uri": "https://localhost:8080/",
          "height": 238
        }
      },
      "source": [
        "tidy['trt'] = tidy['trt'].str.replace('treatment', '')\n",
        "tidy"
      ],
      "execution_count": 36,
      "outputs": [
        {
          "output_type": "execute_result",
          "data": {
            "text/html": [
              "<div>\n",
              "<style scoped>\n",
              "    .dataframe tbody tr th:only-of-type {\n",
              "        vertical-align: middle;\n",
              "    }\n",
              "\n",
              "    .dataframe tbody tr th {\n",
              "        vertical-align: top;\n",
              "    }\n",
              "\n",
              "    .dataframe thead th {\n",
              "        text-align: right;\n",
              "    }\n",
              "</style>\n",
              "<table border=\"1\" class=\"dataframe\">\n",
              "  <thead>\n",
              "    <tr style=\"text-align: right;\">\n",
              "      <th></th>\n",
              "      <th>name</th>\n",
              "      <th>trt</th>\n",
              "      <th>result</th>\n",
              "    </tr>\n",
              "  </thead>\n",
              "  <tbody>\n",
              "    <tr>\n",
              "      <th>0</th>\n",
              "      <td>John Smith</td>\n",
              "      <td>a</td>\n",
              "      <td>NaN</td>\n",
              "    </tr>\n",
              "    <tr>\n",
              "      <th>1</th>\n",
              "      <td>Jane Doe</td>\n",
              "      <td>a</td>\n",
              "      <td>16.0</td>\n",
              "    </tr>\n",
              "    <tr>\n",
              "      <th>2</th>\n",
              "      <td>Mary Johnson</td>\n",
              "      <td>a</td>\n",
              "      <td>3.0</td>\n",
              "    </tr>\n",
              "    <tr>\n",
              "      <th>3</th>\n",
              "      <td>John Smith</td>\n",
              "      <td>b</td>\n",
              "      <td>2.0</td>\n",
              "    </tr>\n",
              "    <tr>\n",
              "      <th>4</th>\n",
              "      <td>Jane Doe</td>\n",
              "      <td>b</td>\n",
              "      <td>11.0</td>\n",
              "    </tr>\n",
              "    <tr>\n",
              "      <th>5</th>\n",
              "      <td>Mary Johnson</td>\n",
              "      <td>b</td>\n",
              "      <td>1.0</td>\n",
              "    </tr>\n",
              "  </tbody>\n",
              "</table>\n",
              "</div>"
            ],
            "text/plain": [
              "           name trt  result\n",
              "0    John Smith   a     NaN\n",
              "1      Jane Doe   a    16.0\n",
              "2  Mary Johnson   a     3.0\n",
              "3    John Smith   b     2.0\n",
              "4      Jane Doe   b    11.0\n",
              "5  Mary Johnson   b     1.0"
            ]
          },
          "metadata": {
            "tags": []
          },
          "execution_count": 36
        }
      ]
    },
    {
      "cell_type": "markdown",
      "metadata": {
        "id": "Ck15sXaJxPrd",
        "colab_type": "text"
      },
      "source": [
        "## Table 2 --> Tidy"
      ]
    },
    {
      "cell_type": "code",
      "metadata": {
        "id": "k2Qn94RIxQhV",
        "colab_type": "code",
        "outputId": "eaa08418-d9e8-4310-9676-46b68e2cf7bc",
        "colab": {
          "base_uri": "https://localhost:8080/",
          "height": 112
        }
      },
      "source": [
        "##### LEAVE BLANK --an assignment exercise #####\n",
        "table2"
      ],
      "execution_count": 37,
      "outputs": [
        {
          "output_type": "execute_result",
          "data": {
            "text/html": [
              "<div>\n",
              "<style scoped>\n",
              "    .dataframe tbody tr th:only-of-type {\n",
              "        vertical-align: middle;\n",
              "    }\n",
              "\n",
              "    .dataframe tbody tr th {\n",
              "        vertical-align: top;\n",
              "    }\n",
              "\n",
              "    .dataframe thead th {\n",
              "        text-align: right;\n",
              "    }\n",
              "</style>\n",
              "<table border=\"1\" class=\"dataframe\">\n",
              "  <thead>\n",
              "    <tr style=\"text-align: right;\">\n",
              "      <th></th>\n",
              "      <th>John Smith</th>\n",
              "      <th>Jane Doe</th>\n",
              "      <th>Mary Johnson</th>\n",
              "    </tr>\n",
              "  </thead>\n",
              "  <tbody>\n",
              "    <tr>\n",
              "      <th>treatmenta</th>\n",
              "      <td>NaN</td>\n",
              "      <td>16.0</td>\n",
              "      <td>3.0</td>\n",
              "    </tr>\n",
              "    <tr>\n",
              "      <th>treatmentb</th>\n",
              "      <td>2.0</td>\n",
              "      <td>11.0</td>\n",
              "      <td>1.0</td>\n",
              "    </tr>\n",
              "  </tbody>\n",
              "</table>\n",
              "</div>"
            ],
            "text/plain": [
              "            John Smith  Jane Doe  Mary Johnson\n",
              "treatmenta         NaN      16.0           3.0\n",
              "treatmentb         2.0      11.0           1.0"
            ]
          },
          "metadata": {
            "tags": []
          },
          "execution_count": 37
        }
      ]
    },
    {
      "cell_type": "code",
      "metadata": {
        "id": "T_i6wIEzwON4",
        "colab_type": "code",
        "outputId": "5a39952c-a8ec-4c98-8aec-0c293a00a963",
        "colab": {
          "base_uri": "https://localhost:8080/",
          "height": 238
        }
      },
      "source": [
        "tidy2 = table2.stack(dropna=False).reset_index()\n",
        "tidy2.columns = ['trt', 'name', 'result']\n",
        "tidy2['trt'] = tidy2['trt'].str.replace('treatment', '')\n",
        "tidy2 = tidy2[['name', 'trt', 'result']]\n",
        "tidy2"
      ],
      "execution_count": 38,
      "outputs": [
        {
          "output_type": "execute_result",
          "data": {
            "text/html": [
              "<div>\n",
              "<style scoped>\n",
              "    .dataframe tbody tr th:only-of-type {\n",
              "        vertical-align: middle;\n",
              "    }\n",
              "\n",
              "    .dataframe tbody tr th {\n",
              "        vertical-align: top;\n",
              "    }\n",
              "\n",
              "    .dataframe thead th {\n",
              "        text-align: right;\n",
              "    }\n",
              "</style>\n",
              "<table border=\"1\" class=\"dataframe\">\n",
              "  <thead>\n",
              "    <tr style=\"text-align: right;\">\n",
              "      <th></th>\n",
              "      <th>name</th>\n",
              "      <th>trt</th>\n",
              "      <th>result</th>\n",
              "    </tr>\n",
              "  </thead>\n",
              "  <tbody>\n",
              "    <tr>\n",
              "      <th>0</th>\n",
              "      <td>John Smith</td>\n",
              "      <td>a</td>\n",
              "      <td>NaN</td>\n",
              "    </tr>\n",
              "    <tr>\n",
              "      <th>1</th>\n",
              "      <td>Jane Doe</td>\n",
              "      <td>a</td>\n",
              "      <td>16.0</td>\n",
              "    </tr>\n",
              "    <tr>\n",
              "      <th>2</th>\n",
              "      <td>Mary Johnson</td>\n",
              "      <td>a</td>\n",
              "      <td>3.0</td>\n",
              "    </tr>\n",
              "    <tr>\n",
              "      <th>3</th>\n",
              "      <td>John Smith</td>\n",
              "      <td>b</td>\n",
              "      <td>2.0</td>\n",
              "    </tr>\n",
              "    <tr>\n",
              "      <th>4</th>\n",
              "      <td>Jane Doe</td>\n",
              "      <td>b</td>\n",
              "      <td>11.0</td>\n",
              "    </tr>\n",
              "    <tr>\n",
              "      <th>5</th>\n",
              "      <td>Mary Johnson</td>\n",
              "      <td>b</td>\n",
              "      <td>1.0</td>\n",
              "    </tr>\n",
              "  </tbody>\n",
              "</table>\n",
              "</div>"
            ],
            "text/plain": [
              "           name trt  result\n",
              "0    John Smith   a     NaN\n",
              "1      Jane Doe   a    16.0\n",
              "2  Mary Johnson   a     3.0\n",
              "3    John Smith   b     2.0\n",
              "4      Jane Doe   b    11.0\n",
              "5  Mary Johnson   b     1.0"
            ]
          },
          "metadata": {
            "tags": []
          },
          "execution_count": 38
        }
      ]
    },
    {
      "cell_type": "markdown",
      "metadata": {
        "id": "As0W7PWLxea3",
        "colab_type": "text"
      },
      "source": [
        "## Tidy --> Table 1\n",
        "\n",
        "The `pivot_table` function is the inverse of `melt`."
      ]
    },
    {
      "cell_type": "code",
      "metadata": {
        "id": "CdZZiLYoxfJC",
        "colab_type": "code",
        "outputId": "714aeb61-cdd4-4928-ad87-f7c348ff5943",
        "colab": {
          "base_uri": "https://localhost:8080/",
          "height": 175
        }
      },
      "source": [
        "wide = tidy.pivot_table(values='result', index='name', columns='trt')\n",
        "wide"
      ],
      "execution_count": 39,
      "outputs": [
        {
          "output_type": "execute_result",
          "data": {
            "text/html": [
              "<div>\n",
              "<style scoped>\n",
              "    .dataframe tbody tr th:only-of-type {\n",
              "        vertical-align: middle;\n",
              "    }\n",
              "\n",
              "    .dataframe tbody tr th {\n",
              "        vertical-align: top;\n",
              "    }\n",
              "\n",
              "    .dataframe thead th {\n",
              "        text-align: right;\n",
              "    }\n",
              "</style>\n",
              "<table border=\"1\" class=\"dataframe\">\n",
              "  <thead>\n",
              "    <tr style=\"text-align: right;\">\n",
              "      <th>trt</th>\n",
              "      <th>a</th>\n",
              "      <th>b</th>\n",
              "    </tr>\n",
              "    <tr>\n",
              "      <th>name</th>\n",
              "      <th></th>\n",
              "      <th></th>\n",
              "    </tr>\n",
              "  </thead>\n",
              "  <tbody>\n",
              "    <tr>\n",
              "      <th>Jane Doe</th>\n",
              "      <td>16.0</td>\n",
              "      <td>11.0</td>\n",
              "    </tr>\n",
              "    <tr>\n",
              "      <th>John Smith</th>\n",
              "      <td>NaN</td>\n",
              "      <td>2.0</td>\n",
              "    </tr>\n",
              "    <tr>\n",
              "      <th>Mary Johnson</th>\n",
              "      <td>3.0</td>\n",
              "      <td>1.0</td>\n",
              "    </tr>\n",
              "  </tbody>\n",
              "</table>\n",
              "</div>"
            ],
            "text/plain": [
              "trt              a     b\n",
              "name                    \n",
              "Jane Doe      16.0  11.0\n",
              "John Smith     NaN   2.0\n",
              "Mary Johnson   3.0   1.0"
            ]
          },
          "metadata": {
            "tags": []
          },
          "execution_count": 39
        }
      ]
    },
    {
      "cell_type": "markdown",
      "metadata": {
        "id": "3GeAKoSZxoPS",
        "colab_type": "text"
      },
      "source": [
        "## Tidy --> Table 2"
      ]
    },
    {
      "cell_type": "code",
      "metadata": {
        "id": "W2jjciN2xk9r",
        "colab_type": "code",
        "outputId": "9720676a-5874-448a-9ff1-76ef23c0406c",
        "colab": {
          "base_uri": "https://localhost:8080/",
          "height": 112
        }
      },
      "source": [
        "##### LEAVE BLANK --an assignment exercise #####\n",
        "wide2 = tidy2.pivot_table(values='result', index='trt', columns='name')\n",
        "wide2.index = ['treatmenta', 'treatmentb']\n",
        "wide2 = wide2[['John Smith', 'Jane Doe', 'Mary Johnson']]\n",
        "del wide2.columns.name\n",
        "wide2"
      ],
      "execution_count": 40,
      "outputs": [
        {
          "output_type": "execute_result",
          "data": {
            "text/html": [
              "<div>\n",
              "<style scoped>\n",
              "    .dataframe tbody tr th:only-of-type {\n",
              "        vertical-align: middle;\n",
              "    }\n",
              "\n",
              "    .dataframe tbody tr th {\n",
              "        vertical-align: top;\n",
              "    }\n",
              "\n",
              "    .dataframe thead th {\n",
              "        text-align: right;\n",
              "    }\n",
              "</style>\n",
              "<table border=\"1\" class=\"dataframe\">\n",
              "  <thead>\n",
              "    <tr style=\"text-align: right;\">\n",
              "      <th></th>\n",
              "      <th>John Smith</th>\n",
              "      <th>Jane Doe</th>\n",
              "      <th>Mary Johnson</th>\n",
              "    </tr>\n",
              "  </thead>\n",
              "  <tbody>\n",
              "    <tr>\n",
              "      <th>treatmenta</th>\n",
              "      <td>NaN</td>\n",
              "      <td>16.0</td>\n",
              "      <td>3.0</td>\n",
              "    </tr>\n",
              "    <tr>\n",
              "      <th>treatmentb</th>\n",
              "      <td>2.0</td>\n",
              "      <td>11.0</td>\n",
              "      <td>1.0</td>\n",
              "    </tr>\n",
              "  </tbody>\n",
              "</table>\n",
              "</div>"
            ],
            "text/plain": [
              "            John Smith  Jane Doe  Mary Johnson\n",
              "treatmenta         NaN      16.0           3.0\n",
              "treatmentb         2.0      11.0           1.0"
            ]
          },
          "metadata": {
            "tags": []
          },
          "execution_count": 40
        }
      ]
    },
    {
      "cell_type": "markdown",
      "metadata": {
        "id": "jr0jQy6Oxqi7",
        "colab_type": "text"
      },
      "source": [
        "# Seaborn example\n",
        "\n",
        "The rules can be simply stated:\n",
        "\n",
        "- Each variable is a column\n",
        "- Each observation is a row\n",
        "\n",
        "A helpful mindset for determining whether your data are tidy is to think backwards from the plot you want to draw. From this perspective, a “variable” is something that will be assigned a role in the plot.\""
      ]
    },
    {
      "cell_type": "code",
      "metadata": {
        "id": "kWo3FIP9xuKo",
        "colab_type": "code",
        "outputId": "806e7dcd-ba37-4fb2-aaae-1fdb40dcaae5",
        "colab": {
          "base_uri": "https://localhost:8080/",
          "height": 153
        }
      },
      "source": [
        "  sns.catplot(x='trt', y='result', col='name', \n",
        "            kind='bar', data=tidy, height=2);"
      ],
      "execution_count": 41,
      "outputs": [
        {
          "output_type": "display_data",
          "data": {
            "image/png": "[encoded data removed]",
            "text/plain": [
              "<Figure size 432x144 with 3 Axes>"
            ]
          },
          "metadata": {
            "tags": []
          }
        }
      ]
    },
    {
      "cell_type": "markdown",
      "metadata": {
        "id": "cIgT41Rxx4oj",
        "colab_type": "text"
      },
      "source": [
        "## Now with Instacart data"
      ]
    },
    {
      "cell_type": "code",
      "metadata": {
        "id": "Oydw0VvGxyDJ",
        "colab_type": "code",
        "colab": {}
      },
      "source": [
        "products = pd.read_csv('products.csv')\n",
        "\n",
        "order_products = pd.concat([pd.read_csv('order_products__prior.csv'), \n",
        "                            pd.read_csv('order_products__train.csv')])\n",
        "\n",
        "orders = pd.read_csv('orders.csv')"
      ],
      "execution_count": 0,
      "outputs": []
    },
    {
      "cell_type": "markdown",
      "metadata": {
        "id": "6p-IsG0jyXQj",
        "colab_type": "text"
      },
      "source": [
        "## Goal: Reproduce part of this example\n",
        "\n",
        "Instead of a plot with 50 products, we'll just do two — the first products from each list\n",
        "- Half And Half Ultra Pasteurized\n",
        "- Half Baked Frozen Yogurt"
      ]
    },
    {
      "cell_type": "code",
      "metadata": {
        "id": "Rs-_n9yjyZ15",
        "colab_type": "code",
        "outputId": "4d501b72-7b2f-4e91-b203-bb37268432a4",
        "colab": {
          "base_uri": "https://localhost:8080/",
          "height": 382
        }
      },
      "source": [
        "from IPython.display import display, Image\n",
        "url = 'https://cdn-images-1.medium.com/max/1600/1*wKfV6OV-_1Ipwrl7AjjSuw.png'\n",
        "example = Image(url=url, width=600)\n",
        "\n",
        "display(example)"
      ],
      "execution_count": 43,
      "outputs": [
        {
          "output_type": "display_data",
          "data": {
            "text/html": [
              "<img src=\"https://cdn-images-1.medium.com/max/1600/1*wKfV6OV-_1Ipwrl7AjjSuw.png\" width=\"600\"/>"
            ],
            "text/plain": [
              "<IPython.core.display.Image object>"
            ]
          },
          "metadata": {
            "tags": []
          }
        }
      ]
    },
    {
      "cell_type": "markdown",
      "metadata": {
        "id": "Vj5GR7I4ydBg",
        "colab_type": "text"
      },
      "source": [
        "So, given a `product_name` we need to calculate its `order_hour_of_day` pattern."
      ]
    },
    {
      "cell_type": "markdown",
      "metadata": {
        "id": "Vc9_s7-LyhBI",
        "colab_type": "text"
      },
      "source": [
        "## Subset and Merge\n",
        "\n",
        "One challenge of performing a merge on this data is that the `products` and `orders` datasets do not have any common columns that we can merge on. Due to this we will have to use the `order_products` dataset to provide the columns that we will use to perform the merge."
      ]
    },
    {
      "cell_type": "code",
      "metadata": {
        "id": "W1yHMS-OyUTH",
        "colab_type": "code",
        "colab": {}
      },
      "source": [
        "product_names = [\n",
        "    'Half And Half Ultra Pasteurized',\n",
        "    'Half Baked Frozen Yogurt'\n",
        "]"
      ],
      "execution_count": 0,
      "outputs": []
    },
    {
      "cell_type": "code",
      "metadata": {
        "id": "LmY_By6jHUru",
        "colab_type": "code",
        "outputId": "827a5f99-c33d-4169-8d61-2c59c8baeb4f",
        "colab": {
          "base_uri": "https://localhost:8080/",
          "height": 189
        }
      },
      "source": [
        "products.columns.to_list(), orders.columns.to_list(), order_products.columns.to_list()"
      ],
      "execution_count": 45,
      "outputs": [
        {
          "output_type": "execute_result",
          "data": {
            "text/plain": [
              "(['product_id', 'product_name', 'aisle_id', 'department_id'],\n",
              " ['order_id',\n",
              "  'user_id',\n",
              "  'eval_set',\n",
              "  'order_number',\n",
              "  'order_dow',\n",
              "  'order_hour_of_day',\n",
              "  'days_since_prior_order'],\n",
              " ['order_id', 'product_id', 'add_to_cart_order', 'reordered'])"
            ]
          },
          "metadata": {
            "tags": []
          },
          "execution_count": 45
        }
      ]
    },
    {
      "cell_type": "code",
      "metadata": {
        "id": "Jn0nOf7GHg8k",
        "colab_type": "code",
        "outputId": "d909e87f-ef1a-4128-8905-e39a431b6aa1",
        "colab": {
          "base_uri": "https://localhost:8080/",
          "height": 225
        }
      },
      "source": [
        "merged = (products[['product_id', 'product_name']]\n",
        "          .merge(order_products[['product_id','order_id']])\n",
        "          .merge(orders[['order_id', 'order_hour_of_day']]))\n",
        "print(merged.shape)\n",
        "merged.head()"
      ],
      "execution_count": 46,
      "outputs": [
        {
          "output_type": "stream",
          "text": [
            "(33819106, 4)\n"
          ],
          "name": "stdout"
        },
        {
          "output_type": "execute_result",
          "data": {
            "text/html": [
              "<div>\n",
              "<style scoped>\n",
              "    .dataframe tbody tr th:only-of-type {\n",
              "        vertical-align: middle;\n",
              "    }\n",
              "\n",
              "    .dataframe tbody tr th {\n",
              "        vertical-align: top;\n",
              "    }\n",
              "\n",
              "    .dataframe thead th {\n",
              "        text-align: right;\n",
              "    }\n",
              "</style>\n",
              "<table border=\"1\" class=\"dataframe\">\n",
              "  <thead>\n",
              "    <tr style=\"text-align: right;\">\n",
              "      <th></th>\n",
              "      <th>product_id</th>\n",
              "      <th>product_name</th>\n",
              "      <th>order_id</th>\n",
              "      <th>order_hour_of_day</th>\n",
              "    </tr>\n",
              "  </thead>\n",
              "  <tbody>\n",
              "    <tr>\n",
              "      <th>0</th>\n",
              "      <td>1</td>\n",
              "      <td>Chocolate Sandwich Cookies</td>\n",
              "      <td>1107</td>\n",
              "      <td>11</td>\n",
              "    </tr>\n",
              "    <tr>\n",
              "      <th>1</th>\n",
              "      <td>769</td>\n",
              "      <td>Sliced American Cheese</td>\n",
              "      <td>1107</td>\n",
              "      <td>11</td>\n",
              "    </tr>\n",
              "    <tr>\n",
              "      <th>2</th>\n",
              "      <td>6184</td>\n",
              "      <td>Clementines</td>\n",
              "      <td>1107</td>\n",
              "      <td>11</td>\n",
              "    </tr>\n",
              "    <tr>\n",
              "      <th>3</th>\n",
              "      <td>8048</td>\n",
              "      <td>Packaged Grape Tomatoes</td>\n",
              "      <td>1107</td>\n",
              "      <td>11</td>\n",
              "    </tr>\n",
              "    <tr>\n",
              "      <th>4</th>\n",
              "      <td>9007</td>\n",
              "      <td>Frosted Flakes</td>\n",
              "      <td>1107</td>\n",
              "      <td>11</td>\n",
              "    </tr>\n",
              "  </tbody>\n",
              "</table>\n",
              "</div>"
            ],
            "text/plain": [
              "   product_id                product_name  order_id  order_hour_of_day\n",
              "0           1  Chocolate Sandwich Cookies      1107                 11\n",
              "1         769      Sliced American Cheese      1107                 11\n",
              "2        6184                 Clementines      1107                 11\n",
              "3        8048     Packaged Grape Tomatoes      1107                 11\n",
              "4        9007              Frosted Flakes      1107                 11"
            ]
          },
          "metadata": {
            "tags": []
          },
          "execution_count": 46
        }
      ]
    },
    {
      "cell_type": "code",
      "metadata": {
        "id": "F2BPQixeIk0s",
        "colab_type": "code",
        "colab": {}
      },
      "source": [
        "condition = merged['product_name'].isin(product_names)"
      ],
      "execution_count": 0,
      "outputs": []
    },
    {
      "cell_type": "code",
      "metadata": {
        "id": "3DOrFn0EJJAG",
        "colab_type": "code",
        "outputId": "ead95fdd-d4e4-4c91-f700-ad9b5aa28669",
        "colab": {
          "base_uri": "https://localhost:8080/",
          "height": 225
        }
      },
      "source": [
        "subset = merged[condition]\n",
        "print(subset.shape)\n",
        "subset.head()"
      ],
      "execution_count": 48,
      "outputs": [
        {
          "output_type": "stream",
          "text": [
            "(5978, 4)\n"
          ],
          "name": "stdout"
        },
        {
          "output_type": "execute_result",
          "data": {
            "text/html": [
              "<div>\n",
              "<style scoped>\n",
              "    .dataframe tbody tr th:only-of-type {\n",
              "        vertical-align: middle;\n",
              "    }\n",
              "\n",
              "    .dataframe tbody tr th {\n",
              "        vertical-align: top;\n",
              "    }\n",
              "\n",
              "    .dataframe thead th {\n",
              "        text-align: right;\n",
              "    }\n",
              "</style>\n",
              "<table border=\"1\" class=\"dataframe\">\n",
              "  <thead>\n",
              "    <tr style=\"text-align: right;\">\n",
              "      <th></th>\n",
              "      <th>product_id</th>\n",
              "      <th>product_name</th>\n",
              "      <th>order_id</th>\n",
              "      <th>order_hour_of_day</th>\n",
              "    </tr>\n",
              "  </thead>\n",
              "  <tbody>\n",
              "    <tr>\n",
              "      <th>25086</th>\n",
              "      <td>30668</td>\n",
              "      <td>Half Baked Frozen Yogurt</td>\n",
              "      <td>595220</td>\n",
              "      <td>21</td>\n",
              "    </tr>\n",
              "    <tr>\n",
              "      <th>29409</th>\n",
              "      <td>30668</td>\n",
              "      <td>Half Baked Frozen Yogurt</td>\n",
              "      <td>3252348</td>\n",
              "      <td>16</td>\n",
              "    </tr>\n",
              "    <tr>\n",
              "      <th>33914</th>\n",
              "      <td>30668</td>\n",
              "      <td>Half Baked Frozen Yogurt</td>\n",
              "      <td>677455</td>\n",
              "      <td>17</td>\n",
              "    </tr>\n",
              "    <tr>\n",
              "      <th>34412</th>\n",
              "      <td>30668</td>\n",
              "      <td>Half Baked Frozen Yogurt</td>\n",
              "      <td>1821824</td>\n",
              "      <td>14</td>\n",
              "    </tr>\n",
              "    <tr>\n",
              "      <th>35652</th>\n",
              "      <td>30668</td>\n",
              "      <td>Half Baked Frozen Yogurt</td>\n",
              "      <td>1225489</td>\n",
              "      <td>17</td>\n",
              "    </tr>\n",
              "  </tbody>\n",
              "</table>\n",
              "</div>"
            ],
            "text/plain": [
              "       product_id              product_name  order_id  order_hour_of_day\n",
              "25086       30668  Half Baked Frozen Yogurt    595220                 21\n",
              "29409       30668  Half Baked Frozen Yogurt   3252348                 16\n",
              "33914       30668  Half Baked Frozen Yogurt    677455                 17\n",
              "34412       30668  Half Baked Frozen Yogurt   1821824                 14\n",
              "35652       30668  Half Baked Frozen Yogurt   1225489                 17"
            ]
          },
          "metadata": {
            "tags": []
          },
          "execution_count": 48
        }
      ]
    },
    {
      "cell_type": "markdown",
      "metadata": {
        "id": "UvhcadjFzx0Q",
        "colab_type": "text"
      },
      "source": [
        "## 4 ways to reshape and plot"
      ]
    },
    {
      "cell_type": "markdown",
      "metadata": {
        "id": "aEE_nCWjzz7f",
        "colab_type": "text"
      },
      "source": [
        "### 1. value_counts"
      ]
    },
    {
      "cell_type": "code",
      "metadata": {
        "id": "vTL3Cko87VL-",
        "colab_type": "code",
        "outputId": "37901168-52f9-4f68-d0bb-31597176dc22",
        "colab": {
          "base_uri": "https://localhost:8080/",
          "height": 284
        }
      },
      "source": [
        "subset.groupby('order_hour_of_day')['product_name'].value_counts().unstack().plot();"
      ],
      "execution_count": 49,
      "outputs": [
        {
          "output_type": "display_data",
          "data": {
            "image/png": "[encoded data removed]",
            "text/plain": [
              "<Figure size 432x288 with 1 Axes>"
            ]
          },
          "metadata": {
            "tags": []
          }
        }
      ]
    },
    {
      "cell_type": "markdown",
      "metadata": {
        "id": "tMSd6YDj0BjE",
        "colab_type": "text"
      },
      "source": [
        "### 2. crosstab"
      ]
    },
    {
      "cell_type": "code",
      "metadata": {
        "id": "Slu2bWYK0CZD",
        "colab_type": "code",
        "outputId": "4a740f66-4646-4ec5-8f08-ca040ec465a6",
        "colab": {
          "base_uri": "https://localhost:8080/",
          "height": 284
        }
      },
      "source": [
        "(pd.crosstab(subset['order_hour_of_day'], subset['product_name'],normalize='columns')*100).plot();"
      ],
      "execution_count": 50,
      "outputs": [
        {
          "output_type": "display_data",
          "data": {
            "image/png": "[encoded data removed]",
            "text/plain": [
              "<Figure size 432x288 with 1 Axes>"
            ]
          },
          "metadata": {
            "tags": []
          }
        }
      ]
    },
    {
      "cell_type": "markdown",
      "metadata": {
        "id": "ICjPVqO70Hv8",
        "colab_type": "text"
      },
      "source": [
        "### 3. Pivot Table"
      ]
    },
    {
      "cell_type": "code",
      "metadata": {
        "id": "LQtMNVa10I_S",
        "colab_type": "code",
        "colab": {}
      },
      "source": [
        ""
      ],
      "execution_count": 0,
      "outputs": []
    },
    {
      "cell_type": "markdown",
      "metadata": {
        "id": "7A9jfBVv0M7e",
        "colab_type": "text"
      },
      "source": [
        "### 4. melt"
      ]
    },
    {
      "cell_type": "code",
      "metadata": {
        "id": "2AmbAKm20PAg",
        "colab_type": "code",
        "colab": {}
      },
      "source": [
        ""
      ],
      "execution_count": 0,
      "outputs": []
    },
    {
      "cell_type": "markdown",
      "metadata": {
        "colab_type": "text",
        "id": "kAMtvSQWPUcj"
      },
      "source": [
        "# Assignment\n",
        "\n",
        "## Join Data Section\n",
        "\n",
        "These are the top 10 most frequently ordered products. How many times was each ordered? \n",
        "\n",
        "1. Banana\n",
        "2. Bag of Organic Bananas\n",
        "3. Organic Strawberries\n",
        "4. Organic Baby Spinach \n",
        "5. Organic Hass Avocado\n",
        "6. Organic Avocado\n",
        "7. Large Lemon \n",
        "8. Strawberries\n",
        "9. Limes \n",
        "10. Organic Whole Milk\n",
        "\n",
        "First, write down which columns you need and which dataframes have them.\n",
        "\n",
        "Next, merge these into a single dataframe.\n",
        "\n",
        "Then, use pandas functions from the previous lesson to get the counts of the top 10 most frequently ordered products.\n",
        "\n",
        "## Reshape Data Section\n",
        "\n",
        "- Replicate the lesson code\n",
        "- Complete the code cells we skipped near the beginning of the notebook\n",
        "- Table 2 --> Tidy\n",
        "- Tidy --> Table 2\n",
        "- Load seaborn's `flights` dataset by running the cell below. Then create a pivot table showing the number of passengers by month and year. Use year for the index and month for the columns. You've done it right if you get 112 passengers for January 1949 and 432 passengers for December 1960."
      ]
    },
    {
      "cell_type": "code",
      "metadata": {
        "id": "JSNBVKTH5npN",
        "colab_type": "code",
        "colab": {}
      },
      "source": [
        "most_freq_products = \"\"\"Banana\n",
        "Bag of Organic Bananas\n",
        "Organic Strawberries\n",
        "Organic Baby Spinach\n",
        "Organic Hass Avocado\n",
        "Organic Avocado\n",
        "Large Lemon\n",
        "Strawberries\n",
        "Limes\n",
        "Organic Whole Milk\"\"\"\n",
        "most_freq_products = most_freq_products.split(\"\\n\")"
      ],
      "execution_count": 0,
      "outputs": []
    },
    {
      "cell_type": "code",
      "metadata": {
        "id": "Xdb901rQ6t8c",
        "colab_type": "code",
        "outputId": "d7029dc8-394c-4f71-f4a1-634c02aef6ee",
        "colab": {
          "base_uri": "https://localhost:8080/",
          "height": 113
        }
      },
      "source": [
        "products.columns, orders.columns, order_products.columns"
      ],
      "execution_count": 52,
      "outputs": [
        {
          "output_type": "execute_result",
          "data": {
            "text/plain": [
              "(Index(['product_id', 'product_name', 'aisle_id', 'department_id'], dtype='object'),\n",
              " Index(['order_id', 'user_id', 'eval_set', 'order_number', 'order_dow',\n",
              "        'order_hour_of_day', 'days_since_prior_order'],\n",
              "       dtype='object'),\n",
              " Index(['order_id', 'product_id', 'add_to_cart_order', 'reordered'], dtype='object'))"
            ]
          },
          "metadata": {
            "tags": []
          },
          "execution_count": 52
        }
      ]
    },
    {
      "cell_type": "code",
      "metadata": {
        "id": "iAxpE84W8RRa",
        "colab_type": "code",
        "outputId": "eeabe90a-c923-492c-c9a6-a9651e4d380b",
        "colab": {
          "base_uri": "https://localhost:8080/",
          "height": 206
        }
      },
      "source": [
        "order_products.head()"
      ],
      "execution_count": 53,
      "outputs": [
        {
          "output_type": "execute_result",
          "data": {
            "text/html": [
              "<div>\n",
              "<style scoped>\n",
              "    .dataframe tbody tr th:only-of-type {\n",
              "        vertical-align: middle;\n",
              "    }\n",
              "\n",
              "    .dataframe tbody tr th {\n",
              "        vertical-align: top;\n",
              "    }\n",
              "\n",
              "    .dataframe thead th {\n",
              "        text-align: right;\n",
              "    }\n",
              "</style>\n",
              "<table border=\"1\" class=\"dataframe\">\n",
              "  <thead>\n",
              "    <tr style=\"text-align: right;\">\n",
              "      <th></th>\n",
              "      <th>order_id</th>\n",
              "      <th>product_id</th>\n",
              "      <th>add_to_cart_order</th>\n",
              "      <th>reordered</th>\n",
              "    </tr>\n",
              "  </thead>\n",
              "  <tbody>\n",
              "    <tr>\n",
              "      <th>0</th>\n",
              "      <td>2</td>\n",
              "      <td>33120</td>\n",
              "      <td>1</td>\n",
              "      <td>1</td>\n",
              "    </tr>\n",
              "    <tr>\n",
              "      <th>1</th>\n",
              "      <td>2</td>\n",
              "      <td>28985</td>\n",
              "      <td>2</td>\n",
              "      <td>1</td>\n",
              "    </tr>\n",
              "    <tr>\n",
              "      <th>2</th>\n",
              "      <td>2</td>\n",
              "      <td>9327</td>\n",
              "      <td>3</td>\n",
              "      <td>0</td>\n",
              "    </tr>\n",
              "    <tr>\n",
              "      <th>3</th>\n",
              "      <td>2</td>\n",
              "      <td>45918</td>\n",
              "      <td>4</td>\n",
              "      <td>1</td>\n",
              "    </tr>\n",
              "    <tr>\n",
              "      <th>4</th>\n",
              "      <td>2</td>\n",
              "      <td>30035</td>\n",
              "      <td>5</td>\n",
              "      <td>0</td>\n",
              "    </tr>\n",
              "  </tbody>\n",
              "</table>\n",
              "</div>"
            ],
            "text/plain": [
              "   order_id  product_id  add_to_cart_order  reordered\n",
              "0         2       33120                  1          1\n",
              "1         2       28985                  2          1\n",
              "2         2        9327                  3          0\n",
              "3         2       45918                  4          1\n",
              "4         2       30035                  5          0"
            ]
          },
          "metadata": {
            "tags": []
          },
          "execution_count": 53
        }
      ]
    },
    {
      "cell_type": "code",
      "metadata": {
        "id": "cimB7HnV7CP-",
        "colab_type": "code",
        "colab": {}
      },
      "source": [
        "# product_id, product_name, order_id\n",
        "merged = order_products[['order_id', 'product_id']].merge(products[['product_id', 'product_name']], how=\"left\")"
      ],
      "execution_count": 0,
      "outputs": []
    },
    {
      "cell_type": "code",
      "metadata": {
        "id": "RBfqzZQK_cA5",
        "colab_type": "code",
        "outputId": "2e4a0257-cb98-49d8-e2d3-87aa5af3c495",
        "colab": {
          "base_uri": "https://localhost:8080/",
          "height": 206
        }
      },
      "source": [
        "top_10 = merged.loc[merged['product_name'].isin(most_freq_products)]\n",
        "top_10.head()"
      ],
      "execution_count": 55,
      "outputs": [
        {
          "output_type": "execute_result",
          "data": {
            "text/html": [
              "<div>\n",
              "<style scoped>\n",
              "    .dataframe tbody tr th:only-of-type {\n",
              "        vertical-align: middle;\n",
              "    }\n",
              "\n",
              "    .dataframe tbody tr th {\n",
              "        vertical-align: top;\n",
              "    }\n",
              "\n",
              "    .dataframe thead th {\n",
              "        text-align: right;\n",
              "    }\n",
              "</style>\n",
              "<table border=\"1\" class=\"dataframe\">\n",
              "  <thead>\n",
              "    <tr style=\"text-align: right;\">\n",
              "      <th></th>\n",
              "      <th>order_id</th>\n",
              "      <th>product_id</th>\n",
              "      <th>product_name</th>\n",
              "    </tr>\n",
              "  </thead>\n",
              "  <tbody>\n",
              "    <tr>\n",
              "      <th>12</th>\n",
              "      <td>3</td>\n",
              "      <td>21903</td>\n",
              "      <td>Organic Baby Spinach</td>\n",
              "    </tr>\n",
              "    <tr>\n",
              "      <th>30</th>\n",
              "      <td>5</td>\n",
              "      <td>13176</td>\n",
              "      <td>Bag of Organic Bananas</td>\n",
              "    </tr>\n",
              "    <tr>\n",
              "      <th>51</th>\n",
              "      <td>5</td>\n",
              "      <td>47209</td>\n",
              "      <td>Organic Hass Avocado</td>\n",
              "    </tr>\n",
              "    <tr>\n",
              "      <th>77</th>\n",
              "      <td>10</td>\n",
              "      <td>24852</td>\n",
              "      <td>Banana</td>\n",
              "    </tr>\n",
              "    <tr>\n",
              "      <th>80</th>\n",
              "      <td>10</td>\n",
              "      <td>47766</td>\n",
              "      <td>Organic Avocado</td>\n",
              "    </tr>\n",
              "  </tbody>\n",
              "</table>\n",
              "</div>"
            ],
            "text/plain": [
              "    order_id  product_id            product_name\n",
              "12         3       21903    Organic Baby Spinach\n",
              "30         5       13176  Bag of Organic Bananas\n",
              "51         5       47209    Organic Hass Avocado\n",
              "77        10       24852                  Banana\n",
              "80        10       47766         Organic Avocado"
            ]
          },
          "metadata": {
            "tags": []
          },
          "execution_count": 55
        }
      ]
    },
    {
      "cell_type": "code",
      "metadata": {
        "id": "xwbXTXSj_rPW",
        "colab_type": "code",
        "outputId": "0b073c64-14fa-4082-af38-be6601e842c2",
        "colab": {
          "base_uri": "https://localhost:8080/",
          "height": 227
        }
      },
      "source": [
        "top_10['product_name'].value_counts()"
      ],
      "execution_count": 56,
      "outputs": [
        {
          "output_type": "execute_result",
          "data": {
            "text/plain": [
              "Banana                    491291\n",
              "Bag of Organic Bananas    394930\n",
              "Organic Strawberries      275577\n",
              "Organic Baby Spinach      251705\n",
              "Organic Hass Avocado      220877\n",
              "Organic Avocado           184224\n",
              "Large Lemon               160792\n",
              "Strawberries              149445\n",
              "Limes                     146660\n",
              "Organic Whole Milk        142813\n",
              "Name: product_name, dtype: int64"
            ]
          },
          "metadata": {
            "tags": []
          },
          "execution_count": 56
        }
      ]
    },
    {
      "cell_type": "code",
      "metadata": {
        "id": "6YvoS_SFpt27",
        "colab_type": "code",
        "outputId": "c0927e0d-74c4-4530-b938-6239cc546eec",
        "colab": {
          "base_uri": "https://localhost:8080/",
          "height": 208
        }
      },
      "source": [
        "merged['product_name'].value_counts().head(10).index.tolist()"
      ],
      "execution_count": 57,
      "outputs": [
        {
          "output_type": "execute_result",
          "data": {
            "text/plain": [
              "['Banana',\n",
              " 'Bag of Organic Bananas',\n",
              " 'Organic Strawberries',\n",
              " 'Organic Baby Spinach',\n",
              " 'Organic Hass Avocado',\n",
              " 'Organic Avocado',\n",
              " 'Large Lemon',\n",
              " 'Strawberries',\n",
              " 'Limes',\n",
              " 'Organic Whole Milk']"
            ]
          },
          "metadata": {
            "tags": []
          },
          "execution_count": 57
        }
      ]
    },
    {
      "cell_type": "code",
      "metadata": {
        "id": "6BYdhIbLnUgx",
        "colab_type": "code",
        "colab": {}
      },
      "source": [
        "# i dont think this is the intended way to do it?\n",
        "# my thinking is the data is already tidied?"
      ],
      "execution_count": 0,
      "outputs": []
    },
    {
      "cell_type": "code",
      "metadata": {
        "id": "fgxulJQq0uLw",
        "colab_type": "code",
        "colab": {}
      },
      "source": [
        "flights = sns.load_dataset('flights')"
      ],
      "execution_count": 0,
      "outputs": []
    },
    {
      "cell_type": "code",
      "metadata": {
        "id": "p_ppJ68DtBml",
        "colab_type": "code",
        "colab": {}
      },
      "source": [
        "# Load seaborn's flights dataset by running the cell below. Then create a pivot \n",
        "# table showing the number of passengers by month and year. Use year for the \n",
        "# index and month for the columns. You've done it right if you get 112 \n",
        "# passengers for January 1949 and 432 passengers for December 1960."
      ],
      "execution_count": 0,
      "outputs": []
    },
    {
      "cell_type": "code",
      "metadata": {
        "id": "m2i6cGRPvuDT",
        "colab_type": "code",
        "outputId": "5100ea5f-9cad-4347-d736-1e5123598629",
        "colab": {
          "base_uri": "https://localhost:8080/",
          "height": 1000
        }
      },
      "source": [
        "flights"
      ],
      "execution_count": 61,
      "outputs": [
        {
          "output_type": "execute_result",
          "data": {
            "text/html": [
              "<div>\n",
              "<style scoped>\n",
              "    .dataframe tbody tr th:only-of-type {\n",
              "        vertical-align: middle;\n",
              "    }\n",
              "\n",
              "    .dataframe tbody tr th {\n",
              "        vertical-align: top;\n",
              "    }\n",
              "\n",
              "    .dataframe thead th {\n",
              "        text-align: right;\n",
              "    }\n",
              "</style>\n",
              "<table border=\"1\" class=\"dataframe\">\n",
              "  <thead>\n",
              "    <tr style=\"text-align: right;\">\n",
              "      <th></th>\n",
              "      <th>year</th>\n",
              "      <th>month</th>\n",
              "      <th>passengers</th>\n",
              "    </tr>\n",
              "  </thead>\n",
              "  <tbody>\n",
              "    <tr>\n",
              "      <th>0</th>\n",
              "      <td>1949</td>\n",
              "      <td>January</td>\n",
              "      <td>112</td>\n",
              "    </tr>\n",
              "    <tr>\n",
              "      <th>1</th>\n",
              "      <td>1949</td>\n",
              "      <td>February</td>\n",
              "      <td>118</td>\n",
              "    </tr>\n",
              "    <tr>\n",
              "      <th>2</th>\n",
              "      <td>1949</td>\n",
              "      <td>March</td>\n",
              "      <td>132</td>\n",
              "    </tr>\n",
              "    <tr>\n",
              "      <th>3</th>\n",
              "      <td>1949</td>\n",
              "      <td>April</td>\n",
              "      <td>129</td>\n",
              "    </tr>\n",
              "    <tr>\n",
              "      <th>4</th>\n",
              "      <td>1949</td>\n",
              "      <td>May</td>\n",
              "      <td>121</td>\n",
              "    </tr>\n",
              "    <tr>\n",
              "      <th>5</th>\n",
              "      <td>1949</td>\n",
              "      <td>June</td>\n",
              "      <td>135</td>\n",
              "    </tr>\n",
              "    <tr>\n",
              "      <th>6</th>\n",
              "      <td>1949</td>\n",
              "      <td>July</td>\n",
              "      <td>148</td>\n",
              "    </tr>\n",
              "    <tr>\n",
              "      <th>7</th>\n",
              "      <td>1949</td>\n",
              "      <td>August</td>\n",
              "      <td>148</td>\n",
              "    </tr>\n",
              "    <tr>\n",
              "      <th>8</th>\n",
              "      <td>1949</td>\n",
              "      <td>September</td>\n",
              "      <td>136</td>\n",
              "    </tr>\n",
              "    <tr>\n",
              "      <th>9</th>\n",
              "      <td>1949</td>\n",
              "      <td>October</td>\n",
              "      <td>119</td>\n",
              "    </tr>\n",
              "    <tr>\n",
              "      <th>10</th>\n",
              "      <td>1949</td>\n",
              "      <td>November</td>\n",
              "      <td>104</td>\n",
              "    </tr>\n",
              "    <tr>\n",
              "      <th>11</th>\n",
              "      <td>1949</td>\n",
              "      <td>December</td>\n",
              "      <td>118</td>\n",
              "    </tr>\n",
              "    <tr>\n",
              "      <th>12</th>\n",
              "      <td>1950</td>\n",
              "      <td>January</td>\n",
              "      <td>115</td>\n",
              "    </tr>\n",
              "    <tr>\n",
              "      <th>13</th>\n",
              "      <td>1950</td>\n",
              "      <td>February</td>\n",
              "      <td>126</td>\n",
              "    </tr>\n",
              "    <tr>\n",
              "      <th>14</th>\n",
              "      <td>1950</td>\n",
              "      <td>March</td>\n",
              "      <td>141</td>\n",
              "    </tr>\n",
              "    <tr>\n",
              "      <th>15</th>\n",
              "      <td>1950</td>\n",
              "      <td>April</td>\n",
              "      <td>135</td>\n",
              "    </tr>\n",
              "    <tr>\n",
              "      <th>16</th>\n",
              "      <td>1950</td>\n",
              "      <td>May</td>\n",
              "      <td>125</td>\n",
              "    </tr>\n",
              "    <tr>\n",
              "      <th>17</th>\n",
              "      <td>1950</td>\n",
              "      <td>June</td>\n",
              "      <td>149</td>\n",
              "    </tr>\n",
              "    <tr>\n",
              "      <th>18</th>\n",
              "      <td>1950</td>\n",
              "      <td>July</td>\n",
              "      <td>170</td>\n",
              "    </tr>\n",
              "    <tr>\n",
              "      <th>19</th>\n",
              "      <td>1950</td>\n",
              "      <td>August</td>\n",
              "      <td>170</td>\n",
              "    </tr>\n",
              "    <tr>\n",
              "      <th>20</th>\n",
              "      <td>1950</td>\n",
              "      <td>September</td>\n",
              "      <td>158</td>\n",
              "    </tr>\n",
              "    <tr>\n",
              "      <th>21</th>\n",
              "      <td>1950</td>\n",
              "      <td>October</td>\n",
              "      <td>133</td>\n",
              "    </tr>\n",
              "    <tr>\n",
              "      <th>22</th>\n",
              "      <td>1950</td>\n",
              "      <td>November</td>\n",
              "      <td>114</td>\n",
              "    </tr>\n",
              "    <tr>\n",
              "      <th>23</th>\n",
              "      <td>1950</td>\n",
              "      <td>December</td>\n",
              "      <td>140</td>\n",
              "    </tr>\n",
              "    <tr>\n",
              "      <th>24</th>\n",
              "      <td>1951</td>\n",
              "      <td>January</td>\n",
              "      <td>145</td>\n",
              "    </tr>\n",
              "    <tr>\n",
              "      <th>25</th>\n",
              "      <td>1951</td>\n",
              "      <td>February</td>\n",
              "      <td>150</td>\n",
              "    </tr>\n",
              "    <tr>\n",
              "      <th>26</th>\n",
              "      <td>1951</td>\n",
              "      <td>March</td>\n",
              "      <td>178</td>\n",
              "    </tr>\n",
              "    <tr>\n",
              "      <th>27</th>\n",
              "      <td>1951</td>\n",
              "      <td>April</td>\n",
              "      <td>163</td>\n",
              "    </tr>\n",
              "    <tr>\n",
              "      <th>28</th>\n",
              "      <td>1951</td>\n",
              "      <td>May</td>\n",
              "      <td>172</td>\n",
              "    </tr>\n",
              "    <tr>\n",
              "      <th>29</th>\n",
              "      <td>1951</td>\n",
              "      <td>June</td>\n",
              "      <td>178</td>\n",
              "    </tr>\n",
              "    <tr>\n",
              "      <th>...</th>\n",
              "      <td>...</td>\n",
              "      <td>...</td>\n",
              "      <td>...</td>\n",
              "    </tr>\n",
              "    <tr>\n",
              "      <th>114</th>\n",
              "      <td>1958</td>\n",
              "      <td>July</td>\n",
              "      <td>491</td>\n",
              "    </tr>\n",
              "    <tr>\n",
              "      <th>115</th>\n",
              "      <td>1958</td>\n",
              "      <td>August</td>\n",
              "      <td>505</td>\n",
              "    </tr>\n",
              "    <tr>\n",
              "      <th>116</th>\n",
              "      <td>1958</td>\n",
              "      <td>September</td>\n",
              "      <td>404</td>\n",
              "    </tr>\n",
              "    <tr>\n",
              "      <th>117</th>\n",
              "      <td>1958</td>\n",
              "      <td>October</td>\n",
              "      <td>359</td>\n",
              "    </tr>\n",
              "    <tr>\n",
              "      <th>118</th>\n",
              "      <td>1958</td>\n",
              "      <td>November</td>\n",
              "      <td>310</td>\n",
              "    </tr>\n",
              "    <tr>\n",
              "      <th>119</th>\n",
              "      <td>1958</td>\n",
              "      <td>December</td>\n",
              "      <td>337</td>\n",
              "    </tr>\n",
              "    <tr>\n",
              "      <th>120</th>\n",
              "      <td>1959</td>\n",
              "      <td>January</td>\n",
              "      <td>360</td>\n",
              "    </tr>\n",
              "    <tr>\n",
              "      <th>121</th>\n",
              "      <td>1959</td>\n",
              "      <td>February</td>\n",
              "      <td>342</td>\n",
              "    </tr>\n",
              "    <tr>\n",
              "      <th>122</th>\n",
              "      <td>1959</td>\n",
              "      <td>March</td>\n",
              "      <td>406</td>\n",
              "    </tr>\n",
              "    <tr>\n",
              "      <th>123</th>\n",
              "      <td>1959</td>\n",
              "      <td>April</td>\n",
              "      <td>396</td>\n",
              "    </tr>\n",
              "    <tr>\n",
              "      <th>124</th>\n",
              "      <td>1959</td>\n",
              "      <td>May</td>\n",
              "      <td>420</td>\n",
              "    </tr>\n",
              "    <tr>\n",
              "      <th>125</th>\n",
              "      <td>1959</td>\n",
              "      <td>June</td>\n",
              "      <td>472</td>\n",
              "    </tr>\n",
              "    <tr>\n",
              "      <th>126</th>\n",
              "      <td>1959</td>\n",
              "      <td>July</td>\n",
              "      <td>548</td>\n",
              "    </tr>\n",
              "    <tr>\n",
              "      <th>127</th>\n",
              "      <td>1959</td>\n",
              "      <td>August</td>\n",
              "      <td>559</td>\n",
              "    </tr>\n",
              "    <tr>\n",
              "      <th>128</th>\n",
              "      <td>1959</td>\n",
              "      <td>September</td>\n",
              "      <td>463</td>\n",
              "    </tr>\n",
              "    <tr>\n",
              "      <th>129</th>\n",
              "      <td>1959</td>\n",
              "      <td>October</td>\n",
              "      <td>407</td>\n",
              "    </tr>\n",
              "    <tr>\n",
              "      <th>130</th>\n",
              "      <td>1959</td>\n",
              "      <td>November</td>\n",
              "      <td>362</td>\n",
              "    </tr>\n",
              "    <tr>\n",
              "      <th>131</th>\n",
              "      <td>1959</td>\n",
              "      <td>December</td>\n",
              "      <td>405</td>\n",
              "    </tr>\n",
              "    <tr>\n",
              "      <th>132</th>\n",
              "      <td>1960</td>\n",
              "      <td>January</td>\n",
              "      <td>417</td>\n",
              "    </tr>\n",
              "    <tr>\n",
              "      <th>133</th>\n",
              "      <td>1960</td>\n",
              "      <td>February</td>\n",
              "      <td>391</td>\n",
              "    </tr>\n",
              "    <tr>\n",
              "      <th>134</th>\n",
              "      <td>1960</td>\n",
              "      <td>March</td>\n",
              "      <td>419</td>\n",
              "    </tr>\n",
              "    <tr>\n",
              "      <th>135</th>\n",
              "      <td>1960</td>\n",
              "      <td>April</td>\n",
              "      <td>461</td>\n",
              "    </tr>\n",
              "    <tr>\n",
              "      <th>136</th>\n",
              "      <td>1960</td>\n",
              "      <td>May</td>\n",
              "      <td>472</td>\n",
              "    </tr>\n",
              "    <tr>\n",
              "      <th>137</th>\n",
              "      <td>1960</td>\n",
              "      <td>June</td>\n",
              "      <td>535</td>\n",
              "    </tr>\n",
              "    <tr>\n",
              "      <th>138</th>\n",
              "      <td>1960</td>\n",
              "      <td>July</td>\n",
              "      <td>622</td>\n",
              "    </tr>\n",
              "    <tr>\n",
              "      <th>139</th>\n",
              "      <td>1960</td>\n",
              "      <td>August</td>\n",
              "      <td>606</td>\n",
              "    </tr>\n",
              "    <tr>\n",
              "      <th>140</th>\n",
              "      <td>1960</td>\n",
              "      <td>September</td>\n",
              "      <td>508</td>\n",
              "    </tr>\n",
              "    <tr>\n",
              "      <th>141</th>\n",
              "      <td>1960</td>\n",
              "      <td>October</td>\n",
              "      <td>461</td>\n",
              "    </tr>\n",
              "    <tr>\n",
              "      <th>142</th>\n",
              "      <td>1960</td>\n",
              "      <td>November</td>\n",
              "      <td>390</td>\n",
              "    </tr>\n",
              "    <tr>\n",
              "      <th>143</th>\n",
              "      <td>1960</td>\n",
              "      <td>December</td>\n",
              "      <td>432</td>\n",
              "    </tr>\n",
              "  </tbody>\n",
              "</table>\n",
              "<p>144 rows × 3 columns</p>\n",
              "</div>"
            ],
            "text/plain": [
              "     year      month  passengers\n",
              "0    1949    January         112\n",
              "1    1949   February         118\n",
              "2    1949      March         132\n",
              "3    1949      April         129\n",
              "4    1949        May         121\n",
              "5    1949       June         135\n",
              "6    1949       July         148\n",
              "7    1949     August         148\n",
              "8    1949  September         136\n",
              "9    1949    October         119\n",
              "10   1949   November         104\n",
              "11   1949   December         118\n",
              "12   1950    January         115\n",
              "13   1950   February         126\n",
              "14   1950      March         141\n",
              "15   1950      April         135\n",
              "16   1950        May         125\n",
              "17   1950       June         149\n",
              "18   1950       July         170\n",
              "19   1950     August         170\n",
              "20   1950  September         158\n",
              "21   1950    October         133\n",
              "22   1950   November         114\n",
              "23   1950   December         140\n",
              "24   1951    January         145\n",
              "25   1951   February         150\n",
              "26   1951      March         178\n",
              "27   1951      April         163\n",
              "28   1951        May         172\n",
              "29   1951       June         178\n",
              "..    ...        ...         ...\n",
              "114  1958       July         491\n",
              "115  1958     August         505\n",
              "116  1958  September         404\n",
              "117  1958    October         359\n",
              "118  1958   November         310\n",
              "119  1958   December         337\n",
              "120  1959    January         360\n",
              "121  1959   February         342\n",
              "122  1959      March         406\n",
              "123  1959      April         396\n",
              "124  1959        May         420\n",
              "125  1959       June         472\n",
              "126  1959       July         548\n",
              "127  1959     August         559\n",
              "128  1959  September         463\n",
              "129  1959    October         407\n",
              "130  1959   November         362\n",
              "131  1959   December         405\n",
              "132  1960    January         417\n",
              "133  1960   February         391\n",
              "134  1960      March         419\n",
              "135  1960      April         461\n",
              "136  1960        May         472\n",
              "137  1960       June         535\n",
              "138  1960       July         622\n",
              "139  1960     August         606\n",
              "140  1960  September         508\n",
              "141  1960    October         461\n",
              "142  1960   November         390\n",
              "143  1960   December         432\n",
              "\n",
              "[144 rows x 3 columns]"
            ]
          },
          "metadata": {
            "tags": []
          },
          "execution_count": 61
        }
      ]
    },
    {
      "cell_type": "code",
      "metadata": {
        "id": "IGA_uFFls5Qu",
        "colab_type": "code",
        "outputId": "c94b9e12-8d3b-413b-e345-56f005f72c27",
        "colab": {
          "base_uri": "https://localhost:8080/",
          "height": 457
        }
      },
      "source": [
        "wide_flights = flights.pivot_table(index='year', columns='month', values='passengers')\n",
        "wide_flights"
      ],
      "execution_count": 62,
      "outputs": [
        {
          "output_type": "execute_result",
          "data": {
            "text/html": [
              "<div>\n",
              "<style scoped>\n",
              "    .dataframe tbody tr th:only-of-type {\n",
              "        vertical-align: middle;\n",
              "    }\n",
              "\n",
              "    .dataframe tbody tr th {\n",
              "        vertical-align: top;\n",
              "    }\n",
              "\n",
              "    .dataframe thead th {\n",
              "        text-align: right;\n",
              "    }\n",
              "</style>\n",
              "<table border=\"1\" class=\"dataframe\">\n",
              "  <thead>\n",
              "    <tr style=\"text-align: right;\">\n",
              "      <th>month</th>\n",
              "      <th>January</th>\n",
              "      <th>February</th>\n",
              "      <th>March</th>\n",
              "      <th>April</th>\n",
              "      <th>May</th>\n",
              "      <th>June</th>\n",
              "      <th>July</th>\n",
              "      <th>August</th>\n",
              "      <th>September</th>\n",
              "      <th>October</th>\n",
              "      <th>November</th>\n",
              "      <th>December</th>\n",
              "    </tr>\n",
              "    <tr>\n",
              "      <th>year</th>\n",
              "      <th></th>\n",
              "      <th></th>\n",
              "      <th></th>\n",
              "      <th></th>\n",
              "      <th></th>\n",
              "      <th></th>\n",
              "      <th></th>\n",
              "      <th></th>\n",
              "      <th></th>\n",
              "      <th></th>\n",
              "      <th></th>\n",
              "      <th></th>\n",
              "    </tr>\n",
              "  </thead>\n",
              "  <tbody>\n",
              "    <tr>\n",
              "      <th>1949</th>\n",
              "      <td>112</td>\n",
              "      <td>118</td>\n",
              "      <td>132</td>\n",
              "      <td>129</td>\n",
              "      <td>121</td>\n",
              "      <td>135</td>\n",
              "      <td>148</td>\n",
              "      <td>148</td>\n",
              "      <td>136</td>\n",
              "      <td>119</td>\n",
              "      <td>104</td>\n",
              "      <td>118</td>\n",
              "    </tr>\n",
              "    <tr>\n",
              "      <th>1950</th>\n",
              "      <td>115</td>\n",
              "      <td>126</td>\n",
              "      <td>141</td>\n",
              "      <td>135</td>\n",
              "      <td>125</td>\n",
              "      <td>149</td>\n",
              "      <td>170</td>\n",
              "      <td>170</td>\n",
              "      <td>158</td>\n",
              "      <td>133</td>\n",
              "      <td>114</td>\n",
              "      <td>140</td>\n",
              "    </tr>\n",
              "    <tr>\n",
              "      <th>1951</th>\n",
              "      <td>145</td>\n",
              "      <td>150</td>\n",
              "      <td>178</td>\n",
              "      <td>163</td>\n",
              "      <td>172</td>\n",
              "      <td>178</td>\n",
              "      <td>199</td>\n",
              "      <td>199</td>\n",
              "      <td>184</td>\n",
              "      <td>162</td>\n",
              "      <td>146</td>\n",
              "      <td>166</td>\n",
              "    </tr>\n",
              "    <tr>\n",
              "      <th>1952</th>\n",
              "      <td>171</td>\n",
              "      <td>180</td>\n",
              "      <td>193</td>\n",
              "      <td>181</td>\n",
              "      <td>183</td>\n",
              "      <td>218</td>\n",
              "      <td>230</td>\n",
              "      <td>242</td>\n",
              "      <td>209</td>\n",
              "      <td>191</td>\n",
              "      <td>172</td>\n",
              "      <td>194</td>\n",
              "    </tr>\n",
              "    <tr>\n",
              "      <th>1953</th>\n",
              "      <td>196</td>\n",
              "      <td>196</td>\n",
              "      <td>236</td>\n",
              "      <td>235</td>\n",
              "      <td>229</td>\n",
              "      <td>243</td>\n",
              "      <td>264</td>\n",
              "      <td>272</td>\n",
              "      <td>237</td>\n",
              "      <td>211</td>\n",
              "      <td>180</td>\n",
              "      <td>201</td>\n",
              "    </tr>\n",
              "    <tr>\n",
              "      <th>1954</th>\n",
              "      <td>204</td>\n",
              "      <td>188</td>\n",
              "      <td>235</td>\n",
              "      <td>227</td>\n",
              "      <td>234</td>\n",
              "      <td>264</td>\n",
              "      <td>302</td>\n",
              "      <td>293</td>\n",
              "      <td>259</td>\n",
              "      <td>229</td>\n",
              "      <td>203</td>\n",
              "      <td>229</td>\n",
              "    </tr>\n",
              "    <tr>\n",
              "      <th>1955</th>\n",
              "      <td>242</td>\n",
              "      <td>233</td>\n",
              "      <td>267</td>\n",
              "      <td>269</td>\n",
              "      <td>270</td>\n",
              "      <td>315</td>\n",
              "      <td>364</td>\n",
              "      <td>347</td>\n",
              "      <td>312</td>\n",
              "      <td>274</td>\n",
              "      <td>237</td>\n",
              "      <td>278</td>\n",
              "    </tr>\n",
              "    <tr>\n",
              "      <th>1956</th>\n",
              "      <td>284</td>\n",
              "      <td>277</td>\n",
              "      <td>317</td>\n",
              "      <td>313</td>\n",
              "      <td>318</td>\n",
              "      <td>374</td>\n",
              "      <td>413</td>\n",
              "      <td>405</td>\n",
              "      <td>355</td>\n",
              "      <td>306</td>\n",
              "      <td>271</td>\n",
              "      <td>306</td>\n",
              "    </tr>\n",
              "    <tr>\n",
              "      <th>1957</th>\n",
              "      <td>315</td>\n",
              "      <td>301</td>\n",
              "      <td>356</td>\n",
              "      <td>348</td>\n",
              "      <td>355</td>\n",
              "      <td>422</td>\n",
              "      <td>465</td>\n",
              "      <td>467</td>\n",
              "      <td>404</td>\n",
              "      <td>347</td>\n",
              "      <td>305</td>\n",
              "      <td>336</td>\n",
              "    </tr>\n",
              "    <tr>\n",
              "      <th>1958</th>\n",
              "      <td>340</td>\n",
              "      <td>318</td>\n",
              "      <td>362</td>\n",
              "      <td>348</td>\n",
              "      <td>363</td>\n",
              "      <td>435</td>\n",
              "      <td>491</td>\n",
              "      <td>505</td>\n",
              "      <td>404</td>\n",
              "      <td>359</td>\n",
              "      <td>310</td>\n",
              "      <td>337</td>\n",
              "    </tr>\n",
              "    <tr>\n",
              "      <th>1959</th>\n",
              "      <td>360</td>\n",
              "      <td>342</td>\n",
              "      <td>406</td>\n",
              "      <td>396</td>\n",
              "      <td>420</td>\n",
              "      <td>472</td>\n",
              "      <td>548</td>\n",
              "      <td>559</td>\n",
              "      <td>463</td>\n",
              "      <td>407</td>\n",
              "      <td>362</td>\n",
              "      <td>405</td>\n",
              "    </tr>\n",
              "    <tr>\n",
              "      <th>1960</th>\n",
              "      <td>417</td>\n",
              "      <td>391</td>\n",
              "      <td>419</td>\n",
              "      <td>461</td>\n",
              "      <td>472</td>\n",
              "      <td>535</td>\n",
              "      <td>622</td>\n",
              "      <td>606</td>\n",
              "      <td>508</td>\n",
              "      <td>461</td>\n",
              "      <td>390</td>\n",
              "      <td>432</td>\n",
              "    </tr>\n",
              "  </tbody>\n",
              "</table>\n",
              "</div>"
            ],
            "text/plain": [
              "month  January  February  March  April  ...  September  October  November  December\n",
              "year                                    ...                                        \n",
              "1949       112       118    132    129  ...        136      119       104       118\n",
              "1950       115       126    141    135  ...        158      133       114       140\n",
              "1951       145       150    178    163  ...        184      162       146       166\n",
              "1952       171       180    193    181  ...        209      191       172       194\n",
              "1953       196       196    236    235  ...        237      211       180       201\n",
              "1954       204       188    235    227  ...        259      229       203       229\n",
              "1955       242       233    267    269  ...        312      274       237       278\n",
              "1956       284       277    317    313  ...        355      306       271       306\n",
              "1957       315       301    356    348  ...        404      347       305       336\n",
              "1958       340       318    362    348  ...        404      359       310       337\n",
              "1959       360       342    406    396  ...        463      407       362       405\n",
              "1960       417       391    419    461  ...        508      461       390       432\n",
              "\n",
              "[12 rows x 12 columns]"
            ]
          },
          "metadata": {
            "tags": []
          },
          "execution_count": 62
        }
      ]
    },
    {
      "cell_type": "code",
      "metadata": {
        "id": "1qKc88WI0up-",
        "colab_type": "code",
        "colab": {}
      },
      "source": [
        "##### YOUR CODE HERE #####"
      ],
      "execution_count": 0,
      "outputs": []
    },
    {
      "cell_type": "markdown",
      "metadata": {
        "id": "mnOuqL9K0dqh",
        "colab_type": "text"
      },
      "source": [
        "## Join Data Stretch Challenge\n",
        "\n",
        "The [Instacart blog post](https://tech.instacart.com/3-million-instacart-orders-open-sourced-d40d29ead6f2) has a visualization of \"**Popular products** purchased earliest in the day (green) and latest in the day (red).\" \n",
        "\n",
        "The post says,\n",
        "\n",
        "> \"We can also see the time of day that users purchase specific products.\n",
        "\n",
        "> Healthier snacks and staples tend to be purchased earlier in the day, whereas ice cream (especially Half Baked and The Tonight Dough) are far more popular when customers are ordering in the evening.\n",
        "\n",
        "> **In fact, of the top 25 latest ordered products, the first 24 are ice cream! The last one, of course, is a frozen pizza.**\"\n",
        "\n",
        "Your challenge is to reproduce the list of the top 25 latest ordered popular products.\n",
        "\n",
        "We'll define \"popular products\" as products with more than 2,900 orders.\n",
        "\n",
        "## Reshape Data Stretch Challenge\n",
        "\n",
        "_Try whatever sounds most interesting to you!_\n",
        "\n",
        "- Replicate more of Instacart's visualization showing \"Hour of Day Ordered\" vs \"Percent of Orders by Product\"\n",
        "- Replicate parts of the other visualization from [Instacart's blog post](https://tech.instacart.com/3-million-instacart-orders-open-sourced-d40d29ead6f2), showing \"Number of Purchases\" vs \"Percent Reorder Purchases\"\n",
        "- Get the most recent order for each user in Instacart's dataset. This is a useful baseline when [predicting a user's next order](https://www.kaggle.com/c/instacart-market-basket-analysis)\n",
        "- Replicate parts of the blog post linked at the top of this notebook: [Modern Pandas, Part 5: Tidy Data](https://tomaugspurger.github.io/modern-5-tidy.html)"
      ]
    },
    {
      "cell_type": "code",
      "metadata": {
        "id": "PD4VtvB6zTh5",
        "colab_type": "code",
        "outputId": "99c36271-c915-4714-ae2a-85ff3109b3f1",
        "colab": {
          "base_uri": "https://localhost:8080/",
          "height": 36
        }
      },
      "source": [
        "order_products.shape"
      ],
      "execution_count": 64,
      "outputs": [
        {
          "output_type": "execute_result",
          "data": {
            "text/plain": [
              "(33819106, 4)"
            ]
          },
          "metadata": {
            "tags": []
          },
          "execution_count": 64
        }
      ]
    },
    {
      "cell_type": "code",
      "metadata": {
        "id": "p5a7jx5izxe4",
        "colab_type": "code",
        "colab": {}
      },
      "source": [
        "merged = (products[['product_id', 'product_name']]\n",
        "          .merge(order_products[['product_id','order_id']])\n",
        "          .merge(orders[['order_id', 'order_hour_of_day']]))"
      ],
      "execution_count": 0,
      "outputs": []
    },
    {
      "cell_type": "code",
      "metadata": {
        "id": "0y4msABj9i_D",
        "colab_type": "code",
        "colab": {}
      },
      "source": [
        "# get only top products \n",
        "popular_products = merged.groupby('product_name').size()"
      ],
      "execution_count": 0,
      "outputs": []
    },
    {
      "cell_type": "code",
      "metadata": {
        "id": "7qdnKQu7Dxkd",
        "colab_type": "code",
        "outputId": "a8b8ad51-45f7-43b3-bdce-b103451a3992",
        "colab": {
          "base_uri": "https://localhost:8080/",
          "height": 36
        }
      },
      "source": [
        "popular_products.shape"
      ],
      "execution_count": 67,
      "outputs": [
        {
          "output_type": "execute_result",
          "data": {
            "text/plain": [
              "(49685,)"
            ]
          },
          "metadata": {
            "tags": []
          },
          "execution_count": 67
        }
      ]
    },
    {
      "cell_type": "code",
      "metadata": {
        "id": "c81MGVV5_yDW",
        "colab_type": "code",
        "colab": {}
      },
      "source": [
        "popular_products = popular_products.where(popular_products > 2900)\n",
        "popular_products.dropna(inplace=True)\n",
        "popular_products_names = popular_products.index.to_list()"
      ],
      "execution_count": 0,
      "outputs": []
    },
    {
      "cell_type": "code",
      "metadata": {
        "id": "9w_aySDKD6zI",
        "colab_type": "code",
        "outputId": "939fd241-3977-4b31-9e16-3e4689c5e6d4",
        "colab": {
          "base_uri": "https://localhost:8080/",
          "height": 1000
        }
      },
      "source": [
        "popular_products"
      ],
      "execution_count": 69,
      "outputs": [
        {
          "output_type": "execute_result",
          "data": {
            "text/plain": [
              "product_name\n",
              "0% Fat Free Organic Milk                                                 4006.0\n",
              "0% Greek Strained Yogurt                                                13651.0\n",
              "1 Liter                                                                  4278.0\n",
              "1% Low Fat Milk                                                          8933.0\n",
              "1% Lowfat Milk                                                          14692.0\n",
              "100 Calorie  Per Bag Popcorn                                            13374.0\n",
              "100% Apple Juice                                                         5717.0\n",
              "100% Cranberry Juice                                                     4871.0\n",
              "100% Grated Parmesan Cheese                                              6080.0\n",
              "100% Lactose Free Fat Free Milk                                          7556.0\n",
              "100% Lactose Free Reduced Fat Calcium Enriched Milk                      3377.0\n",
              "100% Lemon Juice                                                         4447.0\n",
              "100% Natural Spring Water                                                7292.0\n",
              "100% Natural Tomato Sauce                                                3131.0\n",
              "100% Oatnut Bread                                                        2998.0\n",
              "100% Pure Apple Juice                                                    5581.0\n",
              "100% Pure Pumpkin                                                        8725.0\n",
              "100% Raw Coconut Water                                                  39271.0\n",
              "100% Recycled 2 Ply Jumbo Paper Towel Roll                               3862.0\n",
              "100% Recycled Aluminum Foil                                              3409.0\n",
              "100% Recycled Bath Tissue Rolls                                          5156.0\n",
              "100% Recycled Bathroom Tissue                                            7546.0\n",
              "100% Recycled Paper Towels                                              29047.0\n",
              "100% Recycled White Paper Towels                                         3401.0\n",
              "100% Whole Wheat Bread                                                  63114.0\n",
              "2% Reduced Fat DHA Omega-3 Reduced Fat Milk                             13972.0\n",
              "2% Reduced Fat Milk                                                     38631.0\n",
              "2% Reduced Fat Organic Milk                                             17042.0\n",
              "2-Ply 100% Recycled Bathroom Tissue                                      3942.0\n",
              "2-Ply Right Size 100% Recycled Paper Towels                              3567.0\n",
              "                                                                         ...   \n",
              "World Cuisine Certified Halal Chicken Tikka Masala With Basmati Rice     3080.0\n",
              "XL Emerald White Seedless Grapes                                        16375.0\n",
              "Yellow Bell Pepper                                                      26625.0\n",
              "Yellow Corn Organic Tortillas                                            2916.0\n",
              "Yellow Grape Tomatoes                                                    7903.0\n",
              "Yellow Onions                                                           76929.0\n",
              "Yellow Soft Corn Tortillas 8 Count                                       3070.0\n",
              "Yellow Straightneck Squash                                               6779.0\n",
              "Yo Baby Organic Vanilla Yogurt                                           3485.0\n",
              "Yo Baby Organic Whole Milk Banana Mango Yogurt                           4722.0\n",
              "YoBaby Blueberry Apple Yogurt                                            8180.0\n",
              "YoBaby Peach Pear Yogurt                                                 8926.0\n",
              "YoKids Blueberry & Strawberry/Vanilla Yogurt                            12638.0\n",
              "YoKids Squeeze Organic Blueberry Blue Yogurt                             3531.0\n",
              "YoKids Squeeze! Organic Strawberry Flavor Yogurt                         6995.0\n",
              "YoKids Squeezers Organic Low-Fat Yogurt, Strawberry                     20344.0\n",
              "YoKids Strawberry Banana/Strawberry Yogurt                               6966.0\n",
              "Yobaby Organic Plain Yogurt                                              8585.0\n",
              "Yoghurt Blueberry                                                        5085.0\n",
              "Yogurt, Lowfat, Strawberry                                               8279.0\n",
              "Yogurt, Strained Low-Fat, Coconut                                       12560.0\n",
              "Yotoddler Organic Pear Spinach Mango Yogurt                              6237.0\n",
              "Yukon Gold Potatoes 5lb Bag                                              7969.0\n",
              "ZBar Organic Chocolate Brownie Energy Snack                              8252.0\n",
              "Zen Tea                                                                  4984.0\n",
              "Zero Calorie Cola                                                        8905.0\n",
              "Zero Soda                                                                3627.0\n",
              "of Hanover 100 Calorie Pretzels Mini                                     3311.0\n",
              "smartwater® Electrolyte Enhanced Water                                   5137.0\n",
              "with Crispy Almonds Cereal                                               4493.0\n",
              "Length: 2051, dtype: float64"
            ]
          },
          "metadata": {
            "tags": []
          },
          "execution_count": 69
        }
      ]
    },
    {
      "cell_type": "code",
      "metadata": {
        "id": "bqurhpTPNzRb",
        "colab_type": "code",
        "outputId": "666abc29-a897-4991-8f90-3bad8d64959e",
        "colab": {
          "base_uri": "https://localhost:8080/",
          "height": 1000
        }
      },
      "source": [
        "popular_products_df = popular_products.to_frame().reset_index()\n",
        "popular_products_df.rename(columns={0:\"count\"}, inplace=True)\n",
        "popular_products_df"
      ],
      "execution_count": 70,
      "outputs": [
        {
          "output_type": "execute_result",
          "data": {
            "text/html": [
              "<div>\n",
              "<style scoped>\n",
              "    .dataframe tbody tr th:only-of-type {\n",
              "        vertical-align: middle;\n",
              "    }\n",
              "\n",
              "    .dataframe tbody tr th {\n",
              "        vertical-align: top;\n",
              "    }\n",
              "\n",
              "    .dataframe thead th {\n",
              "        text-align: right;\n",
              "    }\n",
              "</style>\n",
              "<table border=\"1\" class=\"dataframe\">\n",
              "  <thead>\n",
              "    <tr style=\"text-align: right;\">\n",
              "      <th></th>\n",
              "      <th>product_name</th>\n",
              "      <th>count</th>\n",
              "    </tr>\n",
              "  </thead>\n",
              "  <tbody>\n",
              "    <tr>\n",
              "      <th>0</th>\n",
              "      <td>0% Fat Free Organic Milk</td>\n",
              "      <td>4006.0</td>\n",
              "    </tr>\n",
              "    <tr>\n",
              "      <th>1</th>\n",
              "      <td>0% Greek Strained Yogurt</td>\n",
              "      <td>13651.0</td>\n",
              "    </tr>\n",
              "    <tr>\n",
              "      <th>2</th>\n",
              "      <td>1 Liter</td>\n",
              "      <td>4278.0</td>\n",
              "    </tr>\n",
              "    <tr>\n",
              "      <th>3</th>\n",
              "      <td>1% Low Fat Milk</td>\n",
              "      <td>8933.0</td>\n",
              "    </tr>\n",
              "    <tr>\n",
              "      <th>4</th>\n",
              "      <td>1% Lowfat Milk</td>\n",
              "      <td>14692.0</td>\n",
              "    </tr>\n",
              "    <tr>\n",
              "      <th>5</th>\n",
              "      <td>100 Calorie  Per Bag Popcorn</td>\n",
              "      <td>13374.0</td>\n",
              "    </tr>\n",
              "    <tr>\n",
              "      <th>6</th>\n",
              "      <td>100% Apple Juice</td>\n",
              "      <td>5717.0</td>\n",
              "    </tr>\n",
              "    <tr>\n",
              "      <th>7</th>\n",
              "      <td>100% Cranberry Juice</td>\n",
              "      <td>4871.0</td>\n",
              "    </tr>\n",
              "    <tr>\n",
              "      <th>8</th>\n",
              "      <td>100% Grated Parmesan Cheese</td>\n",
              "      <td>6080.0</td>\n",
              "    </tr>\n",
              "    <tr>\n",
              "      <th>9</th>\n",
              "      <td>100% Lactose Free Fat Free Milk</td>\n",
              "      <td>7556.0</td>\n",
              "    </tr>\n",
              "    <tr>\n",
              "      <th>10</th>\n",
              "      <td>100% Lactose Free Reduced Fat Calcium Enriched...</td>\n",
              "      <td>3377.0</td>\n",
              "    </tr>\n",
              "    <tr>\n",
              "      <th>11</th>\n",
              "      <td>100% Lemon Juice</td>\n",
              "      <td>4447.0</td>\n",
              "    </tr>\n",
              "    <tr>\n",
              "      <th>12</th>\n",
              "      <td>100% Natural Spring Water</td>\n",
              "      <td>7292.0</td>\n",
              "    </tr>\n",
              "    <tr>\n",
              "      <th>13</th>\n",
              "      <td>100% Natural Tomato Sauce</td>\n",
              "      <td>3131.0</td>\n",
              "    </tr>\n",
              "    <tr>\n",
              "      <th>14</th>\n",
              "      <td>100% Oatnut Bread</td>\n",
              "      <td>2998.0</td>\n",
              "    </tr>\n",
              "    <tr>\n",
              "      <th>15</th>\n",
              "      <td>100% Pure Apple Juice</td>\n",
              "      <td>5581.0</td>\n",
              "    </tr>\n",
              "    <tr>\n",
              "      <th>16</th>\n",
              "      <td>100% Pure Pumpkin</td>\n",
              "      <td>8725.0</td>\n",
              "    </tr>\n",
              "    <tr>\n",
              "      <th>17</th>\n",
              "      <td>100% Raw Coconut Water</td>\n",
              "      <td>39271.0</td>\n",
              "    </tr>\n",
              "    <tr>\n",
              "      <th>18</th>\n",
              "      <td>100% Recycled 2 Ply Jumbo Paper Towel Roll</td>\n",
              "      <td>3862.0</td>\n",
              "    </tr>\n",
              "    <tr>\n",
              "      <th>19</th>\n",
              "      <td>100% Recycled Aluminum Foil</td>\n",
              "      <td>3409.0</td>\n",
              "    </tr>\n",
              "    <tr>\n",
              "      <th>20</th>\n",
              "      <td>100% Recycled Bath Tissue Rolls</td>\n",
              "      <td>5156.0</td>\n",
              "    </tr>\n",
              "    <tr>\n",
              "      <th>21</th>\n",
              "      <td>100% Recycled Bathroom Tissue</td>\n",
              "      <td>7546.0</td>\n",
              "    </tr>\n",
              "    <tr>\n",
              "      <th>22</th>\n",
              "      <td>100% Recycled Paper Towels</td>\n",
              "      <td>29047.0</td>\n",
              "    </tr>\n",
              "    <tr>\n",
              "      <th>23</th>\n",
              "      <td>100% Recycled White Paper Towels</td>\n",
              "      <td>3401.0</td>\n",
              "    </tr>\n",
              "    <tr>\n",
              "      <th>24</th>\n",
              "      <td>100% Whole Wheat Bread</td>\n",
              "      <td>63114.0</td>\n",
              "    </tr>\n",
              "    <tr>\n",
              "      <th>25</th>\n",
              "      <td>2% Reduced Fat DHA Omega-3 Reduced Fat Milk</td>\n",
              "      <td>13972.0</td>\n",
              "    </tr>\n",
              "    <tr>\n",
              "      <th>26</th>\n",
              "      <td>2% Reduced Fat Milk</td>\n",
              "      <td>38631.0</td>\n",
              "    </tr>\n",
              "    <tr>\n",
              "      <th>27</th>\n",
              "      <td>2% Reduced Fat Organic Milk</td>\n",
              "      <td>17042.0</td>\n",
              "    </tr>\n",
              "    <tr>\n",
              "      <th>28</th>\n",
              "      <td>2-Ply 100% Recycled Bathroom Tissue</td>\n",
              "      <td>3942.0</td>\n",
              "    </tr>\n",
              "    <tr>\n",
              "      <th>29</th>\n",
              "      <td>2-Ply Right Size 100% Recycled Paper Towels</td>\n",
              "      <td>3567.0</td>\n",
              "    </tr>\n",
              "    <tr>\n",
              "      <th>...</th>\n",
              "      <td>...</td>\n",
              "      <td>...</td>\n",
              "    </tr>\n",
              "    <tr>\n",
              "      <th>2021</th>\n",
              "      <td>World Cuisine Certified Halal Chicken Tikka Ma...</td>\n",
              "      <td>3080.0</td>\n",
              "    </tr>\n",
              "    <tr>\n",
              "      <th>2022</th>\n",
              "      <td>XL Emerald White Seedless Grapes</td>\n",
              "      <td>16375.0</td>\n",
              "    </tr>\n",
              "    <tr>\n",
              "      <th>2023</th>\n",
              "      <td>Yellow Bell Pepper</td>\n",
              "      <td>26625.0</td>\n",
              "    </tr>\n",
              "    <tr>\n",
              "      <th>2024</th>\n",
              "      <td>Yellow Corn Organic Tortillas</td>\n",
              "      <td>2916.0</td>\n",
              "    </tr>\n",
              "    <tr>\n",
              "      <th>2025</th>\n",
              "      <td>Yellow Grape Tomatoes</td>\n",
              "      <td>7903.0</td>\n",
              "    </tr>\n",
              "    <tr>\n",
              "      <th>2026</th>\n",
              "      <td>Yellow Onions</td>\n",
              "      <td>76929.0</td>\n",
              "    </tr>\n",
              "    <tr>\n",
              "      <th>2027</th>\n",
              "      <td>Yellow Soft Corn Tortillas 8 Count</td>\n",
              "      <td>3070.0</td>\n",
              "    </tr>\n",
              "    <tr>\n",
              "      <th>2028</th>\n",
              "      <td>Yellow Straightneck Squash</td>\n",
              "      <td>6779.0</td>\n",
              "    </tr>\n",
              "    <tr>\n",
              "      <th>2029</th>\n",
              "      <td>Yo Baby Organic Vanilla Yogurt</td>\n",
              "      <td>3485.0</td>\n",
              "    </tr>\n",
              "    <tr>\n",
              "      <th>2030</th>\n",
              "      <td>Yo Baby Organic Whole Milk Banana Mango Yogurt</td>\n",
              "      <td>4722.0</td>\n",
              "    </tr>\n",
              "    <tr>\n",
              "      <th>2031</th>\n",
              "      <td>YoBaby Blueberry Apple Yogurt</td>\n",
              "      <td>8180.0</td>\n",
              "    </tr>\n",
              "    <tr>\n",
              "      <th>2032</th>\n",
              "      <td>YoBaby Peach Pear Yogurt</td>\n",
              "      <td>8926.0</td>\n",
              "    </tr>\n",
              "    <tr>\n",
              "      <th>2033</th>\n",
              "      <td>YoKids Blueberry &amp; Strawberry/Vanilla Yogurt</td>\n",
              "      <td>12638.0</td>\n",
              "    </tr>\n",
              "    <tr>\n",
              "      <th>2034</th>\n",
              "      <td>YoKids Squeeze Organic Blueberry Blue Yogurt</td>\n",
              "      <td>3531.0</td>\n",
              "    </tr>\n",
              "    <tr>\n",
              "      <th>2035</th>\n",
              "      <td>YoKids Squeeze! Organic Strawberry Flavor Yogurt</td>\n",
              "      <td>6995.0</td>\n",
              "    </tr>\n",
              "    <tr>\n",
              "      <th>2036</th>\n",
              "      <td>YoKids Squeezers Organic Low-Fat Yogurt, Straw...</td>\n",
              "      <td>20344.0</td>\n",
              "    </tr>\n",
              "    <tr>\n",
              "      <th>2037</th>\n",
              "      <td>YoKids Strawberry Banana/Strawberry Yogurt</td>\n",
              "      <td>6966.0</td>\n",
              "    </tr>\n",
              "    <tr>\n",
              "      <th>2038</th>\n",
              "      <td>Yobaby Organic Plain Yogurt</td>\n",
              "      <td>8585.0</td>\n",
              "    </tr>\n",
              "    <tr>\n",
              "      <th>2039</th>\n",
              "      <td>Yoghurt Blueberry</td>\n",
              "      <td>5085.0</td>\n",
              "    </tr>\n",
              "    <tr>\n",
              "      <th>2040</th>\n",
              "      <td>Yogurt, Lowfat, Strawberry</td>\n",
              "      <td>8279.0</td>\n",
              "    </tr>\n",
              "    <tr>\n",
              "      <th>2041</th>\n",
              "      <td>Yogurt, Strained Low-Fat, Coconut</td>\n",
              "      <td>12560.0</td>\n",
              "    </tr>\n",
              "    <tr>\n",
              "      <th>2042</th>\n",
              "      <td>Yotoddler Organic Pear Spinach Mango Yogurt</td>\n",
              "      <td>6237.0</td>\n",
              "    </tr>\n",
              "    <tr>\n",
              "      <th>2043</th>\n",
              "      <td>Yukon Gold Potatoes 5lb Bag</td>\n",
              "      <td>7969.0</td>\n",
              "    </tr>\n",
              "    <tr>\n",
              "      <th>2044</th>\n",
              "      <td>ZBar Organic Chocolate Brownie Energy Snack</td>\n",
              "      <td>8252.0</td>\n",
              "    </tr>\n",
              "    <tr>\n",
              "      <th>2045</th>\n",
              "      <td>Zen Tea</td>\n",
              "      <td>4984.0</td>\n",
              "    </tr>\n",
              "    <tr>\n",
              "      <th>2046</th>\n",
              "      <td>Zero Calorie Cola</td>\n",
              "      <td>8905.0</td>\n",
              "    </tr>\n",
              "    <tr>\n",
              "      <th>2047</th>\n",
              "      <td>Zero Soda</td>\n",
              "      <td>3627.0</td>\n",
              "    </tr>\n",
              "    <tr>\n",
              "      <th>2048</th>\n",
              "      <td>of Hanover 100 Calorie Pretzels Mini</td>\n",
              "      <td>3311.0</td>\n",
              "    </tr>\n",
              "    <tr>\n",
              "      <th>2049</th>\n",
              "      <td>smartwater® Electrolyte Enhanced Water</td>\n",
              "      <td>5137.0</td>\n",
              "    </tr>\n",
              "    <tr>\n",
              "      <th>2050</th>\n",
              "      <td>with Crispy Almonds Cereal</td>\n",
              "      <td>4493.0</td>\n",
              "    </tr>\n",
              "  </tbody>\n",
              "</table>\n",
              "<p>2051 rows × 2 columns</p>\n",
              "</div>"
            ],
            "text/plain": [
              "                                           product_name    count\n",
              "0                              0% Fat Free Organic Milk   4006.0\n",
              "1                              0% Greek Strained Yogurt  13651.0\n",
              "2                                               1 Liter   4278.0\n",
              "3                                       1% Low Fat Milk   8933.0\n",
              "4                                        1% Lowfat Milk  14692.0\n",
              "5                          100 Calorie  Per Bag Popcorn  13374.0\n",
              "6                                      100% Apple Juice   5717.0\n",
              "7                                  100% Cranberry Juice   4871.0\n",
              "8                           100% Grated Parmesan Cheese   6080.0\n",
              "9                       100% Lactose Free Fat Free Milk   7556.0\n",
              "10    100% Lactose Free Reduced Fat Calcium Enriched...   3377.0\n",
              "11                                     100% Lemon Juice   4447.0\n",
              "12                            100% Natural Spring Water   7292.0\n",
              "13                            100% Natural Tomato Sauce   3131.0\n",
              "14                                    100% Oatnut Bread   2998.0\n",
              "15                                100% Pure Apple Juice   5581.0\n",
              "16                                    100% Pure Pumpkin   8725.0\n",
              "17                               100% Raw Coconut Water  39271.0\n",
              "18           100% Recycled 2 Ply Jumbo Paper Towel Roll   3862.0\n",
              "19                          100% Recycled Aluminum Foil   3409.0\n",
              "20                      100% Recycled Bath Tissue Rolls   5156.0\n",
              "21                        100% Recycled Bathroom Tissue   7546.0\n",
              "22                           100% Recycled Paper Towels  29047.0\n",
              "23                     100% Recycled White Paper Towels   3401.0\n",
              "24                               100% Whole Wheat Bread  63114.0\n",
              "25          2% Reduced Fat DHA Omega-3 Reduced Fat Milk  13972.0\n",
              "26                                  2% Reduced Fat Milk  38631.0\n",
              "27                          2% Reduced Fat Organic Milk  17042.0\n",
              "28                  2-Ply 100% Recycled Bathroom Tissue   3942.0\n",
              "29          2-Ply Right Size 100% Recycled Paper Towels   3567.0\n",
              "...                                                 ...      ...\n",
              "2021  World Cuisine Certified Halal Chicken Tikka Ma...   3080.0\n",
              "2022                   XL Emerald White Seedless Grapes  16375.0\n",
              "2023                                 Yellow Bell Pepper  26625.0\n",
              "2024                      Yellow Corn Organic Tortillas   2916.0\n",
              "2025                              Yellow Grape Tomatoes   7903.0\n",
              "2026                                      Yellow Onions  76929.0\n",
              "2027                 Yellow Soft Corn Tortillas 8 Count   3070.0\n",
              "2028                         Yellow Straightneck Squash   6779.0\n",
              "2029                     Yo Baby Organic Vanilla Yogurt   3485.0\n",
              "2030     Yo Baby Organic Whole Milk Banana Mango Yogurt   4722.0\n",
              "2031                      YoBaby Blueberry Apple Yogurt   8180.0\n",
              "2032                           YoBaby Peach Pear Yogurt   8926.0\n",
              "2033       YoKids Blueberry & Strawberry/Vanilla Yogurt  12638.0\n",
              "2034       YoKids Squeeze Organic Blueberry Blue Yogurt   3531.0\n",
              "2035   YoKids Squeeze! Organic Strawberry Flavor Yogurt   6995.0\n",
              "2036  YoKids Squeezers Organic Low-Fat Yogurt, Straw...  20344.0\n",
              "2037         YoKids Strawberry Banana/Strawberry Yogurt   6966.0\n",
              "2038                        Yobaby Organic Plain Yogurt   8585.0\n",
              "2039                                  Yoghurt Blueberry   5085.0\n",
              "2040                         Yogurt, Lowfat, Strawberry   8279.0\n",
              "2041                  Yogurt, Strained Low-Fat, Coconut  12560.0\n",
              "2042        Yotoddler Organic Pear Spinach Mango Yogurt   6237.0\n",
              "2043                        Yukon Gold Potatoes 5lb Bag   7969.0\n",
              "2044        ZBar Organic Chocolate Brownie Energy Snack   8252.0\n",
              "2045                                            Zen Tea   4984.0\n",
              "2046                                  Zero Calorie Cola   8905.0\n",
              "2047                                          Zero Soda   3627.0\n",
              "2048               of Hanover 100 Calorie Pretzels Mini   3311.0\n",
              "2049             smartwater® Electrolyte Enhanced Water   5137.0\n",
              "2050                         with Crispy Almonds Cereal   4493.0\n",
              "\n",
              "[2051 rows x 2 columns]"
            ]
          },
          "metadata": {
            "tags": []
          },
          "execution_count": 70
        }
      ]
    },
    {
      "cell_type": "code",
      "metadata": {
        "id": "VxrvYw2UP_5R",
        "colab_type": "code",
        "outputId": "4a85102c-cfd0-4712-9e32-0b4306a11cd4",
        "colab": {
          "base_uri": "https://localhost:8080/",
          "height": 81
        }
      },
      "source": [
        "popular_products_df.loc[popular_products_df['product_name'] == 'Pub Mix']"
      ],
      "execution_count": 71,
      "outputs": [
        {
          "output_type": "execute_result",
          "data": {
            "text/html": [
              "<div>\n",
              "<style scoped>\n",
              "    .dataframe tbody tr th:only-of-type {\n",
              "        vertical-align: middle;\n",
              "    }\n",
              "\n",
              "    .dataframe tbody tr th {\n",
              "        vertical-align: top;\n",
              "    }\n",
              "\n",
              "    .dataframe thead th {\n",
              "        text-align: right;\n",
              "    }\n",
              "</style>\n",
              "<table border=\"1\" class=\"dataframe\">\n",
              "  <thead>\n",
              "    <tr style=\"text-align: right;\">\n",
              "      <th></th>\n",
              "      <th>product_name</th>\n",
              "      <th>count</th>\n",
              "    </tr>\n",
              "  </thead>\n",
              "  <tbody>\n",
              "    <tr>\n",
              "      <th>1582</th>\n",
              "      <td>Pub Mix</td>\n",
              "      <td>4479.0</td>\n",
              "    </tr>\n",
              "  </tbody>\n",
              "</table>\n",
              "</div>"
            ],
            "text/plain": [
              "     product_name   count\n",
              "1582      Pub Mix  4479.0"
            ]
          },
          "metadata": {
            "tags": []
          },
          "execution_count": 71
        }
      ]
    },
    {
      "cell_type": "code",
      "metadata": {
        "id": "-AtBCaye_vsZ",
        "colab_type": "code",
        "outputId": "3a3ca8e7-111c-4420-cdea-eef575b0c4f5",
        "colab": {
          "base_uri": "https://localhost:8080/",
          "height": 206
        }
      },
      "source": [
        "merged_popular = merged.loc[merged['product_name'].isin(popular_products_names)]\n",
        "merged_popular.head()"
      ],
      "execution_count": 72,
      "outputs": [
        {
          "output_type": "execute_result",
          "data": {
            "text/html": [
              "<div>\n",
              "<style scoped>\n",
              "    .dataframe tbody tr th:only-of-type {\n",
              "        vertical-align: middle;\n",
              "    }\n",
              "\n",
              "    .dataframe tbody tr th {\n",
              "        vertical-align: top;\n",
              "    }\n",
              "\n",
              "    .dataframe thead th {\n",
              "        text-align: right;\n",
              "    }\n",
              "</style>\n",
              "<table border=\"1\" class=\"dataframe\">\n",
              "  <thead>\n",
              "    <tr style=\"text-align: right;\">\n",
              "      <th></th>\n",
              "      <th>product_id</th>\n",
              "      <th>product_name</th>\n",
              "      <th>order_id</th>\n",
              "      <th>order_hour_of_day</th>\n",
              "    </tr>\n",
              "  </thead>\n",
              "  <tbody>\n",
              "    <tr>\n",
              "      <th>2</th>\n",
              "      <td>6184</td>\n",
              "      <td>Clementines</td>\n",
              "      <td>1107</td>\n",
              "      <td>11</td>\n",
              "    </tr>\n",
              "    <tr>\n",
              "      <th>3</th>\n",
              "      <td>8048</td>\n",
              "      <td>Packaged Grape Tomatoes</td>\n",
              "      <td>1107</td>\n",
              "      <td>11</td>\n",
              "    </tr>\n",
              "    <tr>\n",
              "      <th>6</th>\n",
              "      <td>12078</td>\n",
              "      <td>Shredded Mexican Blend Cheese</td>\n",
              "      <td>1107</td>\n",
              "      <td>11</td>\n",
              "    </tr>\n",
              "    <tr>\n",
              "      <th>7</th>\n",
              "      <td>13176</td>\n",
              "      <td>Bag of Organic Bananas</td>\n",
              "      <td>1107</td>\n",
              "      <td>11</td>\n",
              "    </tr>\n",
              "    <tr>\n",
              "      <th>8</th>\n",
              "      <td>16797</td>\n",
              "      <td>Strawberries</td>\n",
              "      <td>1107</td>\n",
              "      <td>11</td>\n",
              "    </tr>\n",
              "  </tbody>\n",
              "</table>\n",
              "</div>"
            ],
            "text/plain": [
              "   product_id                   product_name  order_id  order_hour_of_day\n",
              "2        6184                    Clementines      1107                 11\n",
              "3        8048        Packaged Grape Tomatoes      1107                 11\n",
              "6       12078  Shredded Mexican Blend Cheese      1107                 11\n",
              "7       13176         Bag of Organic Bananas      1107                 11\n",
              "8       16797                   Strawberries      1107                 11"
            ]
          },
          "metadata": {
            "tags": []
          },
          "execution_count": 72
        }
      ]
    },
    {
      "cell_type": "code",
      "metadata": {
        "id": "Msn9hi4RIs2o",
        "colab_type": "code",
        "colab": {}
      },
      "source": [
        "# get mean hour for each product\n",
        "mean_hour = merged_popular.groupby('product_name')['order_hour_of_day'].mean()\n",
        "mean_hour\n",
        "late = mean_hour.nlargest(25)\n",
        "early = mean_hour.nsmallest(25)\n",
        "late_names = mean_hour.nlargest(25).index.tolist()\n",
        "early_names = mean_hour.nsmallest(25).index.tolist()\n",
        "early_df = early.to_frame().reset_index()\n",
        "late_df = late.to_frame().reset_index()\n",
        "early_df, late_df = early_df.rename(columns={'order_hour_of_day': 'mean_hour_of_orders'}), late_df.rename(columns={'order_hour_of_day': 'mean_hour_of_orders'})"
      ],
      "execution_count": 0,
      "outputs": []
    },
    {
      "cell_type": "code",
      "metadata": {
        "id": "0FRqJom1ON4B",
        "colab_type": "code",
        "outputId": "c71dfe2d-69da-43b8-e089-71cb269345c6",
        "colab": {
          "base_uri": "https://localhost:8080/",
          "height": 834
        }
      },
      "source": [
        "early_df"
      ],
      "execution_count": 74,
      "outputs": [
        {
          "output_type": "execute_result",
          "data": {
            "text/html": [
              "<div>\n",
              "<style scoped>\n",
              "    .dataframe tbody tr th:only-of-type {\n",
              "        vertical-align: middle;\n",
              "    }\n",
              "\n",
              "    .dataframe tbody tr th {\n",
              "        vertical-align: top;\n",
              "    }\n",
              "\n",
              "    .dataframe thead th {\n",
              "        text-align: right;\n",
              "    }\n",
              "</style>\n",
              "<table border=\"1\" class=\"dataframe\">\n",
              "  <thead>\n",
              "    <tr style=\"text-align: right;\">\n",
              "      <th></th>\n",
              "      <th>product_name</th>\n",
              "      <th>mean_hour_of_orders</th>\n",
              "    </tr>\n",
              "  </thead>\n",
              "  <tbody>\n",
              "    <tr>\n",
              "      <th>0</th>\n",
              "      <td>Half And Half Ultra Pasteurized</td>\n",
              "      <td>11.767279</td>\n",
              "    </tr>\n",
              "    <tr>\n",
              "      <th>1</th>\n",
              "      <td>Sweet &amp; Salty Nut Granola Bars Peanut</td>\n",
              "      <td>11.898340</td>\n",
              "    </tr>\n",
              "    <tr>\n",
              "      <th>2</th>\n",
              "      <td>Pub Mix</td>\n",
              "      <td>12.004019</td>\n",
              "    </tr>\n",
              "    <tr>\n",
              "      <th>3</th>\n",
              "      <td>Nutri Grain Bars Multi Pack</td>\n",
              "      <td>12.049459</td>\n",
              "    </tr>\n",
              "    <tr>\n",
              "      <th>4</th>\n",
              "      <td>Trail Mix</td>\n",
              "      <td>12.059043</td>\n",
              "    </tr>\n",
              "    <tr>\n",
              "      <th>5</th>\n",
              "      <td>Original Rice Krispies Treats</td>\n",
              "      <td>12.114576</td>\n",
              "    </tr>\n",
              "    <tr>\n",
              "      <th>6</th>\n",
              "      <td>Apples</td>\n",
              "      <td>12.123962</td>\n",
              "    </tr>\n",
              "    <tr>\n",
              "      <th>7</th>\n",
              "      <td>Cheez-It Baked Snack Crackers</td>\n",
              "      <td>12.140281</td>\n",
              "    </tr>\n",
              "    <tr>\n",
              "      <th>8</th>\n",
              "      <td>Dry Roasted Almonds</td>\n",
              "      <td>12.151995</td>\n",
              "    </tr>\n",
              "    <tr>\n",
              "      <th>9</th>\n",
              "      <td>Zero Calorie Cola</td>\n",
              "      <td>12.168894</td>\n",
              "    </tr>\n",
              "    <tr>\n",
              "      <th>10</th>\n",
              "      <td>Crunchy Oats 'n Honey Granola Bars</td>\n",
              "      <td>12.188945</td>\n",
              "    </tr>\n",
              "    <tr>\n",
              "      <th>11</th>\n",
              "      <td>Original Beef Jerky</td>\n",
              "      <td>12.270420</td>\n",
              "    </tr>\n",
              "    <tr>\n",
              "      <th>12</th>\n",
              "      <td>Cheez-It Cheddar Cracker</td>\n",
              "      <td>12.271951</td>\n",
              "    </tr>\n",
              "    <tr>\n",
              "      <th>13</th>\n",
              "      <td>Popcorn</td>\n",
              "      <td>12.275556</td>\n",
              "    </tr>\n",
              "    <tr>\n",
              "      <th>14</th>\n",
              "      <td>Milk Chocolate Almonds</td>\n",
              "      <td>12.288367</td>\n",
              "    </tr>\n",
              "    <tr>\n",
              "      <th>15</th>\n",
              "      <td>0% Greek Strained Yogurt</td>\n",
              "      <td>12.298806</td>\n",
              "    </tr>\n",
              "    <tr>\n",
              "      <th>16</th>\n",
              "      <td>Extra Fancy Unsalted Mixed Nuts</td>\n",
              "      <td>12.315155</td>\n",
              "    </tr>\n",
              "    <tr>\n",
              "      <th>17</th>\n",
              "      <td>Pink Lady Apples</td>\n",
              "      <td>12.330913</td>\n",
              "    </tr>\n",
              "    <tr>\n",
              "      <th>18</th>\n",
              "      <td>with Crispy Almonds Cereal</td>\n",
              "      <td>12.348542</td>\n",
              "    </tr>\n",
              "    <tr>\n",
              "      <th>19</th>\n",
              "      <td>Original Almondmilk</td>\n",
              "      <td>12.353126</td>\n",
              "    </tr>\n",
              "    <tr>\n",
              "      <th>20</th>\n",
              "      <td>Clementines</td>\n",
              "      <td>12.368174</td>\n",
              "    </tr>\n",
              "    <tr>\n",
              "      <th>21</th>\n",
              "      <td>Half And Half Cream</td>\n",
              "      <td>12.374539</td>\n",
              "    </tr>\n",
              "    <tr>\n",
              "      <th>22</th>\n",
              "      <td>French Vanilla Coffee Creamer</td>\n",
              "      <td>12.377249</td>\n",
              "    </tr>\n",
              "    <tr>\n",
              "      <th>23</th>\n",
              "      <td>Orange &amp; Lemon Flavor Variety Pack Sparkling F...</td>\n",
              "      <td>12.395354</td>\n",
              "    </tr>\n",
              "    <tr>\n",
              "      <th>24</th>\n",
              "      <td>Cinnamon Brown Sugar Breakfast Biscuits</td>\n",
              "      <td>12.409215</td>\n",
              "    </tr>\n",
              "  </tbody>\n",
              "</table>\n",
              "</div>"
            ],
            "text/plain": [
              "                                         product_name  mean_hour_of_orders\n",
              "0                     Half And Half Ultra Pasteurized            11.767279\n",
              "1               Sweet & Salty Nut Granola Bars Peanut            11.898340\n",
              "2                                             Pub Mix            12.004019\n",
              "3                         Nutri Grain Bars Multi Pack            12.049459\n",
              "4                                           Trail Mix            12.059043\n",
              "5                       Original Rice Krispies Treats            12.114576\n",
              "6                                              Apples            12.123962\n",
              "7                       Cheez-It Baked Snack Crackers            12.140281\n",
              "8                                 Dry Roasted Almonds            12.151995\n",
              "9                                   Zero Calorie Cola            12.168894\n",
              "10                 Crunchy Oats 'n Honey Granola Bars            12.188945\n",
              "11                                Original Beef Jerky            12.270420\n",
              "12                           Cheez-It Cheddar Cracker            12.271951\n",
              "13                                            Popcorn            12.275556\n",
              "14                             Milk Chocolate Almonds            12.288367\n",
              "15                           0% Greek Strained Yogurt            12.298806\n",
              "16                    Extra Fancy Unsalted Mixed Nuts            12.315155\n",
              "17                                   Pink Lady Apples            12.330913\n",
              "18                         with Crispy Almonds Cereal            12.348542\n",
              "19                                Original Almondmilk            12.353126\n",
              "20                                        Clementines            12.368174\n",
              "21                                Half And Half Cream            12.374539\n",
              "22                      French Vanilla Coffee Creamer            12.377249\n",
              "23  Orange & Lemon Flavor Variety Pack Sparkling F...            12.395354\n",
              "24            Cinnamon Brown Sugar Breakfast Biscuits            12.409215"
            ]
          },
          "metadata": {
            "tags": []
          },
          "execution_count": 74
        }
      ]
    },
    {
      "cell_type": "code",
      "metadata": {
        "id": "ZpvZwt57NcXm",
        "colab_type": "code",
        "outputId": "f5ee31bc-2a67-467b-a845-fe71e7a02769",
        "colab": {
          "base_uri": "https://localhost:8080/",
          "height": 834
        }
      },
      "source": [
        "early_names_df = early_df.merge(popular_products_df.loc[popular_products_df['product_name'].isin(early_names)], how='left')\n",
        "early_names_df"
      ],
      "execution_count": 75,
      "outputs": [
        {
          "output_type": "execute_result",
          "data": {
            "text/html": [
              "<div>\n",
              "<style scoped>\n",
              "    .dataframe tbody tr th:only-of-type {\n",
              "        vertical-align: middle;\n",
              "    }\n",
              "\n",
              "    .dataframe tbody tr th {\n",
              "        vertical-align: top;\n",
              "    }\n",
              "\n",
              "    .dataframe thead th {\n",
              "        text-align: right;\n",
              "    }\n",
              "</style>\n",
              "<table border=\"1\" class=\"dataframe\">\n",
              "  <thead>\n",
              "    <tr style=\"text-align: right;\">\n",
              "      <th></th>\n",
              "      <th>product_name</th>\n",
              "      <th>mean_hour_of_orders</th>\n",
              "      <th>count</th>\n",
              "    </tr>\n",
              "  </thead>\n",
              "  <tbody>\n",
              "    <tr>\n",
              "      <th>0</th>\n",
              "      <td>Half And Half Ultra Pasteurized</td>\n",
              "      <td>11.767279</td>\n",
              "      <td>2995.0</td>\n",
              "    </tr>\n",
              "    <tr>\n",
              "      <th>1</th>\n",
              "      <td>Sweet &amp; Salty Nut Granola Bars Peanut</td>\n",
              "      <td>11.898340</td>\n",
              "      <td>4338.0</td>\n",
              "    </tr>\n",
              "    <tr>\n",
              "      <th>2</th>\n",
              "      <td>Pub Mix</td>\n",
              "      <td>12.004019</td>\n",
              "      <td>4479.0</td>\n",
              "    </tr>\n",
              "    <tr>\n",
              "      <th>3</th>\n",
              "      <td>Nutri Grain Bars Multi Pack</td>\n",
              "      <td>12.049459</td>\n",
              "      <td>3700.0</td>\n",
              "    </tr>\n",
              "    <tr>\n",
              "      <th>4</th>\n",
              "      <td>Trail Mix</td>\n",
              "      <td>12.059043</td>\n",
              "      <td>12601.0</td>\n",
              "    </tr>\n",
              "    <tr>\n",
              "      <th>5</th>\n",
              "      <td>Original Rice Krispies Treats</td>\n",
              "      <td>12.114576</td>\n",
              "      <td>4329.0</td>\n",
              "    </tr>\n",
              "    <tr>\n",
              "      <th>6</th>\n",
              "      <td>Apples</td>\n",
              "      <td>12.123962</td>\n",
              "      <td>12883.0</td>\n",
              "    </tr>\n",
              "    <tr>\n",
              "      <th>7</th>\n",
              "      <td>Cheez-It Baked Snack Crackers</td>\n",
              "      <td>12.140281</td>\n",
              "      <td>3992.0</td>\n",
              "    </tr>\n",
              "    <tr>\n",
              "      <th>8</th>\n",
              "      <td>Dry Roasted Almonds</td>\n",
              "      <td>12.151995</td>\n",
              "      <td>3033.0</td>\n",
              "    </tr>\n",
              "    <tr>\n",
              "      <th>9</th>\n",
              "      <td>Zero Calorie Cola</td>\n",
              "      <td>12.168894</td>\n",
              "      <td>8905.0</td>\n",
              "    </tr>\n",
              "    <tr>\n",
              "      <th>10</th>\n",
              "      <td>Crunchy Oats 'n Honey Granola Bars</td>\n",
              "      <td>12.188945</td>\n",
              "      <td>9082.0</td>\n",
              "    </tr>\n",
              "    <tr>\n",
              "      <th>11</th>\n",
              "      <td>Original Beef Jerky</td>\n",
              "      <td>12.270420</td>\n",
              "      <td>6697.0</td>\n",
              "    </tr>\n",
              "    <tr>\n",
              "      <th>12</th>\n",
              "      <td>Cheez-It Cheddar Cracker</td>\n",
              "      <td>12.271951</td>\n",
              "      <td>4453.0</td>\n",
              "    </tr>\n",
              "    <tr>\n",
              "      <th>13</th>\n",
              "      <td>Popcorn</td>\n",
              "      <td>12.275556</td>\n",
              "      <td>7102.0</td>\n",
              "    </tr>\n",
              "    <tr>\n",
              "      <th>14</th>\n",
              "      <td>Milk Chocolate Almonds</td>\n",
              "      <td>12.288367</td>\n",
              "      <td>5278.0</td>\n",
              "    </tr>\n",
              "    <tr>\n",
              "      <th>15</th>\n",
              "      <td>0% Greek Strained Yogurt</td>\n",
              "      <td>12.298806</td>\n",
              "      <td>13651.0</td>\n",
              "    </tr>\n",
              "    <tr>\n",
              "      <th>16</th>\n",
              "      <td>Extra Fancy Unsalted Mixed Nuts</td>\n",
              "      <td>12.315155</td>\n",
              "      <td>10030.0</td>\n",
              "    </tr>\n",
              "    <tr>\n",
              "      <th>17</th>\n",
              "      <td>Pink Lady Apples</td>\n",
              "      <td>12.330913</td>\n",
              "      <td>5234.0</td>\n",
              "    </tr>\n",
              "    <tr>\n",
              "      <th>18</th>\n",
              "      <td>with Crispy Almonds Cereal</td>\n",
              "      <td>12.348542</td>\n",
              "      <td>4493.0</td>\n",
              "    </tr>\n",
              "    <tr>\n",
              "      <th>19</th>\n",
              "      <td>Original Almondmilk</td>\n",
              "      <td>12.353126</td>\n",
              "      <td>4766.0</td>\n",
              "    </tr>\n",
              "    <tr>\n",
              "      <th>20</th>\n",
              "      <td>Clementines</td>\n",
              "      <td>12.368174</td>\n",
              "      <td>32194.0</td>\n",
              "    </tr>\n",
              "    <tr>\n",
              "      <th>21</th>\n",
              "      <td>Half And Half Cream</td>\n",
              "      <td>12.374539</td>\n",
              "      <td>6504.0</td>\n",
              "    </tr>\n",
              "    <tr>\n",
              "      <th>22</th>\n",
              "      <td>French Vanilla Coffee Creamer</td>\n",
              "      <td>12.377249</td>\n",
              "      <td>3112.0</td>\n",
              "    </tr>\n",
              "    <tr>\n",
              "      <th>23</th>\n",
              "      <td>Orange &amp; Lemon Flavor Variety Pack Sparkling F...</td>\n",
              "      <td>12.395354</td>\n",
              "      <td>4219.0</td>\n",
              "    </tr>\n",
              "    <tr>\n",
              "      <th>24</th>\n",
              "      <td>Cinnamon Brown Sugar Breakfast Biscuits</td>\n",
              "      <td>12.409215</td>\n",
              "      <td>3668.0</td>\n",
              "    </tr>\n",
              "  </tbody>\n",
              "</table>\n",
              "</div>"
            ],
            "text/plain": [
              "                                         product_name  ...    count\n",
              "0                     Half And Half Ultra Pasteurized  ...   2995.0\n",
              "1               Sweet & Salty Nut Granola Bars Peanut  ...   4338.0\n",
              "2                                             Pub Mix  ...   4479.0\n",
              "3                         Nutri Grain Bars Multi Pack  ...   3700.0\n",
              "4                                           Trail Mix  ...  12601.0\n",
              "5                       Original Rice Krispies Treats  ...   4329.0\n",
              "6                                              Apples  ...  12883.0\n",
              "7                       Cheez-It Baked Snack Crackers  ...   3992.0\n",
              "8                                 Dry Roasted Almonds  ...   3033.0\n",
              "9                                   Zero Calorie Cola  ...   8905.0\n",
              "10                 Crunchy Oats 'n Honey Granola Bars  ...   9082.0\n",
              "11                                Original Beef Jerky  ...   6697.0\n",
              "12                           Cheez-It Cheddar Cracker  ...   4453.0\n",
              "13                                            Popcorn  ...   7102.0\n",
              "14                             Milk Chocolate Almonds  ...   5278.0\n",
              "15                           0% Greek Strained Yogurt  ...  13651.0\n",
              "16                    Extra Fancy Unsalted Mixed Nuts  ...  10030.0\n",
              "17                                   Pink Lady Apples  ...   5234.0\n",
              "18                         with Crispy Almonds Cereal  ...   4493.0\n",
              "19                                Original Almondmilk  ...   4766.0\n",
              "20                                        Clementines  ...  32194.0\n",
              "21                                Half And Half Cream  ...   6504.0\n",
              "22                      French Vanilla Coffee Creamer  ...   3112.0\n",
              "23  Orange & Lemon Flavor Variety Pack Sparkling F...  ...   4219.0\n",
              "24            Cinnamon Brown Sugar Breakfast Biscuits  ...   3668.0\n",
              "\n",
              "[25 rows x 3 columns]"
            ]
          },
          "metadata": {
            "tags": []
          },
          "execution_count": 75
        }
      ]
    },
    {
      "cell_type": "code",
      "metadata": {
        "id": "PGo8lWViQQC7",
        "colab_type": "code",
        "outputId": "ea80b88e-d772-4f60-89de-ceb76032cee3",
        "colab": {
          "base_uri": "https://localhost:8080/",
          "height": 834
        }
      },
      "source": [
        "late_names_df = late_df.merge(popular_products_df.loc[popular_products_df['product_name'].isin(late_names)], how='left')\n",
        "late_names_df"
      ],
      "execution_count": 76,
      "outputs": [
        {
          "output_type": "execute_result",
          "data": {
            "text/html": [
              "<div>\n",
              "<style scoped>\n",
              "    .dataframe tbody tr th:only-of-type {\n",
              "        vertical-align: middle;\n",
              "    }\n",
              "\n",
              "    .dataframe tbody tr th {\n",
              "        vertical-align: top;\n",
              "    }\n",
              "\n",
              "    .dataframe thead th {\n",
              "        text-align: right;\n",
              "    }\n",
              "</style>\n",
              "<table border=\"1\" class=\"dataframe\">\n",
              "  <thead>\n",
              "    <tr style=\"text-align: right;\">\n",
              "      <th></th>\n",
              "      <th>product_name</th>\n",
              "      <th>mean_hour_of_orders</th>\n",
              "      <th>count</th>\n",
              "    </tr>\n",
              "  </thead>\n",
              "  <tbody>\n",
              "    <tr>\n",
              "      <th>0</th>\n",
              "      <td>Half Baked Frozen Yogurt</td>\n",
              "      <td>14.526986</td>\n",
              "      <td>2983.0</td>\n",
              "    </tr>\n",
              "    <tr>\n",
              "      <th>1</th>\n",
              "      <td>The Tonight Dough™ Ice Cream</td>\n",
              "      <td>14.526299</td>\n",
              "      <td>3137.0</td>\n",
              "    </tr>\n",
              "    <tr>\n",
              "      <th>2</th>\n",
              "      <td>Americone Dream® Ice Cream</td>\n",
              "      <td>14.394912</td>\n",
              "      <td>6447.0</td>\n",
              "    </tr>\n",
              "    <tr>\n",
              "      <th>3</th>\n",
              "      <td>Half Baked® Ice Cream</td>\n",
              "      <td>14.388942</td>\n",
              "      <td>6222.0</td>\n",
              "    </tr>\n",
              "    <tr>\n",
              "      <th>4</th>\n",
              "      <td>Phish Food® Ice Cream</td>\n",
              "      <td>14.373308</td>\n",
              "      <td>3177.0</td>\n",
              "    </tr>\n",
              "    <tr>\n",
              "      <th>5</th>\n",
              "      <td>Milk and Cookies Ice Cream</td>\n",
              "      <td>14.369711</td>\n",
              "      <td>5223.0</td>\n",
              "    </tr>\n",
              "    <tr>\n",
              "      <th>6</th>\n",
              "      <td>Sicilian Pistachio</td>\n",
              "      <td>14.306421</td>\n",
              "      <td>3146.0</td>\n",
              "    </tr>\n",
              "    <tr>\n",
              "      <th>7</th>\n",
              "      <td>Chocolate Peanut Butter Cup Gelato</td>\n",
              "      <td>14.303480</td>\n",
              "      <td>4511.0</td>\n",
              "    </tr>\n",
              "    <tr>\n",
              "      <th>8</th>\n",
              "      <td>Birthday Cake Light Ice Cream</td>\n",
              "      <td>14.292018</td>\n",
              "      <td>5462.0</td>\n",
              "    </tr>\n",
              "    <tr>\n",
              "      <th>9</th>\n",
              "      <td>Cherry Garcia Ice Cream</td>\n",
              "      <td>14.270300</td>\n",
              "      <td>4495.0</td>\n",
              "    </tr>\n",
              "    <tr>\n",
              "      <th>10</th>\n",
              "      <td>Strawberry Ice Cream</td>\n",
              "      <td>14.268841</td>\n",
              "      <td>6409.0</td>\n",
              "    </tr>\n",
              "    <tr>\n",
              "      <th>11</th>\n",
              "      <td>Vanilla Bean Light Ice Cream</td>\n",
              "      <td>14.257849</td>\n",
              "      <td>5096.0</td>\n",
              "    </tr>\n",
              "    <tr>\n",
              "      <th>12</th>\n",
              "      <td>Coffee Ice Cream</td>\n",
              "      <td>14.256280</td>\n",
              "      <td>3941.0</td>\n",
              "    </tr>\n",
              "    <tr>\n",
              "      <th>13</th>\n",
              "      <td>Roman Raspberry Sorbetto</td>\n",
              "      <td>14.248191</td>\n",
              "      <td>3179.0</td>\n",
              "    </tr>\n",
              "    <tr>\n",
              "      <th>14</th>\n",
              "      <td>Mediterranean Mint Gelato</td>\n",
              "      <td>14.233542</td>\n",
              "      <td>7656.0</td>\n",
              "    </tr>\n",
              "    <tr>\n",
              "      <th>15</th>\n",
              "      <td>Caramel Cookie Crunch Gelato</td>\n",
              "      <td>14.224069</td>\n",
              "      <td>5717.0</td>\n",
              "    </tr>\n",
              "    <tr>\n",
              "      <th>16</th>\n",
              "      <td>Chocolate Chip Cookie Dough Ice Cream</td>\n",
              "      <td>14.204325</td>\n",
              "      <td>8555.0</td>\n",
              "    </tr>\n",
              "    <tr>\n",
              "      <th>17</th>\n",
              "      <td>Mint Chip</td>\n",
              "      <td>14.189235</td>\n",
              "      <td>5871.0</td>\n",
              "    </tr>\n",
              "    <tr>\n",
              "      <th>18</th>\n",
              "      <td>Coconut Almond Minis Frozen Dessert Bars</td>\n",
              "      <td>14.156069</td>\n",
              "      <td>3460.0</td>\n",
              "    </tr>\n",
              "    <tr>\n",
              "      <th>19</th>\n",
              "      <td>Mint Chocolate Chip Ice Cream</td>\n",
              "      <td>14.134992</td>\n",
              "      <td>3578.0</td>\n",
              "    </tr>\n",
              "    <tr>\n",
              "      <th>20</th>\n",
              "      <td>Chocolate Peanut Butter Ice Cream</td>\n",
              "      <td>14.120449</td>\n",
              "      <td>3653.0</td>\n",
              "    </tr>\n",
              "    <tr>\n",
              "      <th>21</th>\n",
              "      <td>Vanilla Milk Chocolate Almond Ice Cream Bars</td>\n",
              "      <td>14.104662</td>\n",
              "      <td>4290.0</td>\n",
              "    </tr>\n",
              "    <tr>\n",
              "      <th>22</th>\n",
              "      <td>Sea Salt Caramel Gelato</td>\n",
              "      <td>14.083895</td>\n",
              "      <td>6973.0</td>\n",
              "    </tr>\n",
              "    <tr>\n",
              "      <th>23</th>\n",
              "      <td>Vanilla Bean Ice Cream</td>\n",
              "      <td>14.039406</td>\n",
              "      <td>4644.0</td>\n",
              "    </tr>\n",
              "    <tr>\n",
              "      <th>24</th>\n",
              "      <td>Rising Crust Pepperoni Pizza</td>\n",
              "      <td>14.027699</td>\n",
              "      <td>3863.0</td>\n",
              "    </tr>\n",
              "  </tbody>\n",
              "</table>\n",
              "</div>"
            ],
            "text/plain": [
              "                                    product_name  mean_hour_of_orders   count\n",
              "0                       Half Baked Frozen Yogurt            14.526986  2983.0\n",
              "1                   The Tonight Dough™ Ice Cream            14.526299  3137.0\n",
              "2                     Americone Dream® Ice Cream            14.394912  6447.0\n",
              "3                          Half Baked® Ice Cream            14.388942  6222.0\n",
              "4                          Phish Food® Ice Cream            14.373308  3177.0\n",
              "5                     Milk and Cookies Ice Cream            14.369711  5223.0\n",
              "6                             Sicilian Pistachio            14.306421  3146.0\n",
              "7             Chocolate Peanut Butter Cup Gelato            14.303480  4511.0\n",
              "8                  Birthday Cake Light Ice Cream            14.292018  5462.0\n",
              "9                        Cherry Garcia Ice Cream            14.270300  4495.0\n",
              "10                          Strawberry Ice Cream            14.268841  6409.0\n",
              "11                  Vanilla Bean Light Ice Cream            14.257849  5096.0\n",
              "12                              Coffee Ice Cream            14.256280  3941.0\n",
              "13                      Roman Raspberry Sorbetto            14.248191  3179.0\n",
              "14                     Mediterranean Mint Gelato            14.233542  7656.0\n",
              "15                  Caramel Cookie Crunch Gelato            14.224069  5717.0\n",
              "16         Chocolate Chip Cookie Dough Ice Cream            14.204325  8555.0\n",
              "17                                     Mint Chip            14.189235  5871.0\n",
              "18      Coconut Almond Minis Frozen Dessert Bars            14.156069  3460.0\n",
              "19                 Mint Chocolate Chip Ice Cream            14.134992  3578.0\n",
              "20             Chocolate Peanut Butter Ice Cream            14.120449  3653.0\n",
              "21  Vanilla Milk Chocolate Almond Ice Cream Bars            14.104662  4290.0\n",
              "22                       Sea Salt Caramel Gelato            14.083895  6973.0\n",
              "23                        Vanilla Bean Ice Cream            14.039406  4644.0\n",
              "24                  Rising Crust Pepperoni Pizza            14.027699  3863.0"
            ]
          },
          "metadata": {
            "tags": []
          },
          "execution_count": 76
        }
      ]
    },
    {
      "cell_type": "code",
      "metadata": {
        "id": "3L15u40yRpMH",
        "colab_type": "code",
        "colab": {}
      },
      "source": [
        "late_names_df.sort_values(by=\"mean_hour_of_orders\", ascending=False, inplace=True)"
      ],
      "execution_count": 0,
      "outputs": []
    },
    {
      "cell_type": "code",
      "metadata": {
        "id": "WRz6WHZuR6WA",
        "colab_type": "code",
        "colab": {}
      },
      "source": [
        "early_names_df.sort_values(by=\"mean_hour_of_orders\", inplace=True)"
      ],
      "execution_count": 0,
      "outputs": []
    },
    {
      "cell_type": "code",
      "metadata": {
        "id": "2JId8WZUJsGo",
        "colab_type": "code",
        "colab": {}
      },
      "source": [
        "late_df = merged_popular.loc[merged_popular['product_name'].isin(late_names)]\n",
        "early_df = merged_popular.loc[merged_popular['product_name'].isin(early_names)]"
      ],
      "execution_count": 0,
      "outputs": []
    },
    {
      "cell_type": "code",
      "metadata": {
        "id": "6QtZpNWWSN8z",
        "colab_type": "code",
        "outputId": "2c1623e0-2352-468a-8543-1603d22f4b53",
        "colab": {
          "base_uri": "https://localhost:8080/",
          "height": 206
        }
      },
      "source": [
        "late_df.head()"
      ],
      "execution_count": 80,
      "outputs": [
        {
          "output_type": "execute_result",
          "data": {
            "text/html": [
              "<div>\n",
              "<style scoped>\n",
              "    .dataframe tbody tr th:only-of-type {\n",
              "        vertical-align: middle;\n",
              "    }\n",
              "\n",
              "    .dataframe tbody tr th {\n",
              "        vertical-align: top;\n",
              "    }\n",
              "\n",
              "    .dataframe thead th {\n",
              "        text-align: right;\n",
              "    }\n",
              "</style>\n",
              "<table border=\"1\" class=\"dataframe\">\n",
              "  <thead>\n",
              "    <tr style=\"text-align: right;\">\n",
              "      <th></th>\n",
              "      <th>product_id</th>\n",
              "      <th>product_name</th>\n",
              "      <th>order_id</th>\n",
              "      <th>order_hour_of_day</th>\n",
              "    </tr>\n",
              "  </thead>\n",
              "  <tbody>\n",
              "    <tr>\n",
              "      <th>1033</th>\n",
              "      <td>40002</td>\n",
              "      <td>Strawberry Ice Cream</td>\n",
              "      <td>224060</td>\n",
              "      <td>12</td>\n",
              "    </tr>\n",
              "    <tr>\n",
              "      <th>4365</th>\n",
              "      <td>40002</td>\n",
              "      <td>Strawberry Ice Cream</td>\n",
              "      <td>839897</td>\n",
              "      <td>16</td>\n",
              "    </tr>\n",
              "    <tr>\n",
              "      <th>10390</th>\n",
              "      <td>40002</td>\n",
              "      <td>Strawberry Ice Cream</td>\n",
              "      <td>1957727</td>\n",
              "      <td>13</td>\n",
              "    </tr>\n",
              "    <tr>\n",
              "      <th>13769</th>\n",
              "      <td>40002</td>\n",
              "      <td>Strawberry Ice Cream</td>\n",
              "      <td>2524869</td>\n",
              "      <td>17</td>\n",
              "    </tr>\n",
              "    <tr>\n",
              "      <th>14075</th>\n",
              "      <td>27179</td>\n",
              "      <td>Rising Crust Pepperoni Pizza</td>\n",
              "      <td>2597068</td>\n",
              "      <td>13</td>\n",
              "    </tr>\n",
              "  </tbody>\n",
              "</table>\n",
              "</div>"
            ],
            "text/plain": [
              "       product_id                  product_name  order_id  order_hour_of_day\n",
              "1033        40002          Strawberry Ice Cream    224060                 12\n",
              "4365        40002          Strawberry Ice Cream    839897                 16\n",
              "10390       40002          Strawberry Ice Cream   1957727                 13\n",
              "13769       40002          Strawberry Ice Cream   2524869                 17\n",
              "14075       27179  Rising Crust Pepperoni Pizza   2597068                 13"
            ]
          },
          "metadata": {
            "tags": []
          },
          "execution_count": 80
        }
      ]
    },
    {
      "cell_type": "code",
      "metadata": {
        "id": "NhFpOTHKEZdk",
        "colab_type": "code",
        "outputId": "f7dde203-da63-472e-cd64-6f18bb3fa779",
        "colab": {
          "base_uri": "https://localhost:8080/",
          "height": 975
        }
      },
      "source": [
        "early_ct = pd.crosstab(early_df['order_hour_of_day'], early_df['product_name'], normalize='columns')*100\n",
        "early_ct"
      ],
      "execution_count": 81,
      "outputs": [
        {
          "output_type": "execute_result",
          "data": {
            "text/html": [
              "<div>\n",
              "<style scoped>\n",
              "    .dataframe tbody tr th:only-of-type {\n",
              "        vertical-align: middle;\n",
              "    }\n",
              "\n",
              "    .dataframe tbody tr th {\n",
              "        vertical-align: top;\n",
              "    }\n",
              "\n",
              "    .dataframe thead th {\n",
              "        text-align: right;\n",
              "    }\n",
              "</style>\n",
              "<table border=\"1\" class=\"dataframe\">\n",
              "  <thead>\n",
              "    <tr style=\"text-align: right;\">\n",
              "      <th>product_name</th>\n",
              "      <th>0% Greek Strained Yogurt</th>\n",
              "      <th>Apples</th>\n",
              "      <th>Cheez-It Baked Snack Crackers</th>\n",
              "      <th>Cheez-It Cheddar Cracker</th>\n",
              "      <th>Cinnamon Brown Sugar Breakfast Biscuits</th>\n",
              "      <th>Clementines</th>\n",
              "      <th>Crunchy Oats 'n Honey Granola Bars</th>\n",
              "      <th>Dry Roasted Almonds</th>\n",
              "      <th>Extra Fancy Unsalted Mixed Nuts</th>\n",
              "      <th>French Vanilla Coffee Creamer</th>\n",
              "      <th>Half And Half Cream</th>\n",
              "      <th>Half And Half Ultra Pasteurized</th>\n",
              "      <th>Milk Chocolate Almonds</th>\n",
              "      <th>Nutri Grain Bars Multi Pack</th>\n",
              "      <th>Orange &amp; Lemon Flavor Variety Pack Sparkling Fruit Beverage</th>\n",
              "      <th>Original Almondmilk</th>\n",
              "      <th>Original Beef Jerky</th>\n",
              "      <th>Original Rice Krispies Treats</th>\n",
              "      <th>Pink Lady Apples</th>\n",
              "      <th>Popcorn</th>\n",
              "      <th>Pub Mix</th>\n",
              "      <th>Sweet &amp; Salty Nut Granola Bars Peanut</th>\n",
              "      <th>Trail Mix</th>\n",
              "      <th>Zero Calorie Cola</th>\n",
              "      <th>with Crispy Almonds Cereal</th>\n",
              "    </tr>\n",
              "    <tr>\n",
              "      <th>order_hour_of_day</th>\n",
              "      <th></th>\n",
              "      <th></th>\n",
              "      <th></th>\n",
              "      <th></th>\n",
              "      <th></th>\n",
              "      <th></th>\n",
              "      <th></th>\n",
              "      <th></th>\n",
              "      <th></th>\n",
              "      <th></th>\n",
              "      <th></th>\n",
              "      <th></th>\n",
              "      <th></th>\n",
              "      <th></th>\n",
              "      <th></th>\n",
              "      <th></th>\n",
              "      <th></th>\n",
              "      <th></th>\n",
              "      <th></th>\n",
              "      <th></th>\n",
              "      <th></th>\n",
              "      <th></th>\n",
              "      <th></th>\n",
              "      <th></th>\n",
              "      <th></th>\n",
              "    </tr>\n",
              "  </thead>\n",
              "  <tbody>\n",
              "    <tr>\n",
              "      <th>0</th>\n",
              "      <td>0.351623</td>\n",
              "      <td>0.380346</td>\n",
              "      <td>0.300601</td>\n",
              "      <td>0.606333</td>\n",
              "      <td>0.408942</td>\n",
              "      <td>0.587066</td>\n",
              "      <td>0.341335</td>\n",
              "      <td>0.362677</td>\n",
              "      <td>0.358923</td>\n",
              "      <td>0.257069</td>\n",
              "      <td>0.445879</td>\n",
              "      <td>0.200334</td>\n",
              "      <td>0.378931</td>\n",
              "      <td>0.270270</td>\n",
              "      <td>0.568855</td>\n",
              "      <td>0.650441</td>\n",
              "      <td>0.298641</td>\n",
              "      <td>0.369600</td>\n",
              "      <td>0.363011</td>\n",
              "      <td>0.394255</td>\n",
              "      <td>0.446528</td>\n",
              "      <td>0.230521</td>\n",
              "      <td>0.277756</td>\n",
              "      <td>0.381808</td>\n",
              "      <td>0.712219</td>\n",
              "    </tr>\n",
              "    <tr>\n",
              "      <th>1</th>\n",
              "      <td>0.168486</td>\n",
              "      <td>0.225103</td>\n",
              "      <td>0.150301</td>\n",
              "      <td>0.291938</td>\n",
              "      <td>0.109051</td>\n",
              "      <td>0.257812</td>\n",
              "      <td>0.198194</td>\n",
              "      <td>0.131883</td>\n",
              "      <td>0.199402</td>\n",
              "      <td>0.160668</td>\n",
              "      <td>0.322878</td>\n",
              "      <td>0.033389</td>\n",
              "      <td>0.284199</td>\n",
              "      <td>0.216216</td>\n",
              "      <td>0.165916</td>\n",
              "      <td>0.314729</td>\n",
              "      <td>0.194117</td>\n",
              "      <td>0.254100</td>\n",
              "      <td>0.363011</td>\n",
              "      <td>0.140805</td>\n",
              "      <td>0.111632</td>\n",
              "      <td>0.115260</td>\n",
              "      <td>0.190461</td>\n",
              "      <td>0.303200</td>\n",
              "      <td>0.111284</td>\n",
              "    </tr>\n",
              "    <tr>\n",
              "      <th>2</th>\n",
              "      <td>0.102557</td>\n",
              "      <td>0.163006</td>\n",
              "      <td>0.075150</td>\n",
              "      <td>0.202111</td>\n",
              "      <td>0.163577</td>\n",
              "      <td>0.192582</td>\n",
              "      <td>0.154151</td>\n",
              "      <td>0.065941</td>\n",
              "      <td>0.059821</td>\n",
              "      <td>0.321337</td>\n",
              "      <td>0.246002</td>\n",
              "      <td>0.033389</td>\n",
              "      <td>0.132626</td>\n",
              "      <td>0.189189</td>\n",
              "      <td>0.165916</td>\n",
              "      <td>0.167856</td>\n",
              "      <td>0.089592</td>\n",
              "      <td>0.231000</td>\n",
              "      <td>0.171953</td>\n",
              "      <td>0.112644</td>\n",
              "      <td>0.089306</td>\n",
              "      <td>0.138313</td>\n",
              "      <td>0.047615</td>\n",
              "      <td>0.157215</td>\n",
              "      <td>0.155798</td>\n",
              "    </tr>\n",
              "    <tr>\n",
              "      <th>3</th>\n",
              "      <td>0.087906</td>\n",
              "      <td>0.046573</td>\n",
              "      <td>0.025050</td>\n",
              "      <td>0.157197</td>\n",
              "      <td>0.136314</td>\n",
              "      <td>0.114928</td>\n",
              "      <td>0.088086</td>\n",
              "      <td>0.131883</td>\n",
              "      <td>0.089731</td>\n",
              "      <td>0.128535</td>\n",
              "      <td>0.107626</td>\n",
              "      <td>0.000000</td>\n",
              "      <td>0.132626</td>\n",
              "      <td>0.054054</td>\n",
              "      <td>0.071107</td>\n",
              "      <td>0.083928</td>\n",
              "      <td>0.044796</td>\n",
              "      <td>0.207900</td>\n",
              "      <td>0.133741</td>\n",
              "      <td>0.014081</td>\n",
              "      <td>0.044653</td>\n",
              "      <td>0.046104</td>\n",
              "      <td>0.047615</td>\n",
              "      <td>0.078608</td>\n",
              "      <td>0.155798</td>\n",
              "    </tr>\n",
              "    <tr>\n",
              "      <th>4</th>\n",
              "      <td>0.102557</td>\n",
              "      <td>0.085384</td>\n",
              "      <td>0.075150</td>\n",
              "      <td>0.089827</td>\n",
              "      <td>0.000000</td>\n",
              "      <td>0.158415</td>\n",
              "      <td>0.066065</td>\n",
              "      <td>0.098912</td>\n",
              "      <td>0.079761</td>\n",
              "      <td>0.160668</td>\n",
              "      <td>0.107626</td>\n",
              "      <td>0.033389</td>\n",
              "      <td>0.037893</td>\n",
              "      <td>0.027027</td>\n",
              "      <td>0.071107</td>\n",
              "      <td>0.314729</td>\n",
              "      <td>0.029864</td>\n",
              "      <td>0.092400</td>\n",
              "      <td>0.133741</td>\n",
              "      <td>0.084483</td>\n",
              "      <td>0.111632</td>\n",
              "      <td>0.115260</td>\n",
              "      <td>0.095231</td>\n",
              "      <td>0.123526</td>\n",
              "      <td>0.133541</td>\n",
              "    </tr>\n",
              "    <tr>\n",
              "      <th>5</th>\n",
              "      <td>0.219764</td>\n",
              "      <td>0.170768</td>\n",
              "      <td>0.150301</td>\n",
              "      <td>0.157197</td>\n",
              "      <td>0.190840</td>\n",
              "      <td>0.195689</td>\n",
              "      <td>0.220216</td>\n",
              "      <td>0.131883</td>\n",
              "      <td>0.109671</td>\n",
              "      <td>0.257069</td>\n",
              "      <td>0.184502</td>\n",
              "      <td>0.133556</td>\n",
              "      <td>0.094733</td>\n",
              "      <td>0.216216</td>\n",
              "      <td>0.237023</td>\n",
              "      <td>0.356693</td>\n",
              "      <td>0.074660</td>\n",
              "      <td>0.300300</td>\n",
              "      <td>0.401223</td>\n",
              "      <td>0.183047</td>\n",
              "      <td>0.111632</td>\n",
              "      <td>0.230521</td>\n",
              "      <td>0.166653</td>\n",
              "      <td>0.247052</td>\n",
              "      <td>0.267082</td>\n",
              "    </tr>\n",
              "    <tr>\n",
              "      <th>6</th>\n",
              "      <td>0.461505</td>\n",
              "      <td>0.791741</td>\n",
              "      <td>0.651303</td>\n",
              "      <td>0.628790</td>\n",
              "      <td>0.790622</td>\n",
              "      <td>0.795179</td>\n",
              "      <td>0.792777</td>\n",
              "      <td>0.923178</td>\n",
              "      <td>0.518445</td>\n",
              "      <td>1.221080</td>\n",
              "      <td>0.830258</td>\n",
              "      <td>0.834725</td>\n",
              "      <td>0.227359</td>\n",
              "      <td>0.621622</td>\n",
              "      <td>0.853283</td>\n",
              "      <td>1.195971</td>\n",
              "      <td>0.447962</td>\n",
              "      <td>0.508201</td>\n",
              "      <td>1.165457</td>\n",
              "      <td>0.605463</td>\n",
              "      <td>0.513507</td>\n",
              "      <td>0.760719</td>\n",
              "      <td>0.372986</td>\n",
              "      <td>0.505334</td>\n",
              "      <td>0.890274</td>\n",
              "    </tr>\n",
              "    <tr>\n",
              "      <th>7</th>\n",
              "      <td>2.080434</td>\n",
              "      <td>2.522704</td>\n",
              "      <td>2.154309</td>\n",
              "      <td>1.594431</td>\n",
              "      <td>2.371865</td>\n",
              "      <td>2.717898</td>\n",
              "      <td>2.003964</td>\n",
              "      <td>2.901418</td>\n",
              "      <td>1.824526</td>\n",
              "      <td>3.116967</td>\n",
              "      <td>2.536900</td>\n",
              "      <td>3.171953</td>\n",
              "      <td>1.288367</td>\n",
              "      <td>2.243243</td>\n",
              "      <td>2.156909</td>\n",
              "      <td>2.769618</td>\n",
              "      <td>2.120352</td>\n",
              "      <td>1.801802</td>\n",
              "      <td>2.980512</td>\n",
              "      <td>1.957195</td>\n",
              "      <td>1.763787</td>\n",
              "      <td>2.973721</td>\n",
              "      <td>1.991905</td>\n",
              "      <td>2.156092</td>\n",
              "      <td>2.960160</td>\n",
              "    </tr>\n",
              "    <tr>\n",
              "      <th>8</th>\n",
              "      <td>6.336532</td>\n",
              "      <td>7.863075</td>\n",
              "      <td>7.314629</td>\n",
              "      <td>6.220525</td>\n",
              "      <td>6.597601</td>\n",
              "      <td>7.054109</td>\n",
              "      <td>7.322176</td>\n",
              "      <td>6.693043</td>\n",
              "      <td>6.011964</td>\n",
              "      <td>7.230077</td>\n",
              "      <td>7.241697</td>\n",
              "      <td>10.784641</td>\n",
              "      <td>5.191360</td>\n",
              "      <td>6.891892</td>\n",
              "      <td>5.570040</td>\n",
              "      <td>7.952161</td>\n",
              "      <td>6.614902</td>\n",
              "      <td>6.329406</td>\n",
              "      <td>7.202904</td>\n",
              "      <td>7.166995</td>\n",
              "      <td>5.626256</td>\n",
              "      <td>8.068234</td>\n",
              "      <td>7.031188</td>\n",
              "      <td>6.546884</td>\n",
              "      <td>6.766081</td>\n",
              "    </tr>\n",
              "    <tr>\n",
              "      <th>9</th>\n",
              "      <td>13.749908</td>\n",
              "      <td>14.181479</td>\n",
              "      <td>12.925852</td>\n",
              "      <td>13.743544</td>\n",
              "      <td>13.276990</td>\n",
              "      <td>12.527179</td>\n",
              "      <td>13.389121</td>\n",
              "      <td>13.550940</td>\n",
              "      <td>13.539382</td>\n",
              "      <td>13.624679</td>\n",
              "      <td>13.576261</td>\n",
              "      <td>16.026711</td>\n",
              "      <td>14.058355</td>\n",
              "      <td>14.405405</td>\n",
              "      <td>10.926760</td>\n",
              "      <td>11.414184</td>\n",
              "      <td>12.348813</td>\n",
              "      <td>13.282513</td>\n",
              "      <td>12.839129</td>\n",
              "      <td>13.644044</td>\n",
              "      <td>14.690779</td>\n",
              "      <td>14.015675</td>\n",
              "      <td>14.760733</td>\n",
              "      <td>12.330152</td>\n",
              "      <td>12.953483</td>\n",
              "    </tr>\n",
              "    <tr>\n",
              "      <th>10</th>\n",
              "      <td>14.980588</td>\n",
              "      <td>14.204766</td>\n",
              "      <td>14.529058</td>\n",
              "      <td>14.260049</td>\n",
              "      <td>13.195202</td>\n",
              "      <td>13.250916</td>\n",
              "      <td>14.236952</td>\n",
              "      <td>16.023739</td>\n",
              "      <td>14.366899</td>\n",
              "      <td>11.535990</td>\n",
              "      <td>11.992620</td>\n",
              "      <td>14.323873</td>\n",
              "      <td>15.687761</td>\n",
              "      <td>14.459459</td>\n",
              "      <td>14.410998</td>\n",
              "      <td>11.812841</td>\n",
              "      <td>14.827535</td>\n",
              "      <td>14.807115</td>\n",
              "      <td>12.724494</td>\n",
              "      <td>13.841172</td>\n",
              "      <td>16.075017</td>\n",
              "      <td>13.992623</td>\n",
              "      <td>14.728990</td>\n",
              "      <td>14.070747</td>\n",
              "      <td>12.285778</td>\n",
              "    </tr>\n",
              "    <tr>\n",
              "      <th>11</th>\n",
              "      <td>11.134715</td>\n",
              "      <td>11.309478</td>\n",
              "      <td>11.998998</td>\n",
              "      <td>11.497867</td>\n",
              "      <td>9.923664</td>\n",
              "      <td>10.551656</td>\n",
              "      <td>11.627395</td>\n",
              "      <td>10.517639</td>\n",
              "      <td>11.724826</td>\n",
              "      <td>8.772494</td>\n",
              "      <td>10.670357</td>\n",
              "      <td>9.749583</td>\n",
              "      <td>11.386889</td>\n",
              "      <td>12.378378</td>\n",
              "      <td>11.827447</td>\n",
              "      <td>10.700797</td>\n",
              "      <td>12.408541</td>\n",
              "      <td>12.820513</td>\n",
              "      <td>10.718380</td>\n",
              "      <td>11.208110</td>\n",
              "      <td>13.351194</td>\n",
              "      <td>12.309820</td>\n",
              "      <td>11.919689</td>\n",
              "      <td>12.128018</td>\n",
              "      <td>10.750056</td>\n",
              "    </tr>\n",
              "    <tr>\n",
              "      <th>12</th>\n",
              "      <td>7.706395</td>\n",
              "      <td>7.467205</td>\n",
              "      <td>8.817635</td>\n",
              "      <td>8.600943</td>\n",
              "      <td>8.751363</td>\n",
              "      <td>8.147481</td>\n",
              "      <td>8.236071</td>\n",
              "      <td>8.506429</td>\n",
              "      <td>8.305085</td>\n",
              "      <td>7.647815</td>\n",
              "      <td>7.995080</td>\n",
              "      <td>6.677796</td>\n",
              "      <td>8.336491</td>\n",
              "      <td>9.108108</td>\n",
              "      <td>9.077981</td>\n",
              "      <td>9.106169</td>\n",
              "      <td>8.227565</td>\n",
              "      <td>8.754909</td>\n",
              "      <td>7.909820</td>\n",
              "      <td>7.856942</td>\n",
              "      <td>7.992856</td>\n",
              "      <td>8.759797</td>\n",
              "      <td>7.991429</td>\n",
              "      <td>8.624368</td>\n",
              "      <td>8.190519</td>\n",
              "    </tr>\n",
              "    <tr>\n",
              "      <th>13</th>\n",
              "      <td>8.248480</td>\n",
              "      <td>7.506016</td>\n",
              "      <td>7.790581</td>\n",
              "      <td>7.590389</td>\n",
              "      <td>7.224646</td>\n",
              "      <td>7.737467</td>\n",
              "      <td>7.861704</td>\n",
              "      <td>7.616222</td>\n",
              "      <td>8.195414</td>\n",
              "      <td>8.451157</td>\n",
              "      <td>8.194957</td>\n",
              "      <td>7.111853</td>\n",
              "      <td>8.866995</td>\n",
              "      <td>7.459459</td>\n",
              "      <td>9.006874</td>\n",
              "      <td>7.637432</td>\n",
              "      <td>7.988652</td>\n",
              "      <td>8.316008</td>\n",
              "      <td>7.986244</td>\n",
              "      <td>8.265277</td>\n",
              "      <td>8.238446</td>\n",
              "      <td>7.330567</td>\n",
              "      <td>8.126339</td>\n",
              "      <td>9.197080</td>\n",
              "      <td>8.301803</td>\n",
              "    </tr>\n",
              "    <tr>\n",
              "      <th>14</th>\n",
              "      <td>8.050692</td>\n",
              "      <td>7.793216</td>\n",
              "      <td>8.266533</td>\n",
              "      <td>8.331462</td>\n",
              "      <td>8.015267</td>\n",
              "      <td>7.666025</td>\n",
              "      <td>8.092931</td>\n",
              "      <td>7.847016</td>\n",
              "      <td>8.344965</td>\n",
              "      <td>7.294344</td>\n",
              "      <td>6.964945</td>\n",
              "      <td>7.178631</td>\n",
              "      <td>8.469117</td>\n",
              "      <td>7.621622</td>\n",
              "      <td>8.438018</td>\n",
              "      <td>7.385648</td>\n",
              "      <td>8.466478</td>\n",
              "      <td>7.646108</td>\n",
              "      <td>7.776079</td>\n",
              "      <td>8.110391</td>\n",
              "      <td>7.747265</td>\n",
              "      <td>8.483172</td>\n",
              "      <td>7.912070</td>\n",
              "      <td>8.556990</td>\n",
              "      <td>7.789895</td>\n",
              "    </tr>\n",
              "    <tr>\n",
              "      <th>15</th>\n",
              "      <td>7.428027</td>\n",
              "      <td>7.211053</td>\n",
              "      <td>8.016032</td>\n",
              "      <td>7.163710</td>\n",
              "      <td>8.069793</td>\n",
              "      <td>7.277754</td>\n",
              "      <td>7.344197</td>\n",
              "      <td>6.726014</td>\n",
              "      <td>8.085743</td>\n",
              "      <td>7.840617</td>\n",
              "      <td>7.333948</td>\n",
              "      <td>7.412354</td>\n",
              "      <td>7.692308</td>\n",
              "      <td>7.162162</td>\n",
              "      <td>7.039583</td>\n",
              "      <td>7.259757</td>\n",
              "      <td>7.585486</td>\n",
              "      <td>6.606607</td>\n",
              "      <td>6.381353</td>\n",
              "      <td>7.504928</td>\n",
              "      <td>7.702612</td>\n",
              "      <td>7.584140</td>\n",
              "      <td>7.967622</td>\n",
              "      <td>8.343627</td>\n",
              "      <td>7.500556</td>\n",
              "    </tr>\n",
              "    <tr>\n",
              "      <th>16</th>\n",
              "      <td>6.556296</td>\n",
              "      <td>6.248545</td>\n",
              "      <td>6.112224</td>\n",
              "      <td>6.265439</td>\n",
              "      <td>6.815703</td>\n",
              "      <td>6.395602</td>\n",
              "      <td>6.243118</td>\n",
              "      <td>6.033630</td>\n",
              "      <td>6.370887</td>\n",
              "      <td>6.715938</td>\n",
              "      <td>6.442189</td>\n",
              "      <td>7.278798</td>\n",
              "      <td>6.650246</td>\n",
              "      <td>6.324324</td>\n",
              "      <td>6.849964</td>\n",
              "      <td>5.895930</td>\n",
              "      <td>6.555174</td>\n",
              "      <td>6.768307</td>\n",
              "      <td>5.980130</td>\n",
              "      <td>7.166995</td>\n",
              "      <td>6.273722</td>\n",
              "      <td>6.039650</td>\n",
              "      <td>6.650266</td>\n",
              "      <td>5.962942</td>\n",
              "      <td>5.786779</td>\n",
              "    </tr>\n",
              "    <tr>\n",
              "      <th>17</th>\n",
              "      <td>3.589481</td>\n",
              "      <td>3.516262</td>\n",
              "      <td>3.682365</td>\n",
              "      <td>4.154503</td>\n",
              "      <td>4.716467</td>\n",
              "      <td>4.162266</td>\n",
              "      <td>4.073993</td>\n",
              "      <td>3.231124</td>\n",
              "      <td>3.878365</td>\n",
              "      <td>5.848329</td>\n",
              "      <td>4.889299</td>\n",
              "      <td>3.706177</td>\n",
              "      <td>3.959833</td>\n",
              "      <td>3.594595</td>\n",
              "      <td>3.413131</td>\n",
              "      <td>3.860680</td>\n",
              "      <td>4.255637</td>\n",
              "      <td>3.742204</td>\n",
              "      <td>3.802063</td>\n",
              "      <td>3.759504</td>\n",
              "      <td>3.750837</td>\n",
              "      <td>3.434763</td>\n",
              "      <td>3.904452</td>\n",
              "      <td>3.582257</td>\n",
              "      <td>4.206544</td>\n",
              "    </tr>\n",
              "    <tr>\n",
              "      <th>18</th>\n",
              "      <td>2.124386</td>\n",
              "      <td>2.196693</td>\n",
              "      <td>2.129259</td>\n",
              "      <td>2.290591</td>\n",
              "      <td>2.753544</td>\n",
              "      <td>2.537740</td>\n",
              "      <td>1.882845</td>\n",
              "      <td>1.714474</td>\n",
              "      <td>1.854437</td>\n",
              "      <td>2.988432</td>\n",
              "      <td>2.429274</td>\n",
              "      <td>1.869783</td>\n",
              "      <td>1.856764</td>\n",
              "      <td>1.675676</td>\n",
              "      <td>2.370230</td>\n",
              "      <td>2.748636</td>\n",
              "      <td>2.135284</td>\n",
              "      <td>2.148302</td>\n",
              "      <td>2.598395</td>\n",
              "      <td>1.943115</td>\n",
              "      <td>1.518196</td>\n",
              "      <td>1.221761</td>\n",
              "      <td>1.706214</td>\n",
              "      <td>1.807973</td>\n",
              "      <td>2.893390</td>\n",
              "    </tr>\n",
              "    <tr>\n",
              "      <th>19</th>\n",
              "      <td>1.340561</td>\n",
              "      <td>1.335093</td>\n",
              "      <td>1.427856</td>\n",
              "      <td>1.167752</td>\n",
              "      <td>1.935660</td>\n",
              "      <td>1.751879</td>\n",
              "      <td>1.387360</td>\n",
              "      <td>1.384768</td>\n",
              "      <td>1.455633</td>\n",
              "      <td>2.185090</td>\n",
              "      <td>1.875769</td>\n",
              "      <td>0.934891</td>\n",
              "      <td>1.042061</td>\n",
              "      <td>1.297297</td>\n",
              "      <td>1.659161</td>\n",
              "      <td>2.475871</td>\n",
              "      <td>1.627594</td>\n",
              "      <td>1.386001</td>\n",
              "      <td>2.006114</td>\n",
              "      <td>1.323571</td>\n",
              "      <td>0.826077</td>\n",
              "      <td>0.899032</td>\n",
              "      <td>1.007857</td>\n",
              "      <td>1.111735</td>\n",
              "      <td>1.557979</td>\n",
              "    </tr>\n",
              "    <tr>\n",
              "      <th>20</th>\n",
              "      <td>1.560325</td>\n",
              "      <td>1.296282</td>\n",
              "      <td>0.876754</td>\n",
              "      <td>1.100382</td>\n",
              "      <td>1.499455</td>\n",
              "      <td>1.832640</td>\n",
              "      <td>1.112090</td>\n",
              "      <td>1.285856</td>\n",
              "      <td>1.415753</td>\n",
              "      <td>1.510283</td>\n",
              "      <td>1.814268</td>\n",
              "      <td>1.068447</td>\n",
              "      <td>1.098901</td>\n",
              "      <td>1.135135</td>\n",
              "      <td>1.777672</td>\n",
              "      <td>2.035250</td>\n",
              "      <td>1.060176</td>\n",
              "      <td>1.131901</td>\n",
              "      <td>2.120749</td>\n",
              "      <td>1.408054</td>\n",
              "      <td>0.870730</td>\n",
              "      <td>1.083449</td>\n",
              "      <td>0.849139</td>\n",
              "      <td>1.089276</td>\n",
              "      <td>1.602493</td>\n",
              "    </tr>\n",
              "    <tr>\n",
              "      <th>21</th>\n",
              "      <td>1.516372</td>\n",
              "      <td>1.412714</td>\n",
              "      <td>1.177355</td>\n",
              "      <td>1.302493</td>\n",
              "      <td>1.363141</td>\n",
              "      <td>1.699074</td>\n",
              "      <td>1.431403</td>\n",
              "      <td>1.681503</td>\n",
              "      <td>1.365902</td>\n",
              "      <td>1.285347</td>\n",
              "      <td>1.506765</td>\n",
              "      <td>0.767947</td>\n",
              "      <td>1.136794</td>\n",
              "      <td>1.162162</td>\n",
              "      <td>1.445840</td>\n",
              "      <td>1.552665</td>\n",
              "      <td>0.940720</td>\n",
              "      <td>1.039501</td>\n",
              "      <td>1.891479</td>\n",
              "      <td>1.478457</td>\n",
              "      <td>0.759098</td>\n",
              "      <td>0.806823</td>\n",
              "      <td>0.944369</td>\n",
              "      <td>1.021898</td>\n",
              "      <td>1.246383</td>\n",
              "    </tr>\n",
              "    <tr>\n",
              "      <th>22</th>\n",
              "      <td>1.201377</td>\n",
              "      <td>1.265233</td>\n",
              "      <td>0.801603</td>\n",
              "      <td>1.616887</td>\n",
              "      <td>0.872410</td>\n",
              "      <td>1.506492</td>\n",
              "      <td>1.134111</td>\n",
              "      <td>1.417738</td>\n",
              "      <td>1.056830</td>\n",
              "      <td>0.867609</td>\n",
              "      <td>1.368389</td>\n",
              "      <td>0.400668</td>\n",
              "      <td>1.117848</td>\n",
              "      <td>0.783784</td>\n",
              "      <td>1.066603</td>\n",
              "      <td>1.112044</td>\n",
              "      <td>0.880991</td>\n",
              "      <td>0.854701</td>\n",
              "      <td>1.452044</td>\n",
              "      <td>1.140524</td>\n",
              "      <td>0.669792</td>\n",
              "      <td>0.645459</td>\n",
              "      <td>0.817395</td>\n",
              "      <td>0.988209</td>\n",
              "      <td>1.557979</td>\n",
              "    </tr>\n",
              "    <tr>\n",
              "      <th>23</th>\n",
              "      <td>0.901033</td>\n",
              "      <td>0.807265</td>\n",
              "      <td>0.551102</td>\n",
              "      <td>0.965641</td>\n",
              "      <td>0.817884</td>\n",
              "      <td>0.882152</td>\n",
              "      <td>0.759745</td>\n",
              "      <td>1.022090</td>\n",
              "      <td>0.787637</td>\n",
              "      <td>0.578406</td>\n",
              "      <td>0.922509</td>\n",
              "      <td>0.267112</td>\n",
              "      <td>0.871542</td>\n",
              "      <td>0.702703</td>\n",
              "      <td>0.829580</td>\n",
              "      <td>1.195971</td>\n",
              "      <td>0.776467</td>\n",
              "      <td>0.600601</td>\n",
              "      <td>0.897975</td>\n",
              "      <td>0.689946</td>\n",
              "      <td>0.714445</td>\n",
              "      <td>0.714615</td>\n",
              "      <td>0.492024</td>\n",
              "      <td>0.685008</td>\n",
              "      <td>1.224126</td>\n",
              "    </tr>\n",
              "  </tbody>\n",
              "</table>\n",
              "</div>"
            ],
            "text/plain": [
              "product_name       0% Greek Strained Yogurt  ...  with Crispy Almonds Cereal\n",
              "order_hour_of_day                            ...                            \n",
              "0                                  0.351623  ...                    0.712219\n",
              "1                                  0.168486  ...                    0.111284\n",
              "2                                  0.102557  ...                    0.155798\n",
              "3                                  0.087906  ...                    0.155798\n",
              "4                                  0.102557  ...                    0.133541\n",
              "5                                  0.219764  ...                    0.267082\n",
              "6                                  0.461505  ...                    0.890274\n",
              "7                                  2.080434  ...                    2.960160\n",
              "8                                  6.336532  ...                    6.766081\n",
              "9                                 13.749908  ...                   12.953483\n",
              "10                                14.980588  ...                   12.285778\n",
              "11                                11.134715  ...                   10.750056\n",
              "12                                 7.706395  ...                    8.190519\n",
              "13                                 8.248480  ...                    8.301803\n",
              "14                                 8.050692  ...                    7.789895\n",
              "15                                 7.428027  ...                    7.500556\n",
              "16                                 6.556296  ...                    5.786779\n",
              "17                                 3.589481  ...                    4.206544\n",
              "18                                 2.124386  ...                    2.893390\n",
              "19                                 1.340561  ...                    1.557979\n",
              "20                                 1.560325  ...                    1.602493\n",
              "21                                 1.516372  ...                    1.246383\n",
              "22                                 1.201377  ...                    1.557979\n",
              "23                                 0.901033  ...                    1.224126\n",
              "\n",
              "[24 rows x 25 columns]"
            ]
          },
          "metadata": {
            "tags": []
          },
          "execution_count": 81
        }
      ]
    },
    {
      "cell_type": "code",
      "metadata": {
        "id": "IA3BMLnmKFT9",
        "colab_type": "code",
        "outputId": "2dfc4b78-a36d-48fd-9bf2-7e53b036d142",
        "colab": {
          "base_uri": "https://localhost:8080/",
          "height": 940
        }
      },
      "source": [
        "late_ct = pd.crosstab(late_df['order_hour_of_day'], late_df['product_name'], normalize='columns')*100\n",
        "late_ct"
      ],
      "execution_count": 82,
      "outputs": [
        {
          "output_type": "execute_result",
          "data": {
            "text/html": [
              "<div>\n",
              "<style scoped>\n",
              "    .dataframe tbody tr th:only-of-type {\n",
              "        vertical-align: middle;\n",
              "    }\n",
              "\n",
              "    .dataframe tbody tr th {\n",
              "        vertical-align: top;\n",
              "    }\n",
              "\n",
              "    .dataframe thead th {\n",
              "        text-align: right;\n",
              "    }\n",
              "</style>\n",
              "<table border=\"1\" class=\"dataframe\">\n",
              "  <thead>\n",
              "    <tr style=\"text-align: right;\">\n",
              "      <th>product_name</th>\n",
              "      <th>Americone Dream® Ice Cream</th>\n",
              "      <th>Birthday Cake Light Ice Cream</th>\n",
              "      <th>Caramel Cookie Crunch Gelato</th>\n",
              "      <th>Cherry Garcia Ice Cream</th>\n",
              "      <th>Chocolate Chip Cookie Dough Ice Cream</th>\n",
              "      <th>Chocolate Peanut Butter Cup Gelato</th>\n",
              "      <th>Chocolate Peanut Butter Ice Cream</th>\n",
              "      <th>Coconut Almond Minis Frozen Dessert Bars</th>\n",
              "      <th>Coffee Ice Cream</th>\n",
              "      <th>Half Baked Frozen Yogurt</th>\n",
              "      <th>Half Baked® Ice Cream</th>\n",
              "      <th>Mediterranean Mint Gelato</th>\n",
              "      <th>Milk and Cookies Ice Cream</th>\n",
              "      <th>Mint Chip</th>\n",
              "      <th>Mint Chocolate Chip Ice Cream</th>\n",
              "      <th>Phish Food® Ice Cream</th>\n",
              "      <th>Rising Crust Pepperoni Pizza</th>\n",
              "      <th>Roman Raspberry Sorbetto</th>\n",
              "      <th>Sea Salt Caramel Gelato</th>\n",
              "      <th>Sicilian Pistachio</th>\n",
              "      <th>Strawberry Ice Cream</th>\n",
              "      <th>The Tonight Dough™ Ice Cream</th>\n",
              "      <th>Vanilla Bean Ice Cream</th>\n",
              "      <th>Vanilla Bean Light Ice Cream</th>\n",
              "      <th>Vanilla Milk Chocolate Almond Ice Cream Bars</th>\n",
              "    </tr>\n",
              "    <tr>\n",
              "      <th>order_hour_of_day</th>\n",
              "      <th></th>\n",
              "      <th></th>\n",
              "      <th></th>\n",
              "      <th></th>\n",
              "      <th></th>\n",
              "      <th></th>\n",
              "      <th></th>\n",
              "      <th></th>\n",
              "      <th></th>\n",
              "      <th></th>\n",
              "      <th></th>\n",
              "      <th></th>\n",
              "      <th></th>\n",
              "      <th></th>\n",
              "      <th></th>\n",
              "      <th></th>\n",
              "      <th></th>\n",
              "      <th></th>\n",
              "      <th></th>\n",
              "      <th></th>\n",
              "      <th></th>\n",
              "      <th></th>\n",
              "      <th></th>\n",
              "      <th></th>\n",
              "      <th></th>\n",
              "    </tr>\n",
              "  </thead>\n",
              "  <tbody>\n",
              "    <tr>\n",
              "      <th>0</th>\n",
              "      <td>0.527377</td>\n",
              "      <td>0.567558</td>\n",
              "      <td>0.629701</td>\n",
              "      <td>0.934372</td>\n",
              "      <td>0.549386</td>\n",
              "      <td>0.532033</td>\n",
              "      <td>0.766493</td>\n",
              "      <td>0.722543</td>\n",
              "      <td>0.685105</td>\n",
              "      <td>0.536373</td>\n",
              "      <td>0.707168</td>\n",
              "      <td>0.600836</td>\n",
              "      <td>0.765843</td>\n",
              "      <td>0.749446</td>\n",
              "      <td>0.642817</td>\n",
              "      <td>0.566572</td>\n",
              "      <td>0.284753</td>\n",
              "      <td>0.597672</td>\n",
              "      <td>0.573641</td>\n",
              "      <td>0.985378</td>\n",
              "      <td>0.561710</td>\n",
              "      <td>0.573797</td>\n",
              "      <td>0.581395</td>\n",
              "      <td>0.843799</td>\n",
              "      <td>0.769231</td>\n",
              "    </tr>\n",
              "    <tr>\n",
              "      <th>1</th>\n",
              "      <td>0.418799</td>\n",
              "      <td>0.347858</td>\n",
              "      <td>0.384817</td>\n",
              "      <td>0.311457</td>\n",
              "      <td>0.444185</td>\n",
              "      <td>0.177344</td>\n",
              "      <td>0.465371</td>\n",
              "      <td>0.346821</td>\n",
              "      <td>0.532860</td>\n",
              "      <td>0.268186</td>\n",
              "      <td>0.401800</td>\n",
              "      <td>0.261233</td>\n",
              "      <td>0.402068</td>\n",
              "      <td>0.374723</td>\n",
              "      <td>0.307434</td>\n",
              "      <td>0.188857</td>\n",
              "      <td>0.232980</td>\n",
              "      <td>0.314564</td>\n",
              "      <td>0.315503</td>\n",
              "      <td>0.381437</td>\n",
              "      <td>0.421283</td>\n",
              "      <td>0.255021</td>\n",
              "      <td>0.344531</td>\n",
              "      <td>0.333595</td>\n",
              "      <td>0.303030</td>\n",
              "    </tr>\n",
              "    <tr>\n",
              "      <th>2</th>\n",
              "      <td>0.139600</td>\n",
              "      <td>0.292933</td>\n",
              "      <td>0.139934</td>\n",
              "      <td>0.222469</td>\n",
              "      <td>0.175336</td>\n",
              "      <td>0.066504</td>\n",
              "      <td>0.301122</td>\n",
              "      <td>0.317919</td>\n",
              "      <td>0.253743</td>\n",
              "      <td>0.268186</td>\n",
              "      <td>0.208936</td>\n",
              "      <td>0.117555</td>\n",
              "      <td>0.191461</td>\n",
              "      <td>0.153296</td>\n",
              "      <td>0.167691</td>\n",
              "      <td>0.062952</td>\n",
              "      <td>0.232980</td>\n",
              "      <td>0.251651</td>\n",
              "      <td>0.100387</td>\n",
              "      <td>0.445010</td>\n",
              "      <td>0.265252</td>\n",
              "      <td>0.095633</td>\n",
              "      <td>0.193798</td>\n",
              "      <td>0.451334</td>\n",
              "      <td>0.349650</td>\n",
              "    </tr>\n",
              "    <tr>\n",
              "      <th>3</th>\n",
              "      <td>0.077555</td>\n",
              "      <td>0.164775</td>\n",
              "      <td>0.122442</td>\n",
              "      <td>0.133482</td>\n",
              "      <td>0.116891</td>\n",
              "      <td>0.133008</td>\n",
              "      <td>0.273748</td>\n",
              "      <td>0.260116</td>\n",
              "      <td>0.152246</td>\n",
              "      <td>0.100570</td>\n",
              "      <td>0.080360</td>\n",
              "      <td>0.169801</td>\n",
              "      <td>0.114877</td>\n",
              "      <td>0.136263</td>\n",
              "      <td>0.139743</td>\n",
              "      <td>0.094429</td>\n",
              "      <td>0.155320</td>\n",
              "      <td>0.125826</td>\n",
              "      <td>0.157751</td>\n",
              "      <td>0.254291</td>\n",
              "      <td>0.187237</td>\n",
              "      <td>0.286898</td>\n",
              "      <td>0.064599</td>\n",
              "      <td>0.255102</td>\n",
              "      <td>0.186480</td>\n",
              "    </tr>\n",
              "    <tr>\n",
              "      <th>4</th>\n",
              "      <td>0.108578</td>\n",
              "      <td>0.128158</td>\n",
              "      <td>0.244884</td>\n",
              "      <td>0.200222</td>\n",
              "      <td>0.163647</td>\n",
              "      <td>0.177344</td>\n",
              "      <td>0.355872</td>\n",
              "      <td>0.173410</td>\n",
              "      <td>0.253743</td>\n",
              "      <td>0.067047</td>\n",
              "      <td>0.144648</td>\n",
              "      <td>0.091432</td>\n",
              "      <td>0.172315</td>\n",
              "      <td>0.153296</td>\n",
              "      <td>0.111794</td>\n",
              "      <td>0.157381</td>\n",
              "      <td>0.129433</td>\n",
              "      <td>0.251651</td>\n",
              "      <td>0.172092</td>\n",
              "      <td>0.286078</td>\n",
              "      <td>0.093618</td>\n",
              "      <td>0.095633</td>\n",
              "      <td>0.172265</td>\n",
              "      <td>0.117739</td>\n",
              "      <td>0.163170</td>\n",
              "    </tr>\n",
              "    <tr>\n",
              "      <th>5</th>\n",
              "      <td>0.232666</td>\n",
              "      <td>0.146466</td>\n",
              "      <td>0.192409</td>\n",
              "      <td>0.088988</td>\n",
              "      <td>0.245470</td>\n",
              "      <td>0.199512</td>\n",
              "      <td>0.410621</td>\n",
              "      <td>0.115607</td>\n",
              "      <td>0.177620</td>\n",
              "      <td>0.335233</td>\n",
              "      <td>0.160720</td>\n",
              "      <td>0.261233</td>\n",
              "      <td>0.229753</td>\n",
              "      <td>0.238460</td>\n",
              "      <td>0.251537</td>\n",
              "      <td>0.283286</td>\n",
              "      <td>0.129433</td>\n",
              "      <td>0.188739</td>\n",
              "      <td>0.172092</td>\n",
              "      <td>0.158932</td>\n",
              "      <td>0.280855</td>\n",
              "      <td>0.223143</td>\n",
              "      <td>0.301464</td>\n",
              "      <td>0.294349</td>\n",
              "      <td>0.163170</td>\n",
              "    </tr>\n",
              "    <tr>\n",
              "      <th>6</th>\n",
              "      <td>0.651466</td>\n",
              "      <td>0.439399</td>\n",
              "      <td>0.752143</td>\n",
              "      <td>0.734149</td>\n",
              "      <td>0.654588</td>\n",
              "      <td>0.908889</td>\n",
              "      <td>1.313989</td>\n",
              "      <td>0.635838</td>\n",
              "      <td>0.608982</td>\n",
              "      <td>0.603419</td>\n",
              "      <td>0.466088</td>\n",
              "      <td>0.496343</td>\n",
              "      <td>0.593529</td>\n",
              "      <td>0.613183</td>\n",
              "      <td>0.642817</td>\n",
              "      <td>0.598048</td>\n",
              "      <td>0.621279</td>\n",
              "      <td>0.534759</td>\n",
              "      <td>0.659687</td>\n",
              "      <td>0.254291</td>\n",
              "      <td>0.546107</td>\n",
              "      <td>0.828817</td>\n",
              "      <td>0.473730</td>\n",
              "      <td>0.588697</td>\n",
              "      <td>0.419580</td>\n",
              "    </tr>\n",
              "    <tr>\n",
              "      <th>7</th>\n",
              "      <td>1.938886</td>\n",
              "      <td>1.885756</td>\n",
              "      <td>1.889103</td>\n",
              "      <td>1.624027</td>\n",
              "      <td>1.835184</td>\n",
              "      <td>1.729107</td>\n",
              "      <td>2.217356</td>\n",
              "      <td>1.878613</td>\n",
              "      <td>1.623953</td>\n",
              "      <td>1.977875</td>\n",
              "      <td>1.446480</td>\n",
              "      <td>2.155172</td>\n",
              "      <td>1.818878</td>\n",
              "      <td>1.703287</td>\n",
              "      <td>2.096143</td>\n",
              "      <td>1.857098</td>\n",
              "      <td>1.553197</td>\n",
              "      <td>2.013212</td>\n",
              "      <td>2.079449</td>\n",
              "      <td>1.525747</td>\n",
              "      <td>1.419878</td>\n",
              "      <td>1.657635</td>\n",
              "      <td>1.916451</td>\n",
              "      <td>1.883830</td>\n",
              "      <td>1.888112</td>\n",
              "    </tr>\n",
              "    <tr>\n",
              "      <th>8</th>\n",
              "      <td>3.396929</td>\n",
              "      <td>3.295496</td>\n",
              "      <td>3.305930</td>\n",
              "      <td>3.670745</td>\n",
              "      <td>3.787259</td>\n",
              "      <td>3.192197</td>\n",
              "      <td>3.859841</td>\n",
              "      <td>3.815029</td>\n",
              "      <td>3.298655</td>\n",
              "      <td>2.983574</td>\n",
              "      <td>3.262617</td>\n",
              "      <td>3.578892</td>\n",
              "      <td>3.561172</td>\n",
              "      <td>3.270312</td>\n",
              "      <td>3.409726</td>\n",
              "      <td>3.462386</td>\n",
              "      <td>3.624126</td>\n",
              "      <td>3.869141</td>\n",
              "      <td>4.158899</td>\n",
              "      <td>2.701844</td>\n",
              "      <td>3.245436</td>\n",
              "      <td>2.996493</td>\n",
              "      <td>3.875969</td>\n",
              "      <td>3.159341</td>\n",
              "      <td>3.613054</td>\n",
              "    </tr>\n",
              "    <tr>\n",
              "      <th>9</th>\n",
              "      <td>4.917016</td>\n",
              "      <td>5.382644</td>\n",
              "      <td>4.915165</td>\n",
              "      <td>4.738598</td>\n",
              "      <td>5.423729</td>\n",
              "      <td>4.588783</td>\n",
              "      <td>5.255954</td>\n",
              "      <td>4.653179</td>\n",
              "      <td>5.353971</td>\n",
              "      <td>4.290982</td>\n",
              "      <td>4.693025</td>\n",
              "      <td>5.002612</td>\n",
              "      <td>5.150297</td>\n",
              "      <td>5.825243</td>\n",
              "      <td>5.617663</td>\n",
              "      <td>5.193579</td>\n",
              "      <td>5.772716</td>\n",
              "      <td>4.529726</td>\n",
              "      <td>6.008891</td>\n",
              "      <td>4.767959</td>\n",
              "      <td>5.305040</td>\n",
              "      <td>4.717883</td>\n",
              "      <td>6.395349</td>\n",
              "      <td>4.807692</td>\n",
              "      <td>5.407925</td>\n",
              "    </tr>\n",
              "    <tr>\n",
              "      <th>10</th>\n",
              "      <td>6.002792</td>\n",
              "      <td>6.133285</td>\n",
              "      <td>6.034634</td>\n",
              "      <td>5.717464</td>\n",
              "      <td>5.587376</td>\n",
              "      <td>5.675017</td>\n",
              "      <td>6.049822</td>\n",
              "      <td>6.647399</td>\n",
              "      <td>6.445065</td>\n",
              "      <td>5.900101</td>\n",
              "      <td>5.689489</td>\n",
              "      <td>5.943051</td>\n",
              "      <td>5.782118</td>\n",
              "      <td>6.012604</td>\n",
              "      <td>6.316378</td>\n",
              "      <td>5.602770</td>\n",
              "      <td>7.170593</td>\n",
              "      <td>6.668764</td>\n",
              "      <td>6.711602</td>\n",
              "      <td>6.071202</td>\n",
              "      <td>6.397254</td>\n",
              "      <td>5.132292</td>\n",
              "      <td>6.546081</td>\n",
              "      <td>6.456044</td>\n",
              "      <td>7.202797</td>\n",
              "    </tr>\n",
              "    <tr>\n",
              "      <th>11</th>\n",
              "      <td>6.281992</td>\n",
              "      <td>6.938850</td>\n",
              "      <td>6.611859</td>\n",
              "      <td>6.362625</td>\n",
              "      <td>7.329047</td>\n",
              "      <td>6.517402</td>\n",
              "      <td>6.214071</td>\n",
              "      <td>7.456647</td>\n",
              "      <td>6.495813</td>\n",
              "      <td>6.771706</td>\n",
              "      <td>7.168113</td>\n",
              "      <td>6.778997</td>\n",
              "      <td>6.433084</td>\n",
              "      <td>6.847215</td>\n",
              "      <td>7.015092</td>\n",
              "      <td>6.861819</td>\n",
              "      <td>7.610665</td>\n",
              "      <td>6.794589</td>\n",
              "      <td>7.156174</td>\n",
              "      <td>7.533376</td>\n",
              "      <td>6.662506</td>\n",
              "      <td>6.662416</td>\n",
              "      <td>7.472007</td>\n",
              "      <td>6.671900</td>\n",
              "      <td>7.226107</td>\n",
              "    </tr>\n",
              "    <tr>\n",
              "      <th>12</th>\n",
              "      <td>6.592213</td>\n",
              "      <td>7.890882</td>\n",
              "      <td>7.538919</td>\n",
              "      <td>8.075640</td>\n",
              "      <td>7.773232</td>\n",
              "      <td>8.180004</td>\n",
              "      <td>6.706816</td>\n",
              "      <td>6.705202</td>\n",
              "      <td>7.561533</td>\n",
              "      <td>6.503520</td>\n",
              "      <td>7.441337</td>\n",
              "      <td>7.889237</td>\n",
              "      <td>7.486119</td>\n",
              "      <td>7.153807</td>\n",
              "      <td>7.070989</td>\n",
              "      <td>7.522820</td>\n",
              "      <td>8.620243</td>\n",
              "      <td>7.360805</td>\n",
              "      <td>7.772838</td>\n",
              "      <td>8.010172</td>\n",
              "      <td>7.895147</td>\n",
              "      <td>6.758049</td>\n",
              "      <td>7.062877</td>\n",
              "      <td>7.339089</td>\n",
              "      <td>7.715618</td>\n",
              "    </tr>\n",
              "    <tr>\n",
              "      <th>13</th>\n",
              "      <td>8.329456</td>\n",
              "      <td>7.652874</td>\n",
              "      <td>8.081161</td>\n",
              "      <td>8.342603</td>\n",
              "      <td>8.018703</td>\n",
              "      <td>8.357349</td>\n",
              "      <td>7.281686</td>\n",
              "      <td>8.815029</td>\n",
              "      <td>7.916772</td>\n",
              "      <td>7.877975</td>\n",
              "      <td>7.280617</td>\n",
              "      <td>8.241902</td>\n",
              "      <td>7.352096</td>\n",
              "      <td>8.346108</td>\n",
              "      <td>8.664058</td>\n",
              "      <td>7.837583</td>\n",
              "      <td>8.283717</td>\n",
              "      <td>8.744888</td>\n",
              "      <td>7.916248</td>\n",
              "      <td>6.897648</td>\n",
              "      <td>8.472461</td>\n",
              "      <td>7.586866</td>\n",
              "      <td>8.484065</td>\n",
              "      <td>8.045526</td>\n",
              "      <td>7.855478</td>\n",
              "    </tr>\n",
              "    <tr>\n",
              "      <th>14</th>\n",
              "      <td>8.577633</td>\n",
              "      <td>8.531673</td>\n",
              "      <td>8.990729</td>\n",
              "      <td>8.164627</td>\n",
              "      <td>8.474576</td>\n",
              "      <td>9.465750</td>\n",
              "      <td>8.020805</td>\n",
              "      <td>8.497110</td>\n",
              "      <td>7.764527</td>\n",
              "      <td>8.447871</td>\n",
              "      <td>8.727097</td>\n",
              "      <td>8.490073</td>\n",
              "      <td>7.754164</td>\n",
              "      <td>8.805996</td>\n",
              "      <td>8.608161</td>\n",
              "      <td>8.624489</td>\n",
              "      <td>8.413150</td>\n",
              "      <td>8.430324</td>\n",
              "      <td>7.901907</td>\n",
              "      <td>7.851240</td>\n",
              "      <td>9.002965</td>\n",
              "      <td>7.554989</td>\n",
              "      <td>9.345392</td>\n",
              "      <td>8.673469</td>\n",
              "      <td>8.205128</td>\n",
              "    </tr>\n",
              "    <tr>\n",
              "      <th>15</th>\n",
              "      <td>8.763766</td>\n",
              "      <td>9.264006</td>\n",
              "      <td>10.232639</td>\n",
              "      <td>8.965517</td>\n",
              "      <td>9.094097</td>\n",
              "      <td>9.465750</td>\n",
              "      <td>9.280044</td>\n",
              "      <td>8.872832</td>\n",
              "      <td>9.185486</td>\n",
              "      <td>9.520617</td>\n",
              "      <td>9.161041</td>\n",
              "      <td>9.587252</td>\n",
              "      <td>9.094390</td>\n",
              "      <td>9.930165</td>\n",
              "      <td>9.306875</td>\n",
              "      <td>8.309726</td>\n",
              "      <td>8.076624</td>\n",
              "      <td>8.839258</td>\n",
              "      <td>9.379033</td>\n",
              "      <td>9.726637</td>\n",
              "      <td>8.737713</td>\n",
              "      <td>9.690787</td>\n",
              "      <td>9.194660</td>\n",
              "      <td>9.007064</td>\n",
              "      <td>8.857809</td>\n",
              "    </tr>\n",
              "    <tr>\n",
              "      <th>16</th>\n",
              "      <td>10.020164</td>\n",
              "      <td>8.421824</td>\n",
              "      <td>9.515480</td>\n",
              "      <td>9.299221</td>\n",
              "      <td>9.175921</td>\n",
              "      <td>10.042119</td>\n",
              "      <td>8.978921</td>\n",
              "      <td>10.115607</td>\n",
              "      <td>9.794468</td>\n",
              "      <td>9.218907</td>\n",
              "      <td>9.900354</td>\n",
              "      <td>9.508882</td>\n",
              "      <td>9.687919</td>\n",
              "      <td>9.146653</td>\n",
              "      <td>9.614310</td>\n",
              "      <td>9.631728</td>\n",
              "      <td>9.629821</td>\n",
              "      <td>9.153822</td>\n",
              "      <td>8.877097</td>\n",
              "      <td>10.584870</td>\n",
              "      <td>9.221407</td>\n",
              "      <td>9.212624</td>\n",
              "      <td>8.677864</td>\n",
              "      <td>8.437991</td>\n",
              "      <td>8.927739</td>\n",
              "    </tr>\n",
              "    <tr>\n",
              "      <th>17</th>\n",
              "      <td>8.794788</td>\n",
              "      <td>8.549982</td>\n",
              "      <td>8.413504</td>\n",
              "      <td>9.410456</td>\n",
              "      <td>8.451198</td>\n",
              "      <td>8.135668</td>\n",
              "      <td>8.759923</td>\n",
              "      <td>8.323699</td>\n",
              "      <td>8.424258</td>\n",
              "      <td>8.481395</td>\n",
              "      <td>9.386050</td>\n",
              "      <td>8.503135</td>\n",
              "      <td>9.151828</td>\n",
              "      <td>8.584568</td>\n",
              "      <td>8.608161</td>\n",
              "      <td>9.159585</td>\n",
              "      <td>9.629821</td>\n",
              "      <td>8.147216</td>\n",
              "      <td>7.959271</td>\n",
              "      <td>8.169104</td>\n",
              "      <td>8.410048</td>\n",
              "      <td>9.595155</td>\n",
              "      <td>7.730405</td>\n",
              "      <td>8.673469</td>\n",
              "      <td>8.344988</td>\n",
              "    </tr>\n",
              "    <tr>\n",
              "      <th>18</th>\n",
              "      <td>8.174345</td>\n",
              "      <td>8.128891</td>\n",
              "      <td>7.591394</td>\n",
              "      <td>7.652948</td>\n",
              "      <td>7.726476</td>\n",
              "      <td>7.736644</td>\n",
              "      <td>7.528059</td>\n",
              "      <td>6.358382</td>\n",
              "      <td>7.612281</td>\n",
              "      <td>8.548441</td>\n",
              "      <td>8.791385</td>\n",
              "      <td>7.471264</td>\n",
              "      <td>8.117940</td>\n",
              "      <td>6.915347</td>\n",
              "      <td>6.903298</td>\n",
              "      <td>8.404155</td>\n",
              "      <td>7.636552</td>\n",
              "      <td>7.706826</td>\n",
              "      <td>7.127492</td>\n",
              "      <td>7.310871</td>\n",
              "      <td>7.380247</td>\n",
              "      <td>9.690787</td>\n",
              "      <td>6.761413</td>\n",
              "      <td>7.967033</td>\n",
              "      <td>7.156177</td>\n",
              "    </tr>\n",
              "    <tr>\n",
              "      <th>19</th>\n",
              "      <td>6.886924</td>\n",
              "      <td>6.517759</td>\n",
              "      <td>5.352458</td>\n",
              "      <td>6.051168</td>\n",
              "      <td>5.692577</td>\n",
              "      <td>6.583906</td>\n",
              "      <td>6.241445</td>\n",
              "      <td>5.867052</td>\n",
              "      <td>6.343568</td>\n",
              "      <td>6.637613</td>\n",
              "      <td>6.252009</td>\n",
              "      <td>6.008359</td>\n",
              "      <td>6.241624</td>\n",
              "      <td>6.285130</td>\n",
              "      <td>6.204584</td>\n",
              "      <td>6.452628</td>\n",
              "      <td>5.643282</td>\n",
              "      <td>5.347594</td>\n",
              "      <td>5.406568</td>\n",
              "      <td>6.706929</td>\n",
              "      <td>5.835544</td>\n",
              "      <td>8.065030</td>\n",
              "      <td>5.469423</td>\n",
              "      <td>6.299058</td>\n",
              "      <td>6.247086</td>\n",
              "    </tr>\n",
              "    <tr>\n",
              "      <th>20</th>\n",
              "      <td>4.001861</td>\n",
              "      <td>4.101062</td>\n",
              "      <td>4.285464</td>\n",
              "      <td>4.427141</td>\n",
              "      <td>4.184687</td>\n",
              "      <td>3.702062</td>\n",
              "      <td>4.489461</td>\n",
              "      <td>3.843931</td>\n",
              "      <td>4.440497</td>\n",
              "      <td>4.927925</td>\n",
              "      <td>3.905497</td>\n",
              "      <td>4.022989</td>\n",
              "      <td>4.058970</td>\n",
              "      <td>3.849429</td>\n",
              "      <td>3.521520</td>\n",
              "      <td>4.186339</td>\n",
              "      <td>3.235827</td>\n",
              "      <td>4.057880</td>\n",
              "      <td>3.685645</td>\n",
              "      <td>3.846154</td>\n",
              "      <td>4.119207</td>\n",
              "      <td>4.175964</td>\n",
              "      <td>3.488372</td>\n",
              "      <td>4.218995</td>\n",
              "      <td>4.522145</td>\n",
              "    </tr>\n",
              "    <tr>\n",
              "      <th>21</th>\n",
              "      <td>2.528308</td>\n",
              "      <td>2.380081</td>\n",
              "      <td>2.273920</td>\n",
              "      <td>2.558398</td>\n",
              "      <td>2.279369</td>\n",
              "      <td>2.105963</td>\n",
              "      <td>2.764851</td>\n",
              "      <td>2.369942</td>\n",
              "      <td>2.410556</td>\n",
              "      <td>2.883004</td>\n",
              "      <td>2.217936</td>\n",
              "      <td>2.311912</td>\n",
              "      <td>2.431553</td>\n",
              "      <td>2.299438</td>\n",
              "      <td>2.375629</td>\n",
              "      <td>2.581051</td>\n",
              "      <td>1.423764</td>\n",
              "      <td>2.705253</td>\n",
              "      <td>2.366270</td>\n",
              "      <td>2.542912</td>\n",
              "      <td>2.340459</td>\n",
              "      <td>2.231431</td>\n",
              "      <td>2.433247</td>\n",
              "      <td>2.158556</td>\n",
              "      <td>1.911422</td>\n",
              "    </tr>\n",
              "    <tr>\n",
              "      <th>22</th>\n",
              "      <td>1.613153</td>\n",
              "      <td>1.885756</td>\n",
              "      <td>1.556761</td>\n",
              "      <td>1.446051</td>\n",
              "      <td>1.624781</td>\n",
              "      <td>1.352250</td>\n",
              "      <td>1.587736</td>\n",
              "      <td>2.109827</td>\n",
              "      <td>1.598579</td>\n",
              "      <td>1.642642</td>\n",
              "      <td>1.446480</td>\n",
              "      <td>1.554336</td>\n",
              "      <td>2.029485</td>\n",
              "      <td>1.584057</td>\n",
              "      <td>1.481274</td>\n",
              "      <td>1.322002</td>\n",
              "      <td>1.139011</td>\n",
              "      <td>2.076125</td>\n",
              "      <td>1.964721</td>\n",
              "      <td>1.557533</td>\n",
              "      <td>1.919176</td>\n",
              "      <td>1.211348</td>\n",
              "      <td>1.550388</td>\n",
              "      <td>2.099686</td>\n",
              "      <td>1.608392</td>\n",
              "    </tr>\n",
              "    <tr>\n",
              "      <th>23</th>\n",
              "      <td>1.023732</td>\n",
              "      <td>0.952032</td>\n",
              "      <td>0.944551</td>\n",
              "      <td>0.867631</td>\n",
              "      <td>1.192285</td>\n",
              "      <td>0.975393</td>\n",
              "      <td>0.875992</td>\n",
              "      <td>1.098266</td>\n",
              "      <td>1.065719</td>\n",
              "      <td>1.206839</td>\n",
              "      <td>1.060752</td>\n",
              "      <td>0.953501</td>\n",
              "      <td>1.378518</td>\n",
              "      <td>1.021972</td>\n",
              "      <td>0.922303</td>\n",
              "      <td>1.038716</td>\n",
              "      <td>0.750712</td>\n",
              "      <td>1.289714</td>\n",
              "      <td>1.376739</td>\n",
              "      <td>1.430388</td>\n",
              "      <td>1.279451</td>\n",
              "      <td>0.701307</td>\n",
              "      <td>1.464255</td>\n",
              "      <td>1.216641</td>\n",
              "      <td>0.955711</td>\n",
              "    </tr>\n",
              "  </tbody>\n",
              "</table>\n",
              "</div>"
            ],
            "text/plain": [
              "product_name       Americone Dream® Ice Cream  ...  Vanilla Milk Chocolate Almond Ice Cream Bars\n",
              "order_hour_of_day                              ...                                              \n",
              "0                                    0.527377  ...                                      0.769231\n",
              "1                                    0.418799  ...                                      0.303030\n",
              "2                                    0.139600  ...                                      0.349650\n",
              "3                                    0.077555  ...                                      0.186480\n",
              "4                                    0.108578  ...                                      0.163170\n",
              "5                                    0.232666  ...                                      0.163170\n",
              "6                                    0.651466  ...                                      0.419580\n",
              "7                                    1.938886  ...                                      1.888112\n",
              "8                                    3.396929  ...                                      3.613054\n",
              "9                                    4.917016  ...                                      5.407925\n",
              "10                                   6.002792  ...                                      7.202797\n",
              "11                                   6.281992  ...                                      7.226107\n",
              "12                                   6.592213  ...                                      7.715618\n",
              "13                                   8.329456  ...                                      7.855478\n",
              "14                                   8.577633  ...                                      8.205128\n",
              "15                                   8.763766  ...                                      8.857809\n",
              "16                                  10.020164  ...                                      8.927739\n",
              "17                                   8.794788  ...                                      8.344988\n",
              "18                                   8.174345  ...                                      7.156177\n",
              "19                                   6.886924  ...                                      6.247086\n",
              "20                                   4.001861  ...                                      4.522145\n",
              "21                                   2.528308  ...                                      1.911422\n",
              "22                                   1.613153  ...                                      1.608392\n",
              "23                                   1.023732  ...                                      0.955711\n",
              "\n",
              "[24 rows x 25 columns]"
            ]
          },
          "metadata": {
            "tags": []
          },
          "execution_count": 82
        }
      ]
    },
    {
      "cell_type": "code",
      "metadata": {
        "id": "HWVIGRUNKNM3",
        "colab_type": "code",
        "outputId": "00b5619d-1166-4f79-80d7-3f157455d9eb",
        "colab": {
          "base_uri": "https://localhost:8080/",
          "height": 284
        }
      },
      "source": [
        "early_ct.plot(legend=False);"
      ],
      "execution_count": 83,
      "outputs": [
        {
          "output_type": "display_data",
          "data": {
            "image/png": "[encoded data removed]",
            "text/plain": [
              "<Figure size 432x288 with 1 Axes>"
            ]
          },
          "metadata": {
            "tags": []
          }
        }
      ]
    },
    {
      "cell_type": "code",
      "metadata": {
        "id": "gXAeMWHUK2KB",
        "colab_type": "code",
        "outputId": "4c5d516d-156b-48b8-e7f2-622ea83668bc",
        "colab": {
          "base_uri": "https://localhost:8080/",
          "height": 433
        }
      },
      "source": [
        "late_ct.plot();"
      ],
      "execution_count": 84,
      "outputs": [
        {
          "output_type": "display_data",
          "data": {
            "image/png": "[encoded data removed]",
            "text/plain": [
              "<Figure size 432x288 with 1 Axes>"
            ]
          },
          "metadata": {
            "tags": []
          }
        }
      ]
    },
    {
      "cell_type": "code",
      "metadata": {
        "id": "_xpPkMwMT7-_",
        "colab_type": "code",
        "colab": {}
      },
      "source": [
        "import matplotlib.pyplot as plt\n",
        "%matplotlib inline"
      ],
      "execution_count": 0,
      "outputs": []
    },
    {
      "cell_type": "code",
      "metadata": {
        "id": "7eudpO2YZ1_2",
        "colab_type": "code",
        "colab": {}
      },
      "source": [
        "early_product_names = early_names_df['product_name'].to_list()\n",
        "early_product_names = '\\n'.join(early_product_names)\n",
        "late_product_names = late_names_df['product_name'].to_list()\n",
        "late_product_names = '\\n'.join(late_product_names)"
      ],
      "execution_count": 0,
      "outputs": []
    },
    {
      "cell_type": "code",
      "metadata": {
        "id": "cIpnDlFESnRW",
        "colab_type": "code",
        "outputId": "8420069b-f1cc-4975-a4c6-89d4d208c8ae",
        "colab": {
          "base_uri": "https://localhost:8080/",
          "height": 500
        }
      },
      "source": [
        "fig = plt.figure(figsize=(13,8))\n",
        "ax = plt.axes()\n",
        "\n",
        "late_ct.plot(ax=ax, \n",
        "             legend=False,\n",
        "             alpha=0.2,\n",
        "             color='red',\n",
        "             linewidth=1.2)\n",
        "# early_ct.plot(ax=ax, \n",
        "#              legend=False,\n",
        "#              alpha=0.2,\n",
        "#              color='green')\n",
        "\n",
        "plt.xticks(range(0, 25, 2))\n",
        "plt.yticks(range(0, 16, 5))\n",
        "plt.xlim([-1, 32])\n",
        "\n",
        "plt.vlines(x=12, ymin=0, ymax=16, alpha=0.5, color='gray', linestyle='dashed', linewidth=1.0)\n",
        "\n",
        "for spine in ax.spines.values():\n",
        "    spine.set_visible(False)\n",
        "\n",
        "ax.text(0.99, 0.95, late_product_names,\n",
        "        verticalalignment='top', horizontalalignment='right',\n",
        "        transform=ax.transAxes,\n",
        "        color='darkred', fontsize=10)\n",
        "\n",
        "plt.xlabel('Hour of Day Ordered')\n",
        "plt.ylabel('Percent of Orders by Product')\n",
        "\n",
        "plt.show()"
      ],
      "execution_count": 87,
      "outputs": [
        {
          "output_type": "display_data",
          "data": {
            "image/png": "[encoded data removed]",
            "text/plain": [
              "<Figure size 936x576 with 1 Axes>"
            ]
          },
          "metadata": {
            "tags": []
          }
        }
      ]
    },
    {
      "cell_type": "code",
      "metadata": {
        "id": "DVXtwPnwU7Dh",
        "colab_type": "code",
        "outputId": "328aa115-1b10-42bb-a407-511379410c92",
        "colab": {
          "base_uri": "https://localhost:8080/",
          "height": 382
        }
      },
      "source": [
        "display(example)\n",
        "# 1471 x 888"
      ],
      "execution_count": 88,
      "outputs": [
        {
          "output_type": "display_data",
          "data": {
            "text/html": [
              "<img src=\"https://cdn-images-1.medium.com/max/1600/1*wKfV6OV-_1Ipwrl7AjjSuw.png\" width=\"600\"/>"
            ],
            "text/plain": [
              "<IPython.core.display.Image object>"
            ]
          },
          "metadata": {
            "tags": []
          }
        }
      ]
    },
    {
      "cell_type": "code",
      "metadata": {
        "id": "TzWLZyva8QG6",
        "colab_type": "code",
        "colab": {}
      },
      "source": [
        "# Your challenge is to reproduce the list of the top 25 latest ordered popular products.\n",
        "# We can also see the time of day that users purchase specific products\n",
        "# get only products with more than 2900"
      ],
      "execution_count": 0,
      "outputs": []
    }
  ]
}